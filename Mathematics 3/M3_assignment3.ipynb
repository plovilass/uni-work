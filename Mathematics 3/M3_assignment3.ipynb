{
 "cells": [
  {
   "cell_type": "markdown",
   "metadata": {
    "deletable": false,
    "editable": false,
    "nbgrader": {
     "cell_type": "markdown",
     "checksum": "36b6ceb6778220c69074d0d2020fbdca",
     "grade": false,
     "grade_id": "cell-435335db3f3bd389",
     "locked": true,
     "schema_version": 3,
     "solution": false,
     "task": false
    }
   },
   "source": [
    "# Homework Assignment 3: Google PageRank\n",
    "\n",
    "In this assignment we will explore how eigenvalues and eigenvectors are used by Google to rank web pages in their search engine. This so called PageRank algorithm (developed by Larry Page and Sergey Brin, the founders of Google) revolutionized web search. According to Google, PageRank works by counting the number and quality of links to a page to determine a rough estimate of how important the website is. The underlying assumption is that more important websites are likely to receive more links from other websites. \n",
    "\n",
    "## Linear Algebra with NumPy\n",
    "\n",
    "In the previous assignment we introduced the NumPy library to deal with matrices and vectors in Python. Before the dive into PageRank, we will first cover some basic linear algebra concepts that the NumPy library supports inside its submodule `linalg`."
   ]
  },
  {
   "cell_type": "code",
   "execution_count": 47,
   "metadata": {
    "execution": {
     "iopub.execute_input": "2025-09-21T13:01:49.798140Z",
     "iopub.status.busy": "2025-09-21T13:01:49.797762Z",
     "iopub.status.idle": "2025-09-21T13:01:49.803542Z",
     "shell.execute_reply": "2025-09-21T13:01:49.802933Z",
     "shell.execute_reply.started": "2025-09-21T13:01:49.798116Z"
    }
   },
   "outputs": [
    {
     "name": "stdout",
     "output_type": "stream",
     "text": [
      "x = \n",
      " [1 2 3] \n",
      "\n",
      "A = \n",
      " [[ 2 -3  4]\n",
      " [ 0  0 -1]\n",
      " [ 1 -2  1]] \n",
      "\n",
      "B = \n",
      " [[1. 1. 1.]\n",
      " [1. 1. 1.]] \n",
      "\n",
      "b = \n",
      " [0 2 0]\n"
     ]
    }
   ],
   "source": [
    "import numpy as np \n",
    "import numpy.linalg as la\n",
    "\n",
    "x = np.array([1,2,3])\n",
    "\n",
    "A = np.array([[2, -3, 4],\n",
    "             [0, 0, -1], \n",
    "             [1, -2, 1]])\n",
    "\n",
    "B = np.ones((2,3))\n",
    "\n",
    "b = np.array([0, 2, 0])\n",
    "\n",
    "print(\"x = \\n\", x, \"\\n\")\n",
    "print(\"A = \\n\", A, \"\\n\")\n",
    "print(\"B = \\n\", B, \"\\n\")\n",
    "print(\"b = \\n\", b)"
   ]
  },
  {
   "cell_type": "markdown",
   "metadata": {
    "deletable": false,
    "editable": false,
    "nbgrader": {
     "cell_type": "markdown",
     "checksum": "9a3a852c0149f0d8f50e0a0628ac8901",
     "grade": false,
     "grade_id": "cell-033abc3ca0136d9a",
     "locked": true,
     "schema_version": 3,
     "solution": false,
     "task": false
    }
   },
   "source": [
    "To multiply two matrices, we cannot use the `*` operator, since NumPy has reserved this for elementwise multiplication. Instead we can use the Numpy function `dot` or the `@` operator.\n",
    "\n",
    "**Exercise 1:** Use the `@` operator to compute the matrix-vector multiplication between matrix $A$ and vector $x$, and use it to compute the matrix-matrix multiplications $BA$. What happens if you try to compute $AB$?"
   ]
  },
  {
   "cell_type": "code",
   "execution_count": 48,
   "metadata": {
    "execution": {
     "iopub.execute_input": "2025-09-21T12:55:27.463474Z",
     "iopub.status.busy": "2025-09-21T12:55:27.463243Z",
     "iopub.status.idle": "2025-09-21T12:55:27.467309Z",
     "shell.execute_reply": "2025-09-21T12:55:27.466661Z",
     "shell.execute_reply.started": "2025-09-21T12:55:27.463455Z"
    }
   },
   "outputs": [
    {
     "name": "stdout",
     "output_type": "stream",
     "text": [
      "A@x=\n",
      " [ 8 -3  0]\n",
      "\n",
      "B@A=\n",
      " [[ 3. -5.  4.]\n",
      " [ 3. -5.  4.]]\n"
     ]
    }
   ],
   "source": [
    "print(\"A@x=\\n\", A@x)\n",
    "print(\"\\nB@A=\\n\", B@A)\n",
    "#print(A@B)"
   ]
  },
  {
   "cell_type": "markdown",
   "metadata": {
    "deletable": false,
    "editable": false,
    "nbgrader": {
     "cell_type": "markdown",
     "checksum": "2dec7504659842db628455f0211a93d9",
     "grade": false,
     "grade_id": "cell-a3748a0f6d6eb9eb",
     "locked": true,
     "schema_version": 3,
     "solution": false,
     "task": false
    }
   },
   "source": [
    "**Exercise 2:** The `numpy.linalg` module has a standard set of matrix decompositions and functions calculating things like inverse, trace and determinant. Solve the set of linear equations $A x = b$ for the vector $x$ in two ways:\n",
    "* use the `linalg`-function [`inv()`](https://numpy.org/doc/stable/reference/generated/numpy.linalg.inv.html) to calculate the inverse and perform matrix multiplication.\n",
    "* use the `linalg`-function [`solve()`](https://numpy.org/doc/stable/reference/generated/numpy.linalg.solve.html).\n",
    "\n",
    "Verify the solutions are the same (a neat way of verifying this would be to use NumPy's binary boolean reduction `allclose()`)."
   ]
  },
  {
   "cell_type": "code",
   "execution_count": 49,
   "metadata": {
    "execution": {
     "iopub.execute_input": "2025-09-21T12:55:27.468339Z",
     "iopub.status.busy": "2025-09-21T12:55:27.468088Z",
     "iopub.status.idle": "2025-09-21T12:55:27.475062Z",
     "shell.execute_reply": "2025-09-21T12:55:27.474471Z",
     "shell.execute_reply.started": "2025-09-21T12:55:27.468318Z"
    }
   },
   "outputs": [
    {
     "data": {
      "text/plain": [
       "True"
      ]
     },
     "execution_count": 49,
     "metadata": {},
     "output_type": "execute_result"
    }
   ],
   "source": [
    "solution_1 = la.inv(A)@b\n",
    "solution_2 = la.solve(A,b)\n",
    "\n",
    "np.allclose(solution_1, solution_2)"
   ]
  },
  {
   "cell_type": "markdown",
   "metadata": {
    "deletable": false,
    "editable": false,
    "nbgrader": {
     "cell_type": "markdown",
     "checksum": "d4bffc72e324bee23e0bee8042230963",
     "grade": false,
     "grade_id": "cell-0bf1e0cf1a4e1853",
     "locked": true,
     "schema_version": 3,
     "solution": false,
     "task": false
    }
   },
   "source": [
    "**Exercise 3:** Use the `linalg` function [`det()`](https://numpy.org/doc/stable/reference/generated/numpy.linalg.det.html) to calculate the determinant of $A$. "
   ]
  },
  {
   "cell_type": "code",
   "execution_count": 50,
   "metadata": {
    "execution": {
     "iopub.execute_input": "2025-09-21T12:55:27.476319Z",
     "iopub.status.busy": "2025-09-21T12:55:27.475833Z",
     "iopub.status.idle": "2025-09-21T12:55:27.480058Z",
     "shell.execute_reply": "2025-09-21T12:55:27.479465Z",
     "shell.execute_reply.started": "2025-09-21T12:55:27.476299Z"
    }
   },
   "outputs": [
    {
     "name": "stdout",
     "output_type": "stream",
     "text": [
      "-1.0\n"
     ]
    }
   ],
   "source": [
    "print(la.det(A))"
   ]
  },
  {
   "cell_type": "markdown",
   "metadata": {
    "deletable": false,
    "editable": false,
    "nbgrader": {
     "cell_type": "markdown",
     "checksum": "eed2b98de6e854e23b66ec3ba08eb4e0",
     "grade": false,
     "grade_id": "cell-7526f46490467561",
     "locked": true,
     "schema_version": 3,
     "solution": false,
     "task": false
    }
   },
   "source": [
    "**Exercise 4:** Use the `numpy` function `dot` to calculate the dot product between $x$ and $b$. "
   ]
  },
  {
   "cell_type": "code",
   "execution_count": 51,
   "metadata": {
    "execution": {
     "iopub.execute_input": "2025-09-21T12:55:27.480968Z",
     "iopub.status.busy": "2025-09-21T12:55:27.480795Z",
     "iopub.status.idle": "2025-09-21T12:55:27.484970Z",
     "shell.execute_reply": "2025-09-21T12:55:27.484377Z",
     "shell.execute_reply.started": "2025-09-21T12:55:27.480949Z"
    }
   },
   "outputs": [
    {
     "data": {
      "text/plain": [
       "4"
      ]
     },
     "execution_count": 51,
     "metadata": {},
     "output_type": "execute_result"
    }
   ],
   "source": [
    "np.dot(x, b)"
   ]
  },
  {
   "cell_type": "markdown",
   "metadata": {
    "deletable": false,
    "editable": false,
    "nbgrader": {
     "cell_type": "markdown",
     "checksum": "318f63499c7f5ce9819e8325e0fbca0d",
     "grade": false,
     "grade_id": "cell-736fe95ac76543b9",
     "locked": true,
     "schema_version": 3,
     "solution": false,
     "task": false
    }
   },
   "source": [
    "**Exercise 5:** use the `linalg` function [`qr()`](https://numpy.org/doc/stable/reference/generated/numpy.linalg.qr.html) to compute the QR factorisation of $A$, and check that\n",
    "$$A = QR, \\qquad \\text{and} \\qquad Q^T Q = I.$$"
   ]
  },
  {
   "cell_type": "code",
   "execution_count": 52,
   "metadata": {
    "execution": {
     "iopub.execute_input": "2025-09-21T12:55:27.487527Z",
     "iopub.status.busy": "2025-09-21T12:55:27.487011Z",
     "iopub.status.idle": "2025-09-21T12:55:27.492825Z",
     "shell.execute_reply": "2025-09-21T12:55:27.492221Z",
     "shell.execute_reply.started": "2025-09-21T12:55:27.487506Z"
    }
   },
   "outputs": [
    {
     "name": "stdout",
     "output_type": "stream",
     "text": [
      "A= [[ 2 -3  4]\n",
      " [ 0  0 -1]\n",
      " [ 1 -2  1]]\n",
      "\n",
      "QR= [[ 2. -3.  4.]\n",
      " [ 0.  0. -1.]\n",
      " [ 1. -2.  1.]]\n"
     ]
    },
    {
     "data": {
      "text/plain": [
       "True"
      ]
     },
     "execution_count": 52,
     "metadata": {},
     "output_type": "execute_result"
    }
   ],
   "source": [
    "Q, R = la.qr(A)\n",
    "\n",
    "print(\"A=\", A)\n",
    "print(\"\\nQR=\", Q@R)\n",
    "np.allclose(Q.T@Q, np.eye(3))"
   ]
  },
  {
   "cell_type": "markdown",
   "metadata": {
    "deletable": false,
    "editable": false,
    "nbgrader": {
     "cell_type": "markdown",
     "checksum": "87371589156bd111ada67eca9603f69a",
     "grade": false,
     "grade_id": "cell-f21c97a787c3d4dc",
     "locked": true,
     "schema_version": 3,
     "solution": false,
     "task": false
    }
   },
   "source": [
    "## Problem 1: Adjoint matrix (2 points)\n",
    "\n",
    "Implement the function `adjoint` below that computes the adjoint of a square matrix and returns it as an ndarray. The (i,j)-th element of the adjoint of a matrix $A$ can be computed by $$(\\text{adj}(A))_{ij} = (-1)^{i+j} M_{ji},$$ where $M_{ji}$ is the determinant of the matrix that you get when you remove row $j$ and column $i$ from $A$ (called the $(j,i)$-minor of $B$).\n",
    "\n",
    "*Hint: use the NumPy function [`delete`](https://numpy.org/doc/stable/reference/generated/numpy.delete.html) to remove removes/columns from your array. This does not alter the original array!*"
   ]
  },
  {
   "cell_type": "code",
   "execution_count": 53,
   "metadata": {
    "deletable": false,
    "execution": {
     "iopub.execute_input": "2025-09-21T12:55:27.493820Z",
     "iopub.status.busy": "2025-09-21T12:55:27.493644Z",
     "iopub.status.idle": "2025-09-21T12:55:27.498525Z",
     "shell.execute_reply": "2025-09-21T12:55:27.497897Z",
     "shell.execute_reply.started": "2025-09-21T12:55:27.493803Z"
    },
    "nbgrader": {
     "cell_type": "code",
     "checksum": "377d9db0ad0fffc48303db0c459fc779",
     "grade": false,
     "grade_id": "cell-7c9cfaa1dd8c5d09",
     "locked": false,
     "schema_version": 3,
     "solution": true,
     "task": false
    }
   },
   "outputs": [],
   "source": [
    "def adjoint(A):\n",
    "    \"\"\"\n",
    "    Computes the adjoint matrix of A, see definition in the problem statement.\n",
    "    \n",
    "    Parameters\n",
    "    ----------\n",
    "        A (ndarray): a square 2d array\n",
    "        \n",
    "    Returns\n",
    "    -------\n",
    "        adj (ndarray): a square 2d array of the same shape as A,\n",
    "            that represents its adjoint matrix\n",
    "        \n",
    "    \"\"\"\n",
    "       \n",
    "    # YOUR CODE HERE\n",
    "    n, n = A.shape\n",
    "    adj = np.zeros(n**2).reshape(n,n)\n",
    "\n",
    "    for i in range(0,n):\n",
    "        for j in range(0,n):\n",
    "            tempdet=la.det(np.delete(np.delete(A.T,i,axis=0), j, axis=1))\n",
    "            adj[i,j]=(-1)**(i+j)*tempdet\n",
    "\n",
    "    return(adj)"
   ]
  },
  {
   "cell_type": "code",
   "execution_count": 54,
   "metadata": {
    "execution": {
     "iopub.execute_input": "2025-09-21T12:55:27.499460Z",
     "iopub.status.busy": "2025-09-21T12:55:27.499284Z",
     "iopub.status.idle": "2025-09-21T12:55:27.502132Z",
     "shell.execute_reply": "2025-09-21T12:55:27.501446Z",
     "shell.execute_reply.started": "2025-09-21T12:55:27.499442Z"
    }
   },
   "outputs": [],
   "source": [
    "# You can use this code cell to play around with your code to make sure\n",
    "# it does what it is intended to do, i.e. to debug your code. \n"
   ]
  },
  {
   "cell_type": "code",
   "execution_count": 55,
   "metadata": {
    "execution": {
     "iopub.execute_input": "2025-09-21T12:55:27.503315Z",
     "iopub.status.busy": "2025-09-21T12:55:27.502896Z",
     "iopub.status.idle": "2025-09-21T12:55:27.508213Z",
     "shell.execute_reply": "2025-09-21T12:55:27.507475Z",
     "shell.execute_reply.started": "2025-09-21T12:55:27.503294Z"
    }
   },
   "outputs": [
    {
     "name": "stdout",
     "output_type": "stream",
     "text": [
      "[[-2. -5.  3.]\n",
      " [-1. -2.  2.]\n",
      " [ 0.  1.  0.]]\n"
     ]
    }
   ],
   "source": [
    "# Test case\n",
    "A = np.array([[2, -3, 4],\n",
    "              [0, 0, -1], \n",
    "              [1, -2, 1]])\n",
    "adj = adjoint(A)\n",
    "print(adj)"
   ]
  },
  {
   "cell_type": "markdown",
   "metadata": {
    "deletable": false,
    "editable": false,
    "nbgrader": {
     "cell_type": "markdown",
     "checksum": "7ab736974a50ab4ea0bdf7f646adcb15",
     "grade": false,
     "grade_id": "cell-fbc28fb8503dad7b",
     "locked": true,
     "schema_version": 3,
     "solution": false,
     "task": false
    }
   },
   "source": [
    "Expected output:\n",
    "\n",
    "    [[-2. -5.  3.]\n",
    "     [-1. -2.  2.]\n",
    "     [ 0.  1.  0.]]"
   ]
  },
  {
   "cell_type": "code",
   "execution_count": 56,
   "metadata": {
    "deletable": false,
    "editable": false,
    "execution": {
     "iopub.execute_input": "2025-09-21T12:55:27.509128Z",
     "iopub.status.busy": "2025-09-21T12:55:27.508948Z",
     "iopub.status.idle": "2025-09-21T12:55:27.515684Z",
     "shell.execute_reply": "2025-09-21T12:55:27.515063Z",
     "shell.execute_reply.started": "2025-09-21T12:55:27.509109Z"
    },
    "nbgrader": {
     "cell_type": "code",
     "checksum": "65aa0bc00dbb1b4398a7e328d062d23d",
     "grade": true,
     "grade_id": "cell-b684e58768aac07b",
     "locked": true,
     "points": 2,
     "schema_version": 3,
     "solution": false,
     "task": false
    }
   },
   "outputs": [],
   "source": [
    "# AUTOGRADING\n",
    "A = np.array([[2, -3, 4],\n",
    "              [0, 0, -1], \n",
    "              [1, -2, 1]])\n",
    "\n",
    "assert np.allclose(adjoint(A), la.det(A) * la.inv(A))\n",
    "\n",
    "B = np.arange(16).reshape((4,4))\n",
    "assert np.allclose(adjoint(B), np.zeros((4,4)))\n",
    "\n",
    "C = np.array([[-3, 2, -5], \n",
    "              [-1, 0, -2],\n",
    "              [3, -4, 1]])\n",
    "\n",
    "assert np.allclose(adjoint(C), la.det(C) * la.inv(C))"
   ]
  },
  {
   "cell_type": "markdown",
   "metadata": {
    "deletable": false,
    "editable": false,
    "nbgrader": {
     "cell_type": "markdown",
     "checksum": "e0084e13da7d224c61b4fd3651f5b359",
     "grade": false,
     "grade_id": "cell-435335db3f3bd390",
     "locked": true,
     "schema_version": 3,
     "solution": false,
     "task": false
    }
   },
   "source": [
    "## Google PageRank\n",
    "\n",
    "We consider the web to be a fixed set of pages, with each page containing a fixed set of *hyperlinks*, and each link is a reference to some other page. We will study what happens to a person (the web surfer) who randomly moves from page to page by clicking a link on the current page. To start simple, we will assume that the *surfer* has equal probability of clicking any link on its current page. The PageRank is the ranked order of the pages from the most to least probable page the surfer will be viewing.\n",
    "\n",
    "In the code below, we generate a micro-internet with just 6 websites, represented as a `graph`. (Google in comparison has indexed over 50 billion web pages)"
   ]
  },
  {
   "cell_type": "code",
   "execution_count": 57,
   "metadata": {
    "deletable": false,
    "editable": false,
    "execution": {
     "iopub.execute_input": "2025-09-21T12:55:27.516675Z",
     "iopub.status.busy": "2025-09-21T12:55:27.516499Z",
     "iopub.status.idle": "2025-09-21T12:55:27.740318Z",
     "shell.execute_reply": "2025-09-21T12:55:27.739012Z",
     "shell.execute_reply.started": "2025-09-21T12:55:27.516658Z"
    },
    "nbgrader": {
     "cell_type": "code",
     "checksum": "4b5fd6d6c273d69f9e9a101efd8781e4",
     "grade": false,
     "grade_id": "cell-0c0920a464b667e7",
     "locked": true,
     "schema_version": 3,
     "solution": false,
     "task": false
    }
   },
   "outputs": [],
   "source": [
    "# Before we begin, let's load the necessary libraries.\n",
    "import numpy as np\n",
    "import numpy.linalg as la\n",
    "import networkx as nx # Python package for creating and manipulating complex networks\n",
    "import matplotlib.pyplot as plt\n",
    "\n",
    "# Define the micro-internet as a graph.\n",
    "# You don't have to understand this.\n",
    "nodes = ['A', 'B', 'C', 'D', 'E', 'F']\n",
    "edges = [('A', 'B'),\n",
    "         ('A', 'C'),\n",
    "         ('A', 'D'), \n",
    "         ('B', 'A'), \n",
    "         ('B', 'C'),\n",
    "         ('C', 'A'), \n",
    "         ('C', 'D'),\n",
    "         ('C', 'F'),\n",
    "         ('D', 'C'),\n",
    "         ('E', 'B'),\n",
    "         ('E', 'D'),\n",
    "         ('F', 'C'),\n",
    "         ('F', 'D')]\n",
    "\n",
    "fixed_positions = {'A': (0, 0), \n",
    "                   'B': (1, 0),\n",
    "                   'C': (0, 1),\n",
    "                   'D': (-1, 0),\n",
    "                   'E': (0, -1),\n",
    "                   'F': (-1, 1)}\n",
    "\n",
    "graph = nx.DiGraph()\n",
    "graph.add_nodes_from(nodes)\n",
    "graph.add_edges_from(edges)"
   ]
  },
  {
   "cell_type": "code",
   "execution_count": 58,
   "metadata": {
    "deletable": false,
    "editable": false,
    "execution": {
     "iopub.status.busy": "2025-09-21T12:55:27.740897Z",
     "iopub.status.idle": "2025-09-21T12:55:27.741139Z",
     "shell.execute_reply": "2025-09-21T12:55:27.741023Z",
     "shell.execute_reply.started": "2025-09-21T12:55:27.741011Z"
    },
    "nbgrader": {
     "cell_type": "code",
     "checksum": "9f8e8bddc95bc376d2d6b80e66e702c6",
     "grade": false,
     "grade_id": "cell-0c0920a464b667e8",
     "locked": true,
     "schema_version": 3,
     "solution": false,
     "task": false
    }
   },
   "outputs": [
    {
     "data": {
      "image/png": "[encoded data removed]",
      "text/plain": [
       "<Figure size 800x600 with 1 Axes>"
      ]
     },
     "metadata": {},
     "output_type": "display_data"
    }
   ],
   "source": [
    "# Plot the graph\n",
    "plt.rcParams['figure.figsize'] = 8, 6\n",
    "pos = nx.spring_layout(graph, pos=fixed_positions, fixed = nodes)\n",
    "nx.draw(graph, pos, arrows=True, with_labels=True, node_color='skyblue', alpha=0.7, \n",
    "        arrowsize=20, node_size=1000)"
   ]
  },
  {
   "cell_type": "markdown",
   "metadata": {
    "deletable": false,
    "editable": false,
    "nbgrader": {
     "cell_type": "markdown",
     "checksum": "1e3b1dff3e8041f74f240b65b4472c05",
     "grade": false,
     "grade_id": "cell-02ad0a5875c7a02e",
     "locked": true,
     "schema_version": 3,
     "solution": false,
     "task": false
    }
   },
   "source": [
    "In case the code doesn't run properly because of package issues, it should generate the following image:\n",
    "\n",
    "<img src=\"https://i.ibb.co/ftddfZ8/Graph1.jpg\" alt=\"Graph1\" border=\"0\"></a>"
   ]
  },
  {
   "cell_type": "markdown",
   "metadata": {
    "deletable": false,
    "editable": false,
    "nbgrader": {
     "cell_type": "markdown",
     "checksum": "888676220fe38f8418c7a279364843fc",
     "grade": false,
     "grade_id": "cell-bfa659ea709880d2",
     "locked": true,
     "schema_version": 3,
     "solution": false,
     "task": false
    }
   },
   "source": [
    "Each web page is represented by a node labeled from `A` to `F`. We represent links by an ordered pair `(x,y)`, the first specifying the page containing the link and the second specifying the page to which it refers. In the picture, this is represented by an arrow that indicates which page links to which. The design principle of PageRank is that important websites will be linked **to** by other important websites. \n",
    "\n",
    "Now imagine 100 surfers on our micro-internet, each viewing a single website at a time. Every minute the surfers follow a random link on their website to another site. After a while, the websites that are most linked to will have more surfers visiting them, and in the long run, for every surfer that leaves a website each minute, another will enter keeping the total numbers of surfers on each website constant. This number of surfers at the end of this process (so in the equilibrium state) is what we will refer to as our ranking. \n",
    "\n",
    "We represent the number of surfers on each website at time $t$ by the column vector $x(t) = [x_A, x_B, x_C, x_D, x_E, x_F]$. The expected number of surfers at time $t+1$ is related to those at time $t$ via the transition matrix \n",
    "$$x(t+1) = Tx(t).$$\n",
    "The **transition matrix** $T$ (also referred to as the hyperlink matrix) is in our situation a $6\\times 6$ matrix defined by\n",
    "$$T_{ij} = \\begin{cases}\n",
    "\\frac{1}{L_j}, & \\text{if page $j$ links to page $i$} \\\\\n",
    "0, &\\text{if page $j$ does not link to page $i$}\n",
    "\\end{cases}$$\n",
    "where $L_j$ the number links on page $j$. We could say that $T$ takes the form\n",
    "$$T = \\begin{bmatrix}\n",
    "p_{A \\to A} & p_{B \\to A}  & p_{C \\to A}  & p_{D \\to A} & p_{E \\to A}  &  p_{F \\to A}\\\\ \n",
    "p_{A \\to B} & p_{B \\to B}  & p_{C \\to B}  & p_{D \\to B} & p_{E \\to B}  &  p_{F \\to B}\\\\ \n",
    "p_{A \\to C} & p_{B \\to C}  & p_{C \\to C}  & p_{D \\to C} & p_{E \\to C}  &  p_{F \\to C}\\\\ \n",
    "p_{A \\to D} & p_{B \\to D}  & p_{C \\to D}  & p_{D \\to D} & p_{E \\to D}  &  p_{F \\to D}\\\\ \n",
    "p_{A \\to E} & p_{B \\to E}  & p_{C \\to E}  & p_{D \\to E} & p_{E \\to E}  &  p_{F \\to E}\\\\ \n",
    "p_{A \\to F} & p_{B \\to F}  & p_{C \\to F}  & p_{D \\to F} & p_{E \\to F}  &  p_{F \\to F}\n",
    "\\end{bmatrix},$$\n",
    "where the columns represent the probability of leaving a website for any other website, and thus they sum to one. The rows determine how likely you are to enter a website from any other. \n",
    "\n",
    "## Problem 2: Transition matrix (2 points)\n",
    "\n",
    "Define the transition matrix $T$ for our six page micro-internet example above as a NumPy array of shape $(6,6)$ and assign it to the variable `T`. You may just manually enter the matrix and its values, no need for fancy loops or generalizations."
   ]
  },
  {
   "cell_type": "code",
   "execution_count": 59,
   "metadata": {
    "deletable": false,
    "execution": {
     "iopub.execute_input": "2025-09-21T12:55:34.246437Z",
     "iopub.status.busy": "2025-09-21T12:55:34.246035Z",
     "iopub.status.idle": "2025-09-21T12:55:34.250632Z",
     "shell.execute_reply": "2025-09-21T12:55:34.249950Z",
     "shell.execute_reply.started": "2025-09-21T12:55:34.246416Z"
    },
    "nbgrader": {
     "cell_type": "code",
     "checksum": "a69d78eb553efc9c71b3765693557870",
     "grade": false,
     "grade_id": "cell-754e9acd4d84843d",
     "locked": false,
     "schema_version": 3,
     "solution": true,
     "task": false
    }
   },
   "outputs": [],
   "source": [
    "# YOUR CODE HERE\n",
    "T = np.array([[0, 1/3, 1/3, 1/3, 0 , 0],\n",
    "             [1/2, 0, 1/2, 0, 0, 0],\n",
    "             [1/3, 0, 0, 1/3, 0, 1/3],\n",
    "             [0, 0, 1, 0, 0, 0],\n",
    "             [0, 1/2, 0, 1/2, 0, 0],\n",
    "             [0, 0, 1/2, 1/2, 0, 0]]).T"
   ]
  },
  {
   "cell_type": "code",
   "execution_count": 60,
   "metadata": {
    "execution": {
     "iopub.status.busy": "2025-09-21T12:55:27.743239Z",
     "iopub.status.idle": "2025-09-21T12:55:27.743492Z",
     "shell.execute_reply": "2025-09-21T12:55:27.743373Z",
     "shell.execute_reply.started": "2025-09-21T12:55:27.743362Z"
    }
   },
   "outputs": [],
   "source": [
    "# You can use this code cell to play around with your code to make sure\n",
    "# it does what it is intended to do, i.e. to debug your code. \n"
   ]
  },
  {
   "cell_type": "markdown",
   "metadata": {
    "deletable": false,
    "editable": false,
    "nbgrader": {
     "cell_type": "markdown",
     "checksum": "26680997ad2b12272b6c249784a3976f",
     "grade": false,
     "grade_id": "cell-8e5beb73bba07f90",
     "locked": true,
     "schema_version": 3,
     "solution": false,
     "task": false
    }
   },
   "source": [
    "To test whether you haven't included any slight mistakes in your matrix $T$, we can check if the column values all add up to one, and you can check if you have the correct row sums. "
   ]
  },
  {
   "cell_type": "code",
   "execution_count": 61,
   "metadata": {
    "execution": {
     "iopub.execute_input": "2025-09-21T12:55:35.838498Z",
     "iopub.status.busy": "2025-09-21T12:55:35.837746Z",
     "iopub.status.idle": "2025-09-21T12:55:35.842319Z",
     "shell.execute_reply": "2025-09-21T12:55:35.841713Z",
     "shell.execute_reply.started": "2025-09-21T12:55:35.838475Z"
    }
   },
   "outputs": [
    {
     "name": "stdout",
     "output_type": "stream",
     "text": [
      "[1. 1. 1. 1. 1. 1.]\n",
      "[0.83333333 0.83333333 2.33333333 1.66666667 0.         0.33333333]\n"
     ]
    }
   ],
   "source": [
    "# Test case\n",
    "print(np.sum(T, axis=0)) # column sums\n",
    "print(np.sum(T, axis=1)) # row sums"
   ]
  },
  {
   "cell_type": "markdown",
   "metadata": {
    "deletable": false,
    "editable": false,
    "nbgrader": {
     "cell_type": "markdown",
     "checksum": "b80ade2f187ddd8a080a61c76de13c6a",
     "grade": false,
     "grade_id": "cell-68a4fd167a2b40ea",
     "locked": true,
     "schema_version": 3,
     "solution": false,
     "task": false
    }
   },
   "source": [
    "Expected output:\n",
    "\n",
    "    [1. 1. 1. 1. 1. 1.]\n",
    "    [0.83333333 0.83333333 2.33333333 1.66666667 0.         0.33333333]"
   ]
  },
  {
   "cell_type": "code",
   "execution_count": 62,
   "metadata": {
    "deletable": false,
    "editable": false,
    "execution": {
     "iopub.execute_input": "2025-09-21T12:55:37.447756Z",
     "iopub.status.busy": "2025-09-21T12:55:37.447446Z",
     "iopub.status.idle": "2025-09-21T12:55:37.452117Z",
     "shell.execute_reply": "2025-09-21T12:55:37.451552Z",
     "shell.execute_reply.started": "2025-09-21T12:55:37.447736Z"
    },
    "nbgrader": {
     "cell_type": "code",
     "checksum": "0a5d7350b3b6fa18374c2c28c97a6abb",
     "grade": true,
     "grade_id": "cell-af8817fc76c55353",
     "locked": true,
     "points": 2,
     "schema_version": 3,
     "solution": false,
     "task": false
    }
   },
   "outputs": [],
   "source": [
    "# AUTOGRADING\n",
    "assert np.allclose(np.sum(T, axis=0), 6*[1])\n",
    "assert np.allclose(np.sum(T, axis=1), [5/6, 5/6, 7/3, 5/3, 0, 1/3])\n",
    "assert np.allclose(T[0,0], 0)\n",
    "assert np.allclose(T[2, 3], 1)\n",
    "assert np.allclose(T[3, 5], 1/2)"
   ]
  },
  {
   "cell_type": "markdown",
   "metadata": {
    "deletable": false,
    "editable": false,
    "nbgrader": {
     "cell_type": "markdown",
     "checksum": "c19b158237ceec8167123dd399d686bb",
     "grade": false,
     "grade_id": "cell-79dfd18396606a01",
     "locked": true,
     "schema_version": 3,
     "solution": false,
     "task": false
    }
   },
   "source": [
    "## Power iteration method\n",
    "\n",
    "The random process that describes the surfer's behavior is known as a *Markov chain*. Markov chains are widely applicable, well-studied, and have many remarkable and useful properties. It turns out, that under certain conditions (that are met by our given transition matrix), the probability distribution of finding a random surfer at a particular web page after $t$ iterations converges to a fixed equilibrium distribution. No matter where the surfer starts, the process eventually stabilizes to a point where further surfing provides no further information. This limiting probability is known as the page's rank, and tells us the likelihood of being at a particular page. \n",
    "\n",
    "To find this limiting distribution, suppose we start again with 100 surfers that are uniformly distributed over each of our 6 webpages, i.e. $x(0) = 100 * [1/6, 1/6, 1/6, 1/6, 1/6, 1/6]$. We want to apply the matrix multiple times to find the distribution at time $t$:\n",
    "$$x(t) = T^t x(0).$$\n",
    "Suppose we keep multiplying by $T$ until we see very little change between the two vectors $x(t)$ and $x(t-1)$, that is, if\n",
    "$$\\| x(t) - x(t-1)\\| \\leq \\varepsilon,$$\n",
    "where $\\varepsilon$ is some pre-defined tolerance. Once this condition is met, we expect further applications of $T$ will not change $x(t)$ very much and thus it serves as a signal to stop further iterations.\n",
    "\n",
    "## Problem 3: Power iteration (2 points)\n",
    "\n",
    "Implement the function `Pagerank_PI` below which computes $x(t)$ until $\\|x(t) - x(t-1)\\| \\leq \\text{tol}$. You can use the function `la.norm` to compute the norm of a vector.\n",
    "*Hint: consider using a while-loop.*"
   ]
  },
  {
   "cell_type": "code",
   "execution_count": 63,
   "metadata": {
    "deletable": false,
    "execution": {
     "iopub.execute_input": "2025-09-21T12:55:39.646335Z",
     "iopub.status.busy": "2025-09-21T12:55:39.645985Z",
     "iopub.status.idle": "2025-09-21T12:55:39.650935Z",
     "shell.execute_reply": "2025-09-21T12:55:39.650363Z",
     "shell.execute_reply.started": "2025-09-21T12:55:39.646313Z"
    },
    "nbgrader": {
     "cell_type": "code",
     "checksum": "42bbfa2bd25f8bca8a336dd9cc84aa30",
     "grade": false,
     "grade_id": "cell-faf76a8f71a080c0",
     "locked": false,
     "schema_version": 3,
     "solution": true,
     "task": false
    }
   },
   "outputs": [],
   "source": [
    "def Pagerank_PI(T, tol):\n",
    "    \"\"\"\n",
    "    Compute the limiting distribution x(t) of a transition matrix T,\n",
    "    where we assume convergence when |x(t) - x(t-1)| <= tol. \n",
    "    \n",
    "    Parameters\n",
    "    ----------\n",
    "        T (ndarray): n by n transition matrix whose columns add up to 1 \n",
    "        tol (float): Tolerance for when to end iteration.\n",
    "        \n",
    "    Returns\n",
    "    -------\n",
    "        x (ndarray): Vector of limiting probability distribution (in percentages)\n",
    "        i (int): Number of iterations required to achieve convergence\n",
    "    \n",
    "    \"\"\"\n",
    "    n,m = T.shape\n",
    "    x = 100 * np.ones(n) / n \n",
    "    i = 0\n",
    "\n",
    "    # YOUR CODE HERE\n",
    "    x_new = T@x\n",
    "    i += 1\n",
    "\n",
    "    while abs(la.norm(x_new-x))>tol:\n",
    "        x = x_new\n",
    "        i += 1\n",
    "        x_new = T@x\n",
    "\n",
    "        if i == 10**5:\n",
    "            break\n",
    "\n",
    "    x = x_new\n",
    "    \n",
    "    return(x, i)"
   ]
  },
  {
   "cell_type": "code",
   "execution_count": 64,
   "metadata": {
    "execution": {
     "iopub.status.busy": "2025-09-21T12:55:27.747490Z",
     "iopub.status.idle": "2025-09-21T12:55:27.747728Z",
     "shell.execute_reply": "2025-09-21T12:55:27.747612Z",
     "shell.execute_reply.started": "2025-09-21T12:55:27.747602Z"
    }
   },
   "outputs": [],
   "source": [
    "# You can use this code cell to play around with your code to make sure\n",
    "# it does what it is intended to do, i.e. to debug your code. \n"
   ]
  },
  {
   "cell_type": "code",
   "execution_count": 65,
   "metadata": {
    "execution": {
     "iopub.execute_input": "2025-09-21T12:55:42.625767Z",
     "iopub.status.busy": "2025-09-21T12:55:42.625424Z",
     "iopub.status.idle": "2025-09-21T12:55:42.640725Z",
     "shell.execute_reply": "2025-09-21T12:55:42.639987Z",
     "shell.execute_reply.started": "2025-09-21T12:55:42.625745Z"
    }
   },
   "outputs": [
    {
     "name": "stdout",
     "output_type": "stream",
     "text": [
      "After 57 iterations, the page distribution converged to \n",
      " [16.          5.33333333 40.         25.33333333  0.         13.33333333]\n"
     ]
    }
   ],
   "source": [
    "# Test case\n",
    "# Convert given micro-internet graph to transition matrix\n",
    "A = nx.convert_matrix.to_numpy_array(graph)\n",
    "A = A.T\n",
    "T1 = A / A.sum(axis=0)\n",
    "\n",
    "tol = 10**(-10)\n",
    "x, i = Pagerank_PI(T1, tol)\n",
    "print(\"After\", i, \"iterations, the page distribution converged to \\n\", x)"
   ]
  },
  {
   "cell_type": "markdown",
   "metadata": {
    "deletable": false,
    "editable": false,
    "nbgrader": {
     "cell_type": "markdown",
     "checksum": "4e1aa81b1c84a6e8a1b0699a43bfff75",
     "grade": false,
     "grade_id": "cell-6f1376de332f5d70",
     "locked": true,
     "schema_version": 3,
     "solution": false,
     "task": false
    }
   },
   "source": [
    "Expected output:\n",
    "\n",
    "    After 57 iterations, the page distribution converged to \n",
    "     [16.          5.33333333 40.         25.33333333  0.         13.33333333]\n",
    "     \n",
    "Based on these outcomes, we conclude that page C has the highest pagerank, followed by page D, and then in descending order pages A, F, B and E. Is this what you would have expected? Convince yourself that based on which pages seem important given which others link to them, that this is a sensible ranking. "
   ]
  },
  {
   "cell_type": "code",
   "execution_count": 66,
   "metadata": {
    "deletable": false,
    "editable": false,
    "execution": {
     "iopub.execute_input": "2025-09-21T12:55:44.360984Z",
     "iopub.status.busy": "2025-09-21T12:55:44.360646Z",
     "iopub.status.idle": "2025-09-21T12:55:44.375908Z",
     "shell.execute_reply": "2025-09-21T12:55:44.375176Z",
     "shell.execute_reply.started": "2025-09-21T12:55:44.360960Z"
    },
    "nbgrader": {
     "cell_type": "code",
     "checksum": "d268fe2b09376076ff03232dbc8f6877",
     "grade": true,
     "grade_id": "cell-5e6f9b1e062729fd",
     "locked": true,
     "points": 2,
     "schema_version": 3,
     "solution": false,
     "task": false
    }
   },
   "outputs": [],
   "source": [
    "# AUTOGRADING\n",
    "A = nx.convert_matrix.to_numpy_array(graph)\n",
    "A = A.T\n",
    "T1 = A / A.sum(axis=0)\n",
    "x, i = Pagerank_PI(T1, 10**(-10))\n",
    "\n",
    "assert np.allclose(x, [16, 16/3, 40, 76/3, 0, 40/3])\n",
    "assert i == 57"
   ]
  },
  {
   "cell_type": "markdown",
   "metadata": {
    "deletable": false,
    "editable": false,
    "nbgrader": {
     "cell_type": "markdown",
     "checksum": "1691dad542ca0eecf17b14ac0425db04",
     "grade": false,
     "grade_id": "cell-bc9d6de0273b40b1",
     "locked": true,
     "schema_version": 3,
     "solution": false,
     "task": false
    }
   },
   "source": [
    "## Eigenvectors and eigenvalues\n",
    "\n",
    "We have discovered that the pageranks for our micro-internet are the probabilities in the limiting distribution of our transition matrix. We said that the long run behavior of this system is achieved when $x(t+1) = x(t)$. If we drop the time stamps, this allows us to write\n",
    "$$Tx = x,$$\n",
    "which is the eigenvalue equation for the matrix $T$ with eigenvalue 1. In other words, we are looking for an eigenvector that corresponds to an eigenvalue 1. The existence of such a vector is again guaranteed by the probabilistic structure of the matrix $T$. It turns out that for a transition matrix, all eigenvalues are less than 1 in absolute value, so we are interested in finding the eigenvector that belongs to the largest eigenvalue (this is also the reason why the power iteration method worked). We can use built-in methods to find the eigenvalues and eigenvectors of a given matrix.\n",
    "\n",
    "## Problem 4: Eigenvectors (2 points)\n",
    "\n",
    "Implement the function `Pagerank_eigen` below which computes the eigenvector corresponding to the eigenvalue 1 whose entries add up to 100%. \n",
    "*Hint: use the function `la.eig` which yields an array of eigenvalues and an array of eigenvectors. Sort the eigenvalues by their absolute value, and find the eigenvector that corresponds to the (largest) eigenvalue 1. Be aware that the eigenvalues given by `la.eig` are complex valued, you can use `np.real` to make arrays real-valued.*"
   ]
  },
  {
   "cell_type": "code",
   "execution_count": 67,
   "metadata": {
    "deletable": false,
    "execution": {
     "iopub.execute_input": "2025-09-21T13:01:59.072957Z",
     "iopub.status.busy": "2025-09-21T13:01:59.072492Z",
     "iopub.status.idle": "2025-09-21T13:01:59.077593Z",
     "shell.execute_reply": "2025-09-21T13:01:59.076911Z",
     "shell.execute_reply.started": "2025-09-21T13:01:59.072933Z"
    },
    "nbgrader": {
     "cell_type": "code",
     "checksum": "c9f55ef99326f118f9d68d0fcd54858c",
     "grade": false,
     "grade_id": "cell-8c1c53d14a933d77",
     "locked": false,
     "schema_version": 3,
     "solution": true,
     "task": false
    }
   },
   "outputs": [],
   "source": [
    "def Pagerank_eigen(T):\n",
    "    \"\"\"\n",
    "    Computes the eigenvector of T corresponding to eigenvalue 1,\n",
    "    whose entries add up to 100. \n",
    "    \n",
    "    Parameters\n",
    "    ----------\n",
    "        T (ndarray): n by n transition matrix whose columns add up to 1, and for\n",
    "            which the diagonal entries are not equal to 1. \n",
    "            \n",
    "    Returns\n",
    "    -------\n",
    "        x (ndarray): Eigenvector of T corresponding to eigenvalue 1,\n",
    "            scaled such that its entries add up to 100.\n",
    "            \n",
    "    \"\"\"\n",
    "    \n",
    "    eVals, eVecs = la.eig(T)\n",
    "    \n",
    "    # YOUR CODE HERE\n",
    "    n, n = T.shape\n",
    "\n",
    "    temp_eVal = 0\n",
    "\n",
    "    for i in range(n):\n",
    "        if eVals[i] > temp_eVal:\n",
    "            temp_eVal = np.real(eVals[i])\n",
    "            temp_eVec = eVecs[:,i]\n",
    "\n",
    "    x = np.real(temp_eVec)\n",
    "    x = x / np.sum(x) * 100\n",
    "    \n",
    "    return(x)"
   ]
  },
  {
   "cell_type": "code",
   "execution_count": 68,
   "metadata": {
    "execution": {
     "iopub.execute_input": "2025-09-21T13:01:59.925785Z",
     "iopub.status.busy": "2025-09-21T13:01:59.925490Z",
     "iopub.status.idle": "2025-09-21T13:01:59.931534Z",
     "shell.execute_reply": "2025-09-21T13:01:59.930968Z",
     "shell.execute_reply.started": "2025-09-21T13:01:59.925764Z"
    }
   },
   "outputs": [
    {
     "data": {
      "text/plain": [
       "array([16.        ,  5.33333333, 40.        , 25.33333333,  0.        ,\n",
       "       13.33333333])"
      ]
     },
     "execution_count": 68,
     "metadata": {},
     "output_type": "execute_result"
    }
   ],
   "source": [
    "# You can use this code cell to play around with your code to make sure\n",
    "# it does what it is intended to do, i.e. to debug your code. \n",
    "T = np.array([[0, 1/3, 1/3, 1/3, 0 , 0],\n",
    "             [1/2, 0, 1/2, 0, 0, 0],\n",
    "             [1/3, 0, 0, 1/3, 0, 1/3],\n",
    "             [0, 0, 1, 0, 0, 0],\n",
    "             [0, 1/2, 0, 1/2, 0, 0],\n",
    "             [0, 0, 1/2, 1/2, 0, 0]]).T\n",
    "\n",
    "x = Pagerank_eigen(T)\n",
    "x"
   ]
  },
  {
   "cell_type": "code",
   "execution_count": 69,
   "metadata": {
    "execution": {
     "iopub.status.busy": "2025-09-21T12:55:27.752682Z",
     "iopub.status.idle": "2025-09-21T12:55:27.752909Z",
     "shell.execute_reply": "2025-09-21T12:55:27.752801Z",
     "shell.execute_reply.started": "2025-09-21T12:55:27.752790Z"
    }
   },
   "outputs": [
    {
     "name": "stdout",
     "output_type": "stream",
     "text": [
      "[16.          5.33333333 40.         25.33333333  0.         13.33333333]\n"
     ]
    }
   ],
   "source": [
    "# Test case\n",
    "x = Pagerank_eigen(T1)\n",
    "print(x)"
   ]
  },
  {
   "cell_type": "markdown",
   "metadata": {
    "deletable": false,
    "editable": false,
    "nbgrader": {
     "cell_type": "markdown",
     "checksum": "977eb2fabcebee80ba9b66b5ad76bdc4",
     "grade": false,
     "grade_id": "cell-3452f63ca0f7d25f",
     "locked": true,
     "schema_version": 3,
     "solution": false,
     "task": false
    }
   },
   "source": [
    "Expected output:\n",
    "\n",
    "    [16.          5.33333333 40.         25.33333333  0.         13.33333333]\n",
    "    \n",
    "Note that this is the same result as the one we had found using the power iteration method."
   ]
  },
  {
   "cell_type": "code",
   "execution_count": 70,
   "metadata": {
    "deletable": false,
    "editable": false,
    "execution": {
     "iopub.status.busy": "2025-09-21T12:55:27.753792Z",
     "iopub.status.idle": "2025-09-21T12:55:27.754049Z",
     "shell.execute_reply": "2025-09-21T12:55:27.753940Z",
     "shell.execute_reply.started": "2025-09-21T12:55:27.753928Z"
    },
    "nbgrader": {
     "cell_type": "code",
     "checksum": "0827a81959051f8734b3fb74d1d0222b",
     "grade": true,
     "grade_id": "cell-7e0273dd1694578f",
     "locked": true,
     "points": 2,
     "schema_version": 3,
     "solution": false,
     "task": false
    }
   },
   "outputs": [],
   "source": [
    "# AUTOGRADING\n",
    "x = Pagerank_eigen(T1)\n",
    "assert np.allclose(x, [16, 16/3, 40, 76/3, 0, 40/3])"
   ]
  },
  {
   "cell_type": "markdown",
   "metadata": {
    "deletable": false,
    "editable": false,
    "nbgrader": {
     "cell_type": "markdown",
     "checksum": "aa4beb18bc5de157930de9964244a2cc",
     "grade": false,
     "grade_id": "cell-3bc0bba0496b8e78",
     "locked": true,
     "schema_version": 3,
     "solution": false,
     "task": false
    }
   },
   "source": [
    "## Damping parameter\n",
    "\n",
    "The system we just studied converged fairly quickly to the correct answer. Let's consider an extension to our micro-internet where things start to go wrong. Say a new website G is added, see below: "
   ]
  },
  {
   "cell_type": "code",
   "execution_count": 71,
   "metadata": {
    "deletable": false,
    "editable": false,
    "execution": {
     "iopub.status.busy": "2025-09-21T12:55:27.755005Z",
     "iopub.status.idle": "2025-09-21T12:55:27.755239Z",
     "shell.execute_reply": "2025-09-21T12:55:27.755122Z",
     "shell.execute_reply.started": "2025-09-21T12:55:27.755111Z"
    },
    "nbgrader": {
     "cell_type": "code",
     "checksum": "02754500d51df5ae393ffc30ab0912ec",
     "grade": false,
     "grade_id": "cell-164922196eda7a50",
     "locked": true,
     "schema_version": 3,
     "solution": false,
     "task": false
    }
   },
   "outputs": [],
   "source": [
    "# Define the extended micro-internet as a graph.\n",
    "# You don't have to understand this.\n",
    "nodes = ['A', 'B', 'C', 'D', 'E', 'F', 'G']\n",
    "edges = [('A', 'B'),\n",
    "         ('A', 'C'),\n",
    "         ('A', 'D'), \n",
    "         ('B', 'A'), \n",
    "         ('B', 'C'),\n",
    "         ('C', 'A'), \n",
    "         ('C', 'D'),\n",
    "         ('C', 'F'),\n",
    "         ('D', 'C'),\n",
    "         ('E', 'B'),\n",
    "         ('E', 'D'),\n",
    "         ('F', 'C'),\n",
    "         ('F', 'D'),\n",
    "         ('B', 'G'),\n",
    "         ('G', 'G')]\n",
    "\n",
    "fixed_positions = {'A': (0, 0), \n",
    "                   'B': (1, 0),\n",
    "                   'C': (0, 1),\n",
    "                   'D': (-1, 0),\n",
    "                   'E': (0, -1),\n",
    "                   'F': (-1, 1),\n",
    "                   'G': ((1, 1))}\n",
    "\n",
    "graph2 = nx.DiGraph()\n",
    "graph2.add_nodes_from(nodes)\n",
    "graph2.add_edges_from(edges)"
   ]
  },
  {
   "cell_type": "code",
   "execution_count": 72,
   "metadata": {
    "deletable": false,
    "editable": false,
    "execution": {
     "iopub.status.busy": "2025-09-21T12:55:27.755895Z",
     "iopub.status.idle": "2025-09-21T12:55:27.756115Z",
     "shell.execute_reply": "2025-09-21T12:55:27.756012Z",
     "shell.execute_reply.started": "2025-09-21T12:55:27.756001Z"
    },
    "nbgrader": {
     "cell_type": "code",
     "checksum": "690fae57962262d26d104c45257e58c3",
     "grade": false,
     "grade_id": "cell-164922196eda7a51",
     "locked": true,
     "schema_version": 3,
     "solution": false,
     "task": false
    }
   },
   "outputs": [
    {
     "data": {
      "image/png": "[encoded data removed]",
      "text/plain": [
       "<Figure size 800x600 with 1 Axes>"
      ]
     },
     "metadata": {},
     "output_type": "display_data"
    }
   ],
   "source": [
    "# Plot the graph\n",
    "plt.rcParams['figure.figsize'] = 8, 6\n",
    "pos = nx.spring_layout(graph2, pos=fixed_positions, fixed = nodes)\n",
    "nx.draw(graph2, pos, arrows=True, with_labels=True, node_color='skyblue', alpha=0.7, \n",
    "        arrowsize=20, node_size=1000)\n",
    "#plt.savefig(\"Graph2.jpg\", dpi=600, format=\"JPG\")"
   ]
  },
  {
   "cell_type": "markdown",
   "metadata": {
    "deletable": false,
    "editable": false,
    "nbgrader": {
     "cell_type": "markdown",
     "checksum": "3ea2ef385182f3efde81ed83cfd0dcdb",
     "grade": false,
     "grade_id": "cell-1f1c05701635a0bd",
     "locked": true,
     "schema_version": 3,
     "solution": false,
     "task": false
    }
   },
   "source": [
    "In case the code doesn't run properly because of package issues, it should generate the following image:\n",
    "\n",
    "<img src=\"https://i.ibb.co/9ZRYV26/Graph2.jpg\" alt=\"Graph2\" border=\"0\"></a>"
   ]
  },
  {
   "cell_type": "markdown",
   "metadata": {
    "deletable": false,
    "editable": false,
    "nbgrader": {
     "cell_type": "markdown",
     "checksum": "032c909173b88870720a671814318102",
     "grade": false,
     "grade_id": "cell-59a6ff0416c8536a",
     "locked": true,
     "schema_version": 3,
     "solution": false,
     "task": false
    }
   },
   "source": [
    "If we were to apply the power iteration method to this new model, the limiting distribution will converge to\n",
    "\n",
    "    [0, 0, 0, 0, 0, 0, 100].\n",
    "    \n",
    "Page G will be taking all the traffic on the micro-internet, and somehow come at the top of the PageRank. This behavior can be understood, because once a surfer gets to page G, they can't leave, as all links head back to G. Eventually all surfers will end up on page G. \n",
    "\n",
    "To combat this, we can add a small probability that a surfer does not follow any link on a web page, but instead visits a website on the micro-internet at random. Let's assume the probability of following a link is $d$ and the probability of choosing a random website is therefore $1-d$. The new transition matrix now becomes\n",
    "$$S = dT + \\frac{1-d}{n} J,$$\n",
    "where $T$ was our original transition matrix and $J$ is an $n \\times n$ matrix where every element is one. \n",
    "\n",
    "If $d$ is one, we have the case we had previously, whereas if $d$ is zero, we will always visit a random page and therefore all webapges will be equally likely and equally ranked. For this extension to work best, $1-d$ should be somewhat small, but exactly how small we won't discuss any further. \n",
    "\n",
    "## Problem 5: Pagerank with dampening (2 points)\n",
    "\n",
    "Implement the function `Pagerank_damped(T, d, tol)` that computes the pagerank vector with dampening factor $d$. "
   ]
  },
  {
   "cell_type": "code",
   "execution_count": 73,
   "metadata": {
    "deletable": false,
    "execution": {
     "iopub.status.busy": "2025-09-21T12:55:27.756989Z",
     "iopub.status.idle": "2025-09-21T12:55:27.757219Z",
     "shell.execute_reply": "2025-09-21T12:55:27.757106Z",
     "shell.execute_reply.started": "2025-09-21T12:55:27.757095Z"
    },
    "nbgrader": {
     "cell_type": "code",
     "checksum": "0d03f2020c8822cd7b819de3773854f4",
     "grade": false,
     "grade_id": "cell-ade403caa218e087",
     "locked": false,
     "schema_version": 3,
     "solution": true,
     "task": false
    }
   },
   "outputs": [],
   "source": [
    "def Pagerank_damped(T, d, tol):\n",
    "    \"\"\"\n",
    "    Compute the limiting distribution x(t) of the transition matrix S = dT + (1-d)/n J,\n",
    "    where J is a matrix with the same dimension as T and containing only ones,\n",
    "    where we assume convergence when |x(t) - x(t-1)| <= tol. \n",
    "    \n",
    "    Parameters\n",
    "    ----------\n",
    "        T (ndarray): n by n transition matrix whose columns add up to 1\n",
    "        d (float): probability between 0 and 1 that signifies the likelihood of \n",
    "            following a link on the current page. \n",
    "        tol (float): Tolerance for when to end iteration.\n",
    "        \n",
    "    Returns\n",
    "    -------\n",
    "        x (ndarray): Vector of limiting probability distribution (in percentages)\n",
    "        i (int): Number of iterations required to achieve convergence\n",
    "    \n",
    "    \n",
    "    \"\"\"\n",
    "    \n",
    "    # YOUR CODE HERE\n",
    "    S = d*T + (1-d)/T.shape[0]*np.ones(T.shape)\n",
    "    n,m = S.shape\n",
    "    x = 100 * np.ones(n) / n \n",
    "    i = 0\n",
    "    x_new = S@x\n",
    "    i += 1\n",
    "    while abs(la.norm(x_new-x))>tol:\n",
    "        x = x_new\n",
    "        i += 1\n",
    "        x_new = S@x\n",
    "\n",
    "        if i == 10**5:\n",
    "            break\n",
    "\n",
    "    x = x_new\n",
    "    return(x, i)"
   ]
  },
  {
   "cell_type": "code",
   "execution_count": 74,
   "metadata": {
    "execution": {
     "iopub.status.busy": "2025-09-21T12:55:27.758818Z",
     "iopub.status.idle": "2025-09-21T12:55:27.759221Z",
     "shell.execute_reply": "2025-09-21T12:55:27.759094Z",
     "shell.execute_reply.started": "2025-09-21T12:55:27.759082Z"
    }
   },
   "outputs": [],
   "source": [
    "# You can use this code cell to play around with your code to make sure\n",
    "# it does what it is intended to do, i.e. to debug your code. \n"
   ]
  },
  {
   "cell_type": "code",
   "execution_count": 75,
   "metadata": {
    "execution": {
     "iopub.status.busy": "2025-09-21T12:55:27.759938Z",
     "iopub.status.idle": "2025-09-21T12:55:27.760161Z",
     "shell.execute_reply": "2025-09-21T12:55:27.760055Z",
     "shell.execute_reply.started": "2025-09-21T12:55:27.760044Z"
    }
   },
   "outputs": [
    {
     "name": "stdout",
     "output_type": "stream",
     "text": [
      "Without dampening, after 1340 iterations, the page distribution converged to \n",
      " [7.70276398e-10 2.61299393e-10 2.00937458e-09 1.28978097e-09\n",
      " 0.00000000e+00 6.81636304e-10 1.00000000e+02] \n",
      "\n",
      "With dampening, after 192 iterations, the page distribution converged to \n",
      " [10.78381727  5.30657375 25.87757906 17.20617779  1.42857143  9.19184515\n",
      " 30.20543555]\n"
     ]
    }
   ],
   "source": [
    "# Test case\n",
    "A = nx.convert_matrix.to_numpy_array(graph2)\n",
    "A = A.T\n",
    "T1 = A / A.sum(axis=0)\n",
    "\n",
    "tol = 10**(-10)\n",
    "\n",
    "# No dampening\n",
    "d=1\n",
    "x,i = Pagerank_damped(T1, d, tol)\n",
    "print(\"Without dampening, after\", i , \"iterations, the page distribution converged to \\n\", x, \"\\n\")\n",
    "\n",
    "# With dampening\n",
    "d = 0.9\n",
    "x,i = Pagerank_damped(T1, d, tol)\n",
    "print(\"With dampening, after\", i , \"iterations, the page distribution converged to \\n\", x)"
   ]
  },
  {
   "cell_type": "markdown",
   "metadata": {
    "deletable": false,
    "editable": false,
    "nbgrader": {
     "cell_type": "markdown",
     "checksum": "917a832d7247009dc7bdf13a3ed97f7a",
     "grade": false,
     "grade_id": "cell-a72eb1de8b9732cd",
     "locked": true,
     "schema_version": 3,
     "solution": false,
     "task": false
    }
   },
   "source": [
    "Expected output:\n",
    "\n",
    "    Without dampening, after 1340 iterations, the page distribution converged to \n",
    "     [7.70276398e-10 2.61299393e-10 2.00937458e-09 1.28978097e-09\n",
    "     0.00000000e+00 6.81636304e-10 1.00000000e+02] \n",
    "\n",
    "    With dampening, after 192 iterations, the page distribution converged to \n",
    "     [10.78381727  5.30657375 25.87757906 17.20617779  1.42857143  9.19184515\n",
    "     30.20543555]"
   ]
  },
  {
   "cell_type": "code",
   "execution_count": 76,
   "metadata": {
    "deletable": false,
    "editable": false,
    "execution": {
     "iopub.status.busy": "2025-09-21T12:55:27.761226Z",
     "iopub.status.idle": "2025-09-21T12:55:27.761483Z",
     "shell.execute_reply": "2025-09-21T12:55:27.761365Z",
     "shell.execute_reply.started": "2025-09-21T12:55:27.761354Z"
    },
    "nbgrader": {
     "cell_type": "code",
     "checksum": "f639b2cfd0cc072bcd205ac9178b0e3f",
     "grade": true,
     "grade_id": "cell-303baf5f7bea1cf6",
     "locked": true,
     "points": 2,
     "schema_version": 3,
     "solution": false,
     "task": false
    }
   },
   "outputs": [],
   "source": [
    "# AUTOGRADING\n",
    "A = nx.convert_matrix.to_numpy_array(graph2)\n",
    "A = A.T\n",
    "T1 = A / A.sum(axis=0)\n",
    "\n",
    "tol = 10**(-10)\n",
    "\n",
    "# No dampening\n",
    "d=1\n",
    "x,i = Pagerank_damped(T1, d, tol)\n",
    "assert np.allclose(x, [0, 0, 0, 0, 0, 0, 100])\n",
    "assert np.allclose(i, 1340)\n",
    "\n",
    "# With dampening\n",
    "d = 0.9\n",
    "x,i = Pagerank_damped(T1, d, tol)\n",
    "assert np.allclose(x, [10.78381727, 5.30657375, 25.87757906, 17.20617779, 1.42857143, 9.19184515, 30.20543555])\n",
    "assert np.allclose(i, 192)"
   ]
  }
 ],
 "metadata": {
  "kernelspec": {
   "display_name": "base",
   "language": "python",
   "name": "python3"
  },
  "language_info": {
   "codemirror_mode": {
    "name": "ipython",
    "version": 3
   },
   "file_extension": ".py",
   "mimetype": "text/x-python",
   "name": "python",
   "nbconvert_exporter": "python",
   "pygments_lexer": "ipython3",
   "version": "3.11.7"
  },
  "widgets": {
   "application/vnd.jupyter.widget-state+json": {
    "state": {},
    "version_major": 2,
    "version_minor": 0
   }
  }
 },
 "nbformat": 4,
 "nbformat_minor": 4
}
