{
 "cells": [
  {
   "cell_type": "markdown",
   "id": "31dcebd8",
   "metadata": {
    "deletable": false,
    "editable": false,
    "nbgrader": {
     "cell_type": "markdown",
     "checksum": "0a616615bde8e16d555273f7b8f78d05",
     "grade": false,
     "grade_id": "cell-5755e5b050535533",
     "locked": true,
     "schema_version": 3,
     "solution": false,
     "task": false
    }
   },
   "source": [
    "# Homework Assignment 5: Recursion and the Spectral Theorem\n",
    "\n",
    "During the lecture we proved that we can transform an arbitrary real orthogonal matrix $A$ into its canonical form using an orthogonal change-of-basis matrix $Q$ \n",
    "$$ \\begin{equation*}\n",
    "       Q^T A Q = \\begin{bmatrix}\n",
    "       \\pm 1 & & & & & \\\\\n",
    "       & \\ddots & & & & \\\\\n",
    "       & & \\pm 1 & & & \\\\\n",
    "       & & & R_1 & & \\\\\n",
    "       & & & & \\ddots & \\\\\n",
    "       & & & & & R_k\n",
    "   \\end{bmatrix} \\tag{$\\star$}\n",
    "   \\end{equation*} $$\n",
    "where $R_1, \\dots, R_m$ are rotation matrices of the form\n",
    "   $$\\begin{bmatrix}\n",
    "       \\cos(\\theta) & -\\sin(\\theta) \\\\\n",
    "       \\sin(\\theta) & \\cos(\\theta)\n",
    "   \\end{bmatrix},$$\n",
    "   where $\\cos(\\theta) = \\text{Re}(\\lambda)$ for any complex eigenvalue $\\lambda$ of $A$.  The prove was by induction, which also sketches a procedure for how to bring a matrix $A$ into this form. \n",
    "\n",
    "Induction proves can numerically be implemented by a method called recursion, where a complicated problem is reduced to smaller instances until we reach a base case for which a solution is known and from which the solutions to the larger problems can be derived. You will be introduced to this way of programming first and then tackle the problem of implementing the Spectral decomposition. "
   ]
  },
  {
   "cell_type": "code",
   "execution_count": 164,
   "id": "b29f96a4",
   "metadata": {
    "deletable": false,
    "editable": false,
    "nbgrader": {
     "cell_type": "code",
     "checksum": "44366093414b0a7832fc7b21ee2b508f",
     "grade": false,
     "grade_id": "cell-19406d082c07cbd0",
     "locked": true,
     "schema_version": 3,
     "solution": false,
     "task": false
    }
   },
   "outputs": [],
   "source": [
    "# All Import Statements Defined Here\n",
    "# Note: Do not add to this list anywhere.\n",
    "# ----------------\n",
    "\n",
    "import math\n",
    "import numpy as np\n",
    "import numpy.linalg as la"
   ]
  },
  {
   "cell_type": "markdown",
   "id": "86219733",
   "metadata": {
    "deletable": false,
    "editable": false,
    "nbgrader": {
     "cell_type": "markdown",
     "checksum": "3d0687912d73cd32c5e8cf43e03a60a7",
     "grade": false,
     "grade_id": "cell-3b6700982a838447",
     "locked": true,
     "schema_version": 3,
     "solution": false,
     "task": false
    }
   },
   "source": [
    "## Recursive functions\n",
    "\n",
    "A recursive function is a function that calls itself until it doesn't. Typically, you use a recursive function to divide a big problem that is difficult to solve into smaller problems that are easier to solve. In programming, you'll often find recursive functions used in data structures and algorithms like trees, graphs and binary searches.\n",
    "\n",
    "The following `fn()` shows the general structure of a recursive function (ignore the error message)."
   ]
  },
  {
   "cell_type": "code",
   "execution_count": 162,
   "id": "15ea0c09",
   "metadata": {
    "deletable": false,
    "editable": false,
    "nbgrader": {
     "cell_type": "code",
     "checksum": "8955217b2256bb3aee2bf0c7f42d2722",
     "grade": false,
     "grade_id": "cell-bd1377035cd867d3",
     "locked": true,
     "schema_version": 3,
     "solution": false,
     "task": false
    }
   },
   "outputs": [
    {
     "ename": "IndentationError",
     "evalue": "expected an indented block after 'if' statement on line 3 (2825268492.py, line 5)",
     "output_type": "error",
     "traceback": [
      "\u001b[0;36m  Cell \u001b[0;32mIn[162], line 5\u001b[0;36m\u001b[0m\n\u001b[0;31m    else:\u001b[0m\n\u001b[0m    ^\u001b[0m\n\u001b[0;31mIndentationError\u001b[0m\u001b[0;31m:\u001b[0m expected an indented block after 'if' statement on line 3\n"
     ]
    }
   ],
   "source": [
    "def fn():\n",
    "    #...\n",
    "    if condition:\n",
    "        # stop calling itself\n",
    "    else:\n",
    "        fn()\n",
    "    #..."
   ]
  },
  {
   "cell_type": "markdown",
   "id": "00c53188",
   "metadata": {
    "deletable": false,
    "editable": false,
    "nbgrader": {
     "cell_type": "markdown",
     "checksum": "c036ecf2d51367fd905f5202b658d291",
     "grade": false,
     "grade_id": "cell-d608bc3019fdc2c7",
     "locked": true,
     "schema_version": 3,
     "solution": false,
     "task": false
    }
   },
   "source": [
    "Suppose you need to develop a `countdown` function that counts down from a specified number to zero. For example, if you call the function that counts down from 3, it'll show the output\n",
    "\n",
    "    3\n",
    "    2\n",
    "    1\n",
    "    Liftoff!\n",
    "\n",
    "The following defines a recursive `countdown()` function and calls it by passing the number 3."
   ]
  },
  {
   "cell_type": "code",
   "execution_count": 165,
   "id": "645070d3",
   "metadata": {
    "deletable": false,
    "editable": false,
    "nbgrader": {
     "cell_type": "code",
     "checksum": "108d3a67a92a9b3978d2adf290475aa6",
     "grade": false,
     "grade_id": "cell-edd6b3033e5cc83a",
     "locked": true,
     "schema_version": 3,
     "solution": false,
     "task": false
    }
   },
   "outputs": [],
   "source": [
    "def countdown(start):\n",
    "    \"\"\" Count down from a positive number \"\"\"\n",
    "    print(start)\n",
    "    countdown(start-1)\n",
    "\n",
    "#countdown(3)"
   ]
  },
  {
   "cell_type": "markdown",
   "id": "a37bbb0a",
   "metadata": {
    "deletable": false,
    "editable": false,
    "nbgrader": {
     "cell_type": "markdown",
     "checksum": "b2b8889af5d8e33648b99b291306161e",
     "grade": false,
     "grade_id": "cell-ec84c5b7bd9efd13",
     "locked": true,
     "schema_version": 3,
     "solution": false,
     "task": false
    }
   },
   "source": [
    "If you execute this program, it will print a bunch of numbers, until an error message appears telling you the maximum recursion depth has been exceeded. The reason is that `countdown` calls itself indefinitely until the system stops it. Since we need to stop counting down when we reach zero, we need to add a condition as follows:"
   ]
  },
  {
   "cell_type": "code",
   "execution_count": 166,
   "id": "6c8099b7",
   "metadata": {
    "deletable": false,
    "editable": false,
    "nbgrader": {
     "cell_type": "code",
     "checksum": "9e64adbf78d40d00717ad5a50f0b4b05",
     "grade": false,
     "grade_id": "cell-ff390c1f6c11cbd9",
     "locked": true,
     "schema_version": 3,
     "solution": false,
     "task": false
    }
   },
   "outputs": [
    {
     "name": "stdout",
     "output_type": "stream",
     "text": [
      "3\n",
      "2\n",
      "1\n",
      "Liftoff!\n"
     ]
    }
   ],
   "source": [
    "def countdown(start):\n",
    "    \"\"\" Count down from a positive number \"\"\"\n",
    "    if start == 0:\n",
    "        print(\"Liftoff!\")\n",
    "    else:\n",
    "        print(start)\n",
    "        countdown(start-1) \n",
    "\n",
    "countdown(3)"
   ]
  },
  {
   "cell_type": "markdown",
   "id": "3fad6b4e",
   "metadata": {
    "deletable": false,
    "editable": false,
    "nbgrader": {
     "cell_type": "markdown",
     "checksum": "6a3bdbe2d1a815bab0df3524cfe7eb21",
     "grade": false,
     "grade_id": "cell-75e7971d651d8fd6",
     "locked": true,
     "schema_version": 3,
     "solution": false,
     "task": false
    }
   },
   "source": [
    "In the example, `countdown` only calls itself when the next number is greater than zero. If the next number is zero, it is time for liftoff. \n",
    "\n",
    "### Recursive functions to calculate sums\n",
    "\n",
    "Suppose that you need to calculate a sum of a sequence, e.g. from 1 to 100. In the first assignment we saw a simple way to do this using a for loop:"
   ]
  },
  {
   "cell_type": "code",
   "execution_count": 167,
   "id": "d84d7e61",
   "metadata": {
    "deletable": false,
    "editable": false,
    "nbgrader": {
     "cell_type": "code",
     "checksum": "bda549953cade406de571a3407b19bf3",
     "grade": false,
     "grade_id": "cell-ce6d704e12b71a70",
     "locked": true,
     "schema_version": 3,
     "solution": false,
     "task": false
    }
   },
   "outputs": [
    {
     "name": "stdout",
     "output_type": "stream",
     "text": [
      "5050\n"
     ]
    }
   ],
   "source": [
    "def arithmetic_sum(n):\n",
    "    total = 0\n",
    "    for k in range(1, n+1):\n",
    "        total += k\n",
    "    return(total)\n",
    "\n",
    "print(arithmetic_sum(100))"
   ]
  },
  {
   "cell_type": "markdown",
   "id": "e0c38245",
   "metadata": {
    "deletable": false,
    "editable": false,
    "nbgrader": {
     "cell_type": "markdown",
     "checksum": "9c1cd8925235cb2484f66f255ada070c",
     "grade": false,
     "grade_id": "cell-9d18db2b301d7091",
     "locked": true,
     "schema_version": 3,
     "solution": false,
     "task": false
    }
   },
   "source": [
    "To apply the recursion technique, you can calculate the sum of the sequence from 1 to n as follows:\n",
    "- recursive_sum(n) = n + recursive_sum(n-1)\n",
    "- recursive_sum(n-1) = (n-1) + recursive_sum(n-2)\n",
    "- ...\n",
    "- recursive_sum(2) = 2 + recursive_sum(1)\n",
    "- recursive_sum(1) = 1 + recursive_sum(0)\n",
    "\n",
    "The `recursive_sum` keeps calling itself as long as its argument is greater than zero. When it reaches the \"base case\" $n=0$ we know already what the output should be. The following function defines the recursive version:"
   ]
  },
  {
   "cell_type": "code",
   "execution_count": 168,
   "id": "78f9a921",
   "metadata": {
    "deletable": false,
    "editable": false,
    "nbgrader": {
     "cell_type": "code",
     "checksum": "af6f71f2c9f6ee36feaed9d1eaa90fc0",
     "grade": false,
     "grade_id": "cell-a571621b1f658783",
     "locked": true,
     "schema_version": 3,
     "solution": false,
     "task": false
    }
   },
   "outputs": [
    {
     "name": "stdout",
     "output_type": "stream",
     "text": [
      "5050\n"
     ]
    }
   ],
   "source": [
    "def recursive_sum(n):\n",
    "    if n == 0:\n",
    "        return(0)\n",
    "    else:\n",
    "        return(n + recursive_sum(n-1))\n",
    "    \n",
    "print(recursive_sum(100))"
   ]
  },
  {
   "cell_type": "markdown",
   "id": "2b9eabc2",
   "metadata": {
    "deletable": false,
    "editable": false,
    "nbgrader": {
     "cell_type": "markdown",
     "checksum": "9f883be367a370a2442a6494f4bedcbb",
     "grade": false,
     "grade_id": "cell-7ca2a9b16785ed8b",
     "locked": true,
     "schema_version": 3,
     "solution": false,
     "task": false
    }
   },
   "source": [
    "## Problem 1: Getting started with recursive functions (1 point)\n",
    "\n",
    "Implement the function `power` below in a recursive way, that is, without using the built-in power-operator `**` or the built-in function `pow`. \n",
    "\n",
    "*Hint: mimic the function `recursive_sum` above. Think about what the \"base case\" should be. Moreover you may assume the convention that $0^0 = 1$ for convenience (although this isn't always a natural assumption, see [here](https://en.wikipedia.org/wiki/Zero_to_the_power_of_zero)).*"
   ]
  },
  {
   "cell_type": "code",
   "execution_count": 169,
   "id": "3c58e13a",
   "metadata": {
    "deletable": false,
    "nbgrader": {
     "cell_type": "code",
     "checksum": "e915cbdc33beba2ad039f079d718ef68",
     "grade": false,
     "grade_id": "cell-44f60693f32f73c7",
     "locked": false,
     "schema_version": 3,
     "solution": true,
     "task": false
    }
   },
   "outputs": [],
   "source": [
    "def power(x, n):\n",
    "    \"\"\"\n",
    "    Returns the result of x raised to the power n (i.e. x^n) \n",
    "    in a recursive manner. \n",
    "    \n",
    "    Parameters\n",
    "    ----------\n",
    "        x (float): base number\n",
    "        n (int): non-negative integer to which power x will be raised\n",
    "        \n",
    "    Returns\n",
    "    -------\n",
    "        y (float): result x raised to the power n\n",
    "    \n",
    "    \"\"\"\n",
    "    \n",
    "    # YOUR CODE HERE\n",
    "    if n == 0:\n",
    "        return(1)\n",
    "    else:\n",
    "        return(x * power(x, n-1))\n"
   ]
  },
  {
   "cell_type": "code",
   "execution_count": null,
   "id": "2781a2fd",
   "metadata": {},
   "outputs": [],
   "source": [
    "# You can use this code cell to play around with your functions to make sure\n",
    "# they do what they are intended to do, i.e. to debug your code. \n"
   ]
  },
  {
   "cell_type": "code",
   "execution_count": 170,
   "id": "f1941dab",
   "metadata": {
    "deletable": false,
    "editable": false,
    "nbgrader": {
     "cell_type": "code",
     "checksum": "9471a2a5f83da219e5cc03c4b5284332",
     "grade": false,
     "grade_id": "cell-9cf8ba31b85e7240",
     "locked": true,
     "schema_version": 3,
     "solution": false,
     "task": false
    }
   },
   "outputs": [
    {
     "name": "stdout",
     "output_type": "stream",
     "text": [
      "2^10 = 1024\n",
      "3^5 = 243\n",
      "5^0 = 1\n"
     ]
    }
   ],
   "source": [
    "# Test cases\n",
    "y = power(2, 10)\n",
    "print(\"2^10 =\", y)\n",
    "\n",
    "y = power(3, 5)\n",
    "print(\"3^5 =\", y)\n",
    "\n",
    "y = power(5, 0)\n",
    "print(\"5^0 =\", y)"
   ]
  },
  {
   "cell_type": "markdown",
   "id": "8c0a0509",
   "metadata": {
    "deletable": false,
    "editable": false,
    "nbgrader": {
     "cell_type": "markdown",
     "checksum": "1276401353ce9a2fbc69e8780caca75a",
     "grade": false,
     "grade_id": "cell-6c3236e18a6425c8",
     "locked": true,
     "schema_version": 3,
     "solution": false,
     "task": false
    }
   },
   "source": [
    "Expected output:\n",
    "\n",
    "    2^10 = 1024\n",
    "    3^5 = 243\n",
    "    5^0 = 1"
   ]
  },
  {
   "cell_type": "code",
   "execution_count": 171,
   "id": "1d3998f3",
   "metadata": {
    "deletable": false,
    "editable": false,
    "nbgrader": {
     "cell_type": "code",
     "checksum": "3e9978b95f5678db8cfa2b2215e9368b",
     "grade": true,
     "grade_id": "cell-56900504351d4db5",
     "locked": true,
     "points": 1,
     "schema_version": 3,
     "solution": false,
     "task": false
    }
   },
   "outputs": [],
   "source": [
    "# AUTOGRADER, BEWARE OF POTENTIAL HIDDEN TEST CASES\n",
    "# Note that this not an exhaustive check for correctness.\n",
    "\n",
    "y1 = power(2, 10)\n",
    "assert np.allclose(y1, 1024)\n",
    "\n",
    "y2 = power(3, 5)\n",
    "assert np.allclose(y2, 243)\n",
    "\n",
    "y3 = power(5, 0)\n",
    "assert np.allclose(y3, 1)\n"
   ]
  },
  {
   "cell_type": "markdown",
   "id": "c5a5f323-1491-4e57-a23b-a56972658192",
   "metadata": {},
   "source": [
    "## Problem 2: Maximum in a list (1 point)\n",
    "\n",
    "Implement a recursive function `recursive_maximum` below that returns the maximum value of a non-empty list of integers. You are **not allowed to use** Python's built-in `max` function or any kind of loop (`for`, `while`). The function must use recursion."
   ]
  },
  {
   "cell_type": "code",
   "execution_count": 172,
   "id": "e214fb5f-64fa-4384-a42c-2a74a33c1b41",
   "metadata": {
    "deletable": false,
    "nbgrader": {
     "cell_type": "code",
     "checksum": "e388a91254e73b410f5e04b41e5c81ac",
     "grade": false,
     "grade_id": "cell-1410e691ea7efdf9",
     "locked": false,
     "schema_version": 3,
     "solution": true,
     "task": false
    }
   },
   "outputs": [],
   "source": [
    "def recursive_maximum(lst):\n",
    "    \"\"\"\n",
    "    Recursively computes the maximum element of a non-empty list.\n",
    "\n",
    "    Parameters\n",
    "    ----------\n",
    "        lst (list): A non-empty list of integers.\n",
    "\n",
    "    Returns\n",
    "    -------\n",
    "        (int): The maximum value in the list\n",
    "    \n",
    "    \"\"\"\n",
    "\n",
    "    # YOUR CODE HERE\n",
    "    if len(lst) == 1:\n",
    "        return(lst[0])\n",
    "    else:\n",
    "        if lst[0] > recursive_maximum(lst[1:]):\n",
    "            return(lst[0])\n",
    "        else:\n",
    "            return(recursive_maximum(lst[1:]))"
   ]
  },
  {
   "cell_type": "code",
   "execution_count": null,
   "id": "43c647a2-f5f1-4844-9e7a-895fe122d1bb",
   "metadata": {},
   "outputs": [],
   "source": [
    "# You can use this code cell to play around with your functions to make sure\n",
    "# they do what they are intended to do, i.e. to debug your code. \n"
   ]
  },
  {
   "cell_type": "code",
   "execution_count": 173,
   "id": "fd6ad6c1-2b7b-429f-8a09-bf13dc9691b5",
   "metadata": {},
   "outputs": [
    {
     "name": "stdout",
     "output_type": "stream",
     "text": [
      "The maximum element of [3, 7, 2, 9, 5] is 9.\n",
      "The maximum element of [42] is 42.\n"
     ]
    }
   ],
   "source": [
    "# Test cases\n",
    "test_list = [3, 7, 2, 9, 5]\n",
    "print(f\"The maximum element of {test_list} is {recursive_maximum(test_list)}.\")\n",
    "\n",
    "test_list = [42]\n",
    "print(f\"The maximum element of {test_list} is {recursive_maximum(test_list)}.\")"
   ]
  },
  {
   "cell_type": "markdown",
   "id": "74c4712f-321b-4eb7-aae0-68900357e92b",
   "metadata": {},
   "source": [
    "Expected output:\n",
    "\n",
    "    The maximum element of [3, 7, 2, 9, 5] is 9.\n",
    "    The maximum element of [42] is 42."
   ]
  },
  {
   "cell_type": "code",
   "execution_count": 174,
   "id": "b5c9088e-0e94-4afd-910b-e56ba0c053aa",
   "metadata": {
    "deletable": false,
    "editable": false,
    "nbgrader": {
     "cell_type": "code",
     "checksum": "0f7180018c1286d05ff14b2729905de1",
     "grade": true,
     "grade_id": "cell-489a8f2c8b8086b9",
     "locked": true,
     "points": 1,
     "schema_version": 3,
     "solution": false,
     "task": false
    }
   },
   "outputs": [],
   "source": [
    "# AUTOGRADER, BEWARE OF POTENTIAL HIDDEN TEST CASES\n",
    "# Note that this not an exhaustive check for correctness.\n",
    "\n",
    "m1 = recursive_maximum([3, 7, 2, 9, 5])\n",
    "assert np.allclose(m1, 9)\n",
    "\n",
    "m2 = recursive_maximum([42])\n",
    "assert np.allclose(m2, 42)\n"
   ]
  },
  {
   "cell_type": "markdown",
   "id": "628d4b52",
   "metadata": {},
   "source": [
    "## Problem 3: Permutation sequences (2 points)\n",
    "\n",
    "The list \\[1, 2, ..., n\\] contains a total of $n!$ unique permutations. By listing and labeling all of the permutations in ascending order, we get the following sequence for $n=3$:\n",
    "    \n",
    "    1. \"123\"\n",
    "    2. \"132\"\n",
    "    3. \"213\"\n",
    "    4. \"231\"\n",
    "    5. \"312\"\n",
    "    6. \"321\"\n",
    "\n",
    "Your task is to implement the function `permutation` below that finds for a list of distinct digits the $k^{\\text{th}}$ permutation sequence. For example the third permutation sequence for \\[1, 2, 3\\] would be \"213\". Note that your output should be string, not an integer!\n",
    "\n",
    "*Hint 1. Your first realization should be that for each starting number there are (n-1)! possibilities. E.g. for \\[1, 2, 3, 4\\] the possible permutation sequences are:*\n",
    "    \n",
    "    1. \"1234\"       7. \"2134\"      13. \"3124\"      19. \"4123\"\n",
    "    2. \"1243\"       8. \"2143\"      14. \"3142\"      20. \"4132\"\n",
    "    3. \"1324\"       9. \"2314\"      15. \"3214\"      21. \"4213\"\n",
    "    4. \"1342\"      10. \"2341\"      16. \"3241\"      22. \"4231\"\n",
    "    5. \"1423\"      11. \"2413\"      17. \"3412\"      23. \"4312\"\n",
    "    6. \"1432\"      12. \"2431\"      18. \"3421\"      24. \"4321\"\n",
    "\n",
    "*So we see for each starting number there are six possibilities, which is the same as 3!.*\n",
    "\n",
    "*Hint 2. You can find the starting number for the permutation by considering (k-1) // (n-1)!, that is integer division (how many times does (n-1)! fit into (k-1)). This is because for each possible starting number there are (n-1)! possibilities. So if we divide k-1 by this, we will get the index of the starting number in the list of digits.*\n",
    "\n",
    "*Hint 3. If you found the starting number, you can remove it from your list of digits. Remember the method `list.remove(item)`. Now you need to repeat the process by applying `permutation` to the remaining digits. Think about what the new `k` should be.*\n",
    "\n",
    "*Hint 4. What should be the base case in your recursion? Various options are possible.* \n",
    "\n",
    "*Hint 5. You can concatenate strings using the `+` operator. So `\"4\" + \"213\"` will create `\"4213\"`*\n",
    "\n",
    "*Hint 6. You can use the built-in factorial function `math.factorial`.*"
   ]
  },
  {
   "cell_type": "code",
   "execution_count": 177,
   "id": "f88a67e6",
   "metadata": {
    "deletable": false,
    "nbgrader": {
     "cell_type": "code",
     "checksum": "ef7b69a00e345ae4afd62f68447565cf",
     "grade": false,
     "grade_id": "cell-e74193e0bd593ffa",
     "locked": false,
     "schema_version": 3,
     "solution": true,
     "task": false
    }
   },
   "outputs": [],
   "source": [
    "def permutation(digits, k):\n",
    "    \"\"\"\n",
    "    Returns the kth permutation sequence. \n",
    "    \n",
    "    Parameters\n",
    "    ----------\n",
    "        digits (list): list containing n distinct digits between 1 and 9. \n",
    "        k (int): integer between 1 and n!. \n",
    "        \n",
    "    Returns\n",
    "    -------\n",
    "        s (str): string representing the kth permutation sequence.\n",
    "    \n",
    "    \"\"\"\n",
    "    \n",
    "    # YOUR CODE HERE\n",
    "    if len(digits) == 0:\n",
    "        return(\"\")\n",
    "    else:\n",
    "        n = len(digits)\n",
    "        index = (k - 1) // math.factorial(n - 1)\n",
    "        select_digit = digits[index]\n",
    "        remain_digits = digits[:index] + digits[index + 1:]\n",
    "        new_k = k - index * math.factorial(n - 1)\n",
    "        return(str(select_digit) + permutation(remain_digits, new_k))\n"
   ]
  },
  {
   "cell_type": "code",
   "execution_count": null,
   "id": "fa6beec4",
   "metadata": {},
   "outputs": [],
   "source": [
    "# You can use this code cell to play around with your functions to make sure\n",
    "# they do what they are intended to do, i.e. to debug your code. \n"
   ]
  },
  {
   "cell_type": "code",
   "execution_count": 178,
   "id": "92ae7e1c",
   "metadata": {
    "deletable": false,
    "editable": false,
    "nbgrader": {
     "cell_type": "code",
     "checksum": "a4c143ca9e6837137d392f3ebdb639bb",
     "grade": false,
     "grade_id": "cell-7e1d1886d7b946fc",
     "locked": true,
     "schema_version": 3,
     "solution": false,
     "task": false
    }
   },
   "outputs": [
    {
     "name": "stdout",
     "output_type": "stream",
     "text": [
      "For [1, 2, 3] the third permutation sequence with is 213\n",
      "For [1, 2, 3, 4] the ninth permutation sequence with is 2314\n",
      "For [1, 2, 3, 4, 5, 6] the 451st permutation sequence with is 456123\n"
     ]
    }
   ],
   "source": [
    "# Test cases\n",
    "digits = list(range(1, 4))\n",
    "k = 3\n",
    "print(\"For [1, 2, 3] the third permutation sequence with is\", permutation(digits, k))\n",
    "\n",
    "digits = list(range(1, 5))\n",
    "k = 9\n",
    "print(\"For [1, 2, 3, 4] the ninth permutation sequence with is\", permutation(digits, k))\n",
    "\n",
    "digits = list(range(1, 7))\n",
    "k = 451\n",
    "print(\"For [1, 2, 3, 4, 5, 6] the 451st permutation sequence with is\", permutation(digits, k))"
   ]
  },
  {
   "cell_type": "markdown",
   "id": "3828df5c",
   "metadata": {
    "deletable": false,
    "editable": false,
    "nbgrader": {
     "cell_type": "markdown",
     "checksum": "ecb4360dc630ae910112831233967267",
     "grade": false,
     "grade_id": "cell-08bb9822b2658b99",
     "locked": true,
     "schema_version": 3,
     "solution": false,
     "task": false
    }
   },
   "source": [
    "Expected output:\n",
    "    \n",
    "    For [1, 2, 3] the third permutation sequence with is 213\n",
    "    For [1, 2, 3, 4] the ninth permutation sequence with is 2314\n",
    "    For [1, 2, 3, 4, 5, 6] the 451st permutation sequence with is 456123"
   ]
  },
  {
   "cell_type": "code",
   "execution_count": 179,
   "id": "7af40ca5",
   "metadata": {
    "deletable": false,
    "editable": false,
    "nbgrader": {
     "cell_type": "code",
     "checksum": "e3443efe8e8c0e7303f6db4675497fe9",
     "grade": true,
     "grade_id": "cell-1008d587cb3736d0",
     "locked": true,
     "points": 2,
     "schema_version": 3,
     "solution": false,
     "task": false
    }
   },
   "outputs": [],
   "source": [
    "# AUTOGRADER, BEWARE OF POTENTIAL HIDDEN TEST CASES\n",
    "# Note that this not an exhaustive check for correctness.\n",
    "\n",
    "assert permutation(list(range(1,4)), 3) == \"213\"\n",
    "assert permutation(list(range(1,5)), 1) == \"1234\"\n",
    "assert permutation(list(range(1,5)), 9) == \"2314\"\n",
    "assert permutation(list(range(1,5)), 24) == \"4321\"\n",
    "assert permutation(list(range(1,7)), 451) == \"456123\"\n"
   ]
  },
  {
   "cell_type": "markdown",
   "id": "092b8574",
   "metadata": {
    "deletable": false,
    "editable": false,
    "nbgrader": {
     "cell_type": "markdown",
     "checksum": "82344a62f49cdbe1f4fdafbe39e50860",
     "grade": false,
     "grade_id": "cell-385ad858da26b655",
     "locked": true,
     "schema_version": 3,
     "solution": false,
     "task": false
    }
   },
   "source": [
    "## Problem 4: Spectral Decomposition of Orthogonal Matrices (6 = 1 + 2 + 3 points)\n",
    "\n",
    "The proof of the Spectral Decomposition of an orthogonal matrix (see the reader or appendix below) uses induction, which shows great similarities with the recursive problems discussed earlier. Your task will be to implement the Spectral decomposition of orthogonal matrices in Python, the procedure of which should be in line with the proof of the spectral theorem. \n",
    "\n",
    "Implement the functions `orthonormal_basis`, `base_case` and `spectral_decomposition` below. \n",
    "\n",
    "Important instructions:\n",
    "\n",
    "1. For `orthonormal_basis` it might be useful to think about how you can use the built-in QR factorization `np.linalg.qr` using the 'complete' mode, you can find its documentation [here](https://numpy.org/doc/stable/reference/generated/numpy.linalg.qr.html). Note that this approach might alter the sign of the original columns, do not worry about this!\n",
    "\n",
    "2. Each iteration use the first eigenvalue and eigenvector from the eVals and eVecs to get results that are consistent with the provided test cases. Mathematically it does not matter which one you choose, but it might be easier to check your work if you stick to this rule. \n",
    "\n",
    "3. You can check if an eigenvalue is real or complex using the methods `np.isreal` or `np.iscomplex`, see the documentation [here](https://numpy.org/doc/stable/reference/generated/numpy.isreal.html). **However**, the eigenvalue/eigenvector function `np.linalg.eig` is only an approximation of the actual eigenvalues/eigenvectors and might make rounding errors that makes real eigenvalues be treated as complex eigenvalues. For example the matrix $\\begin{bmatrix} 3 & 0 & 0 \\\\ 1 & 1 & 2 \\\\ 1 & -2 & 5 \\end{bmatrix}$ only has eigenvalue $\\lambda=3$, but Python will return $\\lambda=3+0.00000003i, \\lambda=3-0.00000003i$ and $\\lambda=3$. So **instead** of using `np.isreal` to check if an eigenvalue is real, you should use `np.isclose` to check if the imaginary part of an eigenvalue is close to zero, which you can find using `np.imag`. \n",
    "\n",
    "5. When your matrix has complex eigenvalues, the eVecs matrix containing eigenvectors will show real numbers as complex numbers. That is, the number 3 will be treated as 3 + 0j. To make everything print nicely (which makes it easier to verify the test cases), convert the eigenvectors to display real values using `np.real`.\n",
    "\n",
    "6. You should skip the final step in the proof, namely that of reshuffling the columns of $Q$ to make the matrix $B$ be in the form ($\\star$). "
   ]
  },
  {
   "cell_type": "code",
   "execution_count": 180,
   "id": "18fb8493",
   "metadata": {
    "deletable": false,
    "nbgrader": {
     "cell_type": "code",
     "checksum": "d36954baa4f17a86cc654141ca886939",
     "grade": false,
     "grade_id": "cell-29c63a078db4853b",
     "locked": false,
     "schema_version": 3,
     "solution": true,
     "task": false
    }
   },
   "outputs": [],
   "source": [
    "def orthonormal_basis(A):\n",
    "    \"\"\"\n",
    "    Computes the matrix Q whose first k columns form an orthonormal basis for\n",
    "    the image of A, and extends this to an orthonormal basis of R^n so that\n",
    "    Q is an orthogonal matrix\n",
    "    \n",
    "    Parameters\n",
    "    ----------\n",
    "        A (ndarray): n x k matrix with linearly independent columns\n",
    "        \n",
    "    Returns\n",
    "    -------\n",
    "        Q (ndarray): n x n orthogonal matrix.\n",
    "    \n",
    "    \"\"\"\n",
    "    \n",
    "    # YOUR CODE HERE\n",
    "    Q ,R = np.linalg.qr(A, mode='complete')\n",
    "    return Q\n",
    "    "
   ]
  },
  {
   "cell_type": "code",
   "execution_count": 182,
   "id": "b9606d67",
   "metadata": {
    "deletable": false,
    "nbgrader": {
     "cell_type": "code",
     "checksum": "afab615882495f1b4ea1f9bc48a8ce97",
     "grade": false,
     "grade_id": "cell-a3c79ad9d58912d5",
     "locked": false,
     "schema_version": 3,
     "solution": true,
     "task": false
    }
   },
   "outputs": [],
   "source": [
    "def base_case(A):\n",
    "    \"\"\"\n",
    "    Computes the matrices Q and B in the Spectral decomposition of A, \n",
    "    that is A = Q B Q^T, in the special casess that A is either\n",
    "    a 1x1 or 2x2 matrix. Implementation should be in line with that \n",
    "    as discussed in the proof of the reader\n",
    "    \n",
    "    Parameters\n",
    "    ----------\n",
    "        A (ndarray): an arbitrary 1x1 or 2x2 orthogonal matrix with \n",
    "                     real entries.\n",
    "        \n",
    "    Returns\n",
    "    -------\n",
    "        Q (ndarray): orthogonal matrix.\n",
    "        B (ndarray): matrix in canonical form (⋆) such that QBQ^T = A.\n",
    "    \n",
    "    \"\"\"\n",
    "    \n",
    "    n = A.shape[0]\n",
    "    eVals, eVecs = la.eig(A)  # The eig function returns normalized eigenvectors\n",
    "    \n",
    "    # YOUR CODE HERE\n",
    "    if n == 1:\n",
    "        Q = np.array([[1]])\n",
    "        B = A\n",
    "    else:\n",
    "        if np.isreal(eVals).all():\n",
    "            Q = eVecs\n",
    "            B = np.diag(np.sign(eVals))\n",
    "\n",
    "            if Q[0,0] > 0:\n",
    "                Q[:,0] = -Q[:,0]\n",
    "        else:\n",
    "            w = eVecs[:, 0]\n",
    "\n",
    "            x = np.real(w)\n",
    "            y = np.imag(w)\n",
    "\n",
    "            Q = np.array([np.sqrt(2)*y/la.norm(w), np.sqrt(2)*x/la.norm(w)]).T\n",
    "            B = Q.T @ A @ Q\n",
    "    \n",
    "    return Q, B\n"
   ]
  },
  {
   "cell_type": "code",
   "execution_count": 183,
   "id": "7f9b3eb5",
   "metadata": {
    "deletable": false,
    "nbgrader": {
     "cell_type": "code",
     "checksum": "89360aff397fb54d717b06522b9a6364",
     "grade": false,
     "grade_id": "cell-6820e4f949fa930e",
     "locked": false,
     "schema_version": 3,
     "solution": true,
     "task": false
    }
   },
   "outputs": [],
   "source": [
    "def spectral_decomposition(A):\n",
    "    \"\"\"\n",
    "    Computes the matrices Q and B in a Spectral decomposition of A, \n",
    "    that is A = Q B Q^T. Implementation should be in line with that\n",
    "    as discussed in the proof of the textbook.\n",
    "    \n",
    "    Parameters\n",
    "    ----------\n",
    "        A (ndarray): an orthogonal n x n matrix.\n",
    "        \n",
    "    Returns\n",
    "    -------\n",
    "        Q (ndarray): orthogonal n x n matrix.\n",
    "        B (ndarray): matrix in canonical form (⋆) such that QBQ^T = A.\n",
    "    \n",
    "    \"\"\"\n",
    "    \n",
    "    n = A.shape[0]\n",
    "    \n",
    "    if n <= 2:\n",
    "        Q, B = base_case(A)\n",
    "        return(Q, B)\n",
    "    \n",
    "    eVals, eVecs = la.eig(A)\n",
    "    \n",
    "    # YOUR CODE HERE\n",
    "    lam = eVals[0]\n",
    "    w = eVecs[:, 0]\n",
    "\n",
    "    if np.isclose(np.imag(lam), 0):\n",
    "        v = np.real(w).reshape(-1,1)\n",
    "\n",
    "        Q1 = orthonormal_basis(v)\n",
    "\n",
    "        A1 = Q1.T @ A @ Q1\n",
    "        B1 = A1[1:,1:]\n",
    "        Q2, B2 = spectral_decomposition(B1)\n",
    "\n",
    "        Q = Q1 @ np.block([\n",
    "            [np.array([[1]]), np.zeros((1,n-1))],\n",
    "            [np.zeros((n-1,1)), Q2]\n",
    "        ])\n",
    "        B = np.block([\n",
    "            [np.array([[np.real(lam)]]), np.zeros((1,n-1))],\n",
    "            [np.zeros((n-1,1)), B2]\n",
    "        ])\n",
    "\n",
    "    else:\n",
    "        x = np.real(w)\n",
    "        y = np.imag(w)\n",
    "\n",
    "        u1 = np.sqrt(2) * y / la.norm(w)\n",
    "        u2 = np.sqrt(2) * x / la.norm(w)\n",
    "\n",
    "        V = np.column_stack([u1,u2])\n",
    "        Q1 = orthonormal_basis(V)\n",
    "\n",
    "        A1 = Q1.T @ A @ Q1\n",
    "        B1 = A1[2:,2:]\n",
    "        Q2, B2 = spectral_decomposition(B1)\n",
    "\n",
    "        theta = np.angle(lam)\n",
    "        R = np.array([[np.cos(theta), -np.sin(theta)],\n",
    "                      [np.sin(theta),  np.cos(theta)]])\n",
    "\n",
    "        Q = Q1 @ np.block([\n",
    "            [np.eye(2), np.zeros((2,n-2))],\n",
    "            [np.zeros((n-2,2)), Q2]\n",
    "        ])\n",
    "        B = np.block([\n",
    "            [R, np.zeros((2,n-2))],\n",
    "            [np.zeros((n-2,2)), B2]\n",
    "        ])\n",
    "\n",
    "    return np.real(Q), np.real(B)\n",
    "    "
   ]
  },
  {
   "cell_type": "code",
   "execution_count": null,
   "id": "e176a4c0",
   "metadata": {},
   "outputs": [],
   "source": [
    "# You can use this code cell to play around with your functions to make sure\n",
    "# they do what they are intended to do, i.e. to debug your code. \n"
   ]
  },
  {
   "cell_type": "code",
   "execution_count": 184,
   "id": "cf0d0f91",
   "metadata": {
    "deletable": false,
    "editable": false,
    "nbgrader": {
     "cell_type": "code",
     "checksum": "44920d7954ea3c0d388303cd54d8fe2d",
     "grade": false,
     "grade_id": "cell-62013380f871c511",
     "locked": true,
     "schema_version": 3,
     "solution": false,
     "task": false
    }
   },
   "outputs": [
    {
     "name": "stdout",
     "output_type": "stream",
     "text": [
      "A = \n",
      " [[0 1]\n",
      " [1 1]\n",
      " [2 1]\n",
      " [2 1]] \n",
      "\n",
      "Q = \n",
      " [[ 0.   -0.9  -0.3  -0.3 ]\n",
      " [-0.33 -0.4   0.6   0.6 ]\n",
      " [-0.67  0.1   0.35 -0.65]\n",
      " [-0.67  0.1  -0.65  0.35]]\n"
     ]
    }
   ],
   "source": [
    "# Test case for orthonormal_basis\n",
    "# Note that the sign of the first column has changed, don't worry about this!\n",
    "np.set_printoptions(precision=2, suppress=True)  # Print zeros and decimals nicely\n",
    "\n",
    "A = np.array([[0, 1], [1, 1], [2, 1], [2, 1]])\n",
    "Q = orthonormal_basis(A)\n",
    "print(\"A = \\n\", A, \"\\n\")\n",
    "print(\"Q = \\n\", Q)"
   ]
  },
  {
   "cell_type": "markdown",
   "id": "745ddf40",
   "metadata": {
    "deletable": false,
    "editable": false,
    "nbgrader": {
     "cell_type": "markdown",
     "checksum": "ad8aae59731e39d2a718e54e2e3f9b08",
     "grade": false,
     "grade_id": "cell-9da5a6673521113d",
     "locked": true,
     "schema_version": 3,
     "solution": false,
     "task": false
    }
   },
   "source": [
    "Expected output:\n",
    "\n",
    "    A = \n",
    "     [[0 1]\n",
    "     [1 1]\n",
    "     [2 1]\n",
    "     [2 1]] \n",
    "\n",
    "    Q = \n",
    "     [[ 0.   -0.9  -0.3  -0.3 ]\n",
    "     [-0.33 -0.4   0.6   0.6 ]\n",
    "     [-0.67  0.1   0.35 -0.65]\n",
    "     [-0.67  0.1  -0.65  0.35]]"
   ]
  },
  {
   "cell_type": "code",
   "execution_count": 185,
   "id": "b7db0d77",
   "metadata": {
    "deletable": false,
    "editable": false,
    "nbgrader": {
     "cell_type": "code",
     "checksum": "7114bd5e75d813abad84079bd3e5002f",
     "grade": false,
     "grade_id": "cell-f2e7f28d43bba37a",
     "locked": true,
     "schema_version": 3,
     "solution": false,
     "task": false
    }
   },
   "outputs": [
    {
     "name": "stdout",
     "output_type": "stream",
     "text": [
      "Q1 =\n",
      " [[1]] \n",
      "B1 =\n",
      " [[-1]] \n",
      "\n",
      "Q2 =\n",
      " [[-0.71 -0.71]\n",
      " [-0.71  0.71]] \n",
      "B2 =\n",
      " [[ 1.  0.]\n",
      " [ 0. -1.]] \n",
      "\n",
      "Q3 =\n",
      " [[0. 1.]\n",
      " [1. 0.]] \n",
      "B2 =\n",
      " [[ 0.71 -0.71]\n",
      " [ 0.71  0.71]] \n",
      "\n"
     ]
    }
   ],
   "source": [
    "# Test cases for base_case\n",
    "np.set_printoptions(precision=2, suppress=True)  # Print zeros and decimals nicely\n",
    "\n",
    "A1 = np.array([[-1]])\n",
    "Q1, B1 = base_case(A1)\n",
    "print(\"Q1 =\\n\", Q1, \"\\nB1 =\\n\", B1, \"\\n\")\n",
    "\n",
    "A2 = np.array([[0, 1], [1, 0]])\n",
    "Q2, B2 = base_case(A2)\n",
    "print(\"Q2 =\\n\", Q2, \"\\nB2 =\\n\", B2, \"\\n\")\n",
    "\n",
    "A3 = 1/math.sqrt(2) * np.array([[1, 1], [-1, 1]])\n",
    "Q3, B3 = base_case(A3)\n",
    "print(\"Q3 =\\n\", Q3, \"\\nB2 =\\n\", B3, \"\\n\")"
   ]
  },
  {
   "cell_type": "markdown",
   "id": "71e2a863",
   "metadata": {
    "deletable": false,
    "editable": false,
    "nbgrader": {
     "cell_type": "markdown",
     "checksum": "c2733e99442b88a2052b609cd06acbc0",
     "grade": false,
     "grade_id": "cell-6b9f97c646475652",
     "locked": true,
     "schema_version": 3,
     "solution": false,
     "task": false
    }
   },
   "source": [
    "Expected output:\n",
    "\n",
    "    Q1 =\n",
    "     [[1.]] \n",
    "    B1 =\n",
    "     [[-1]] \n",
    "\n",
    "    Q2 =\n",
    "     [[-0.71 -0.71]\n",
    "     [-0.71  0.71]] \n",
    "    B2 =\n",
    "     [[ 1. -0.]\n",
    "     [-0. -1.]] \n",
    "\n",
    "    Q3 =\n",
    "     [[0. 1.]\n",
    "     [1. 0.]] \n",
    "    B2 =\n",
    "     [[ 0.71 -0.71]\n",
    "     [ 0.71  0.71]] "
   ]
  },
  {
   "cell_type": "code",
   "execution_count": 186,
   "id": "15af60ab",
   "metadata": {
    "deletable": false,
    "editable": false,
    "nbgrader": {
     "cell_type": "code",
     "checksum": "19b259ff9e31fd64c6721dbfd1e30dd2",
     "grade": false,
     "grade_id": "cell-77ea27f45829776d",
     "locked": true,
     "schema_version": 3,
     "solution": false,
     "task": false
    }
   },
   "outputs": [
    {
     "name": "stdout",
     "output_type": "stream",
     "text": [
      "Q1 =\n",
      " [[-0.71 -0.   -0.71]\n",
      " [-0.71 -0.    0.71]\n",
      " [-0.    1.   -0.  ]] \n",
      "B1 =\n",
      " [[ 1.    0.    0.  ]\n",
      " [ 0.    0.33 -0.94]\n",
      " [ 0.    0.94  0.33]] \n",
      "\n",
      "Q2 =\n",
      " [[-0.71 -0.41  0.58]\n",
      " [ 0.71 -0.41  0.58]\n",
      " [ 0.    0.82  0.58]] \n",
      "B2 =\n",
      " [[-0.5  -0.87  0.  ]\n",
      " [ 0.87 -0.5   0.  ]\n",
      " [ 0.    0.    1.  ]] \n",
      "\n",
      "Q3 =\n",
      " [[-0.91  0.    0.41]\n",
      " [-0.18 -0.89 -0.41]\n",
      " [ 0.37 -0.45  0.82]] \n",
      "B3 =\n",
      " [[ 1.  0.  0.]\n",
      " [ 0.  1.  0.]\n",
      " [ 0.  0. -1.]] \n",
      "\n",
      "Q4 =\n",
      " [[-0.87  0.    0.5  -0.  ]\n",
      " [-0.29 -0.82 -0.5  -0.  ]\n",
      " [-0.29  0.41 -0.5   0.71]\n",
      " [-0.29  0.41 -0.5  -0.71]] \n",
      "B4 =\n",
      " [[ 1.  0.  0.  0.]\n",
      " [ 0.  1.  0.  0.]\n",
      " [ 0.  0. -1.  0.]\n",
      " [ 0.  0.  0.  1.]] \n",
      "\n",
      "Q5 =\n",
      " [[ 0.  0.  1.  0.]\n",
      " [ 0.  1.  0.  0.]\n",
      " [-1.  0.  0.  0.]\n",
      " [ 0.  0.  0.  1.]] \n",
      "B5 =\n",
      " [[ 0. -1.  0.  0.]\n",
      " [ 1.  0.  0.  0.]\n",
      " [ 0.  0.  1.  0.]\n",
      " [ 0.  0.  0.  1.]] \n",
      "\n"
     ]
    }
   ],
   "source": [
    "# Test cases for spectral_decomposition\n",
    "np.set_printoptions(precision=2, suppress=True)  # Print zeros and decimals nicely\n",
    "\n",
    "A1 = 1/3*np.array([[2,1,-2],[1,2,2],[2,-2,1]])\n",
    "Q1, B1 = spectral_decomposition(A1)\n",
    "print(\"Q1 =\\n\", Q1, \"\\nB1 =\\n\",B1, \"\\n\")\n",
    "\n",
    "A2 = np.array([[0, 0, 1], [1, 0, 0], [0, 1, 0]])\n",
    "Q2, B2 = spectral_decomposition(A2)\n",
    "print(\"Q2 =\\n\", Q2, \"\\nB2 =\\n\",B2, \"\\n\")\n",
    "\n",
    "A3 = 1/3*np.array([[2,1,-2],[1,2,2],[-2,2,-1]])\n",
    "Q3, B3 = spectral_decomposition(A3)\n",
    "print(\"Q3 =\\n\", Q3, \"\\nB3 =\\n\",B3, \"\\n\")\n",
    "\n",
    "A4 = 1/2*np.array([[1,1,1,1],[1,1,-1,-1],[1,-1,1,-1],[1,-1,-1,1]])\n",
    "Q4, B4 = spectral_decomposition(A4)\n",
    "print(\"Q4 =\\n\", Q4, \"\\nB4 =\\n\",B4, \"\\n\")\n",
    "\n",
    "A5 = np.array([[1,0,0,0],[0,0,1,0],[0,-1,0,0],[0,0,0,1]])\n",
    "Q5, B5 = spectral_decomposition(A5)\n",
    "print(\"Q5 =\\n\", Q5, \"\\nB5 =\\n\",B5, \"\\n\")"
   ]
  },
  {
   "cell_type": "markdown",
   "id": "1d1aa8a5",
   "metadata": {
    "deletable": false,
    "editable": false,
    "nbgrader": {
     "cell_type": "markdown",
     "checksum": "77ad302520c5e60998bfdf7dd7e2fb9e",
     "grade": false,
     "grade_id": "cell-8133280b86a712a6",
     "locked": true,
     "schema_version": 3,
     "solution": false,
     "task": false
    }
   },
   "source": [
    "Expected output:\n",
    "\n",
    "    Q1 =\n",
    "     [[-0.71  0.71  0.  ]\n",
    "     [-0.71 -0.71  0.  ]\n",
    "     [ 0.   -0.    1.  ]] \n",
    "    B1 =\n",
    "     [[ 1.    0.   -0.  ]\n",
    "     [-0.    0.33 -0.94]\n",
    "     [ 0.    0.94  0.33]] \n",
    "\n",
    "    Q2 =\n",
    "     [[-0.71 -0.41  0.58]\n",
    "     [ 0.71 -0.41  0.58]\n",
    "     [ 0.    0.82  0.58]] \n",
    "    B2 =\n",
    "     [[-0.5  -0.87  0.  ]\n",
    "     [ 0.87 -0.5  -0.  ]\n",
    "     [ 0.    0.    1.  ]] \n",
    "\n",
    "    Q3 =\n",
    "     [[-0.91  0.    0.41]\n",
    "     [-0.18 -0.89 -0.41]\n",
    "     [ 0.37 -0.45  0.82]] \n",
    "    B3 =\n",
    "     [[ 1. -0. -0.]\n",
    "     [ 0.  1.  0.]\n",
    "     [-0.  0. -1.]] \n",
    "\n",
    "    Q4 =\n",
    "     [[-0.87  0.   -0.   -0.5 ]\n",
    "     [-0.29 -0.82 -0.    0.5 ]\n",
    "     [-0.29  0.41 -0.71  0.5 ]\n",
    "     [-0.29  0.41  0.71  0.5 ]] \n",
    "    B4 =\n",
    "     [[ 1. -0.  0. -0.]\n",
    "     [-0.  1.  0.  0.]\n",
    "     [-0.  0.  1. -0.]\n",
    "     [-0.  0. -0. -1.]] \n",
    "\n",
    "    Q5 =\n",
    "     [[0. 0. 1. 0.]\n",
    "     [0. 1. 0. 0.]\n",
    "     [1. 0. 0. 0.]\n",
    "     [0. 0. 0. 1.]] \n",
    "    B5 =\n",
    "     [[ 0. -1.  0.  0.]\n",
    "     [ 1.  0.  0.  0.]\n",
    "     [ 0.  0.  1.  0.]\n",
    "     [ 0.  0.  0.  1.]]"
   ]
  },
  {
   "cell_type": "code",
   "execution_count": 187,
   "id": "90057d09",
   "metadata": {
    "deletable": false,
    "editable": false,
    "nbgrader": {
     "cell_type": "code",
     "checksum": "e4b66200da06d3df1123fb15adfb935b",
     "grade": true,
     "grade_id": "cell-731d8e42cef19fb8",
     "locked": true,
     "points": 1,
     "schema_version": 3,
     "solution": false,
     "task": false
    }
   },
   "outputs": [],
   "source": [
    "# AUTOGRADER FOR orthonormal_basis, BEWARE OF POTENTIAL HIDDEN TEST CASES\n",
    "# Note that this not an exhaustive check for correctness.\n",
    "A = np.array([[1], [0]])\n",
    "Q = orthonormal_basis(A)\n",
    "assert np.allclose(Q.T @ Q, np.eye(2))\n",
    "assert np.allclose(Q[:,1:2].T @ A, np.zeros((1,1)))\n",
    "\n",
    "A1 = np.array([[1], [2], [3]])\n",
    "Q1 = orthonormal_basis(A1)\n",
    "assert np.allclose(Q1.T @ Q1, np.eye(3))\n",
    "assert np.allclose(Q1[:,1:3].T @ A1, np.zeros((2,1)))\n",
    "\n",
    "A2 = np.array([[0, 1], [1, 1], [2, 1], [2, 1]])\n",
    "Q2 = orthonormal_basis(A2)\n",
    "assert np.allclose(Q2.T @ Q2, np.eye(4))\n",
    "assert np.allclose(Q2[:,2:4].T @ A2, np.zeros((2,2)))\n"
   ]
  },
  {
   "cell_type": "code",
   "execution_count": 188,
   "id": "f4f88a4b",
   "metadata": {
    "deletable": false,
    "editable": false,
    "nbgrader": {
     "cell_type": "code",
     "checksum": "1c1c650dde4e7155aa04c8726b717b6f",
     "grade": true,
     "grade_id": "cell-a5b32c46197ba796",
     "locked": true,
     "points": 2,
     "schema_version": 3,
     "solution": false,
     "task": false
    }
   },
   "outputs": [],
   "source": [
    "# AUTOGRADER FOR base_case, BEWARE OF POTENTIAL HIDDEN TEST CASES\n",
    "# Note that this not an exhaustive check for correctness.\n",
    "A1 = np.array([[-1]])\n",
    "Q1, B1 = base_case(A1)\n",
    "assert np.allclose(Q1, np.eye(1))\n",
    "assert np.allclose(B1, A1)\n",
    "\n",
    "A2 = np.array([[0, 1], [1, 0]])\n",
    "Q2, B2 = base_case(A2)\n",
    "assert np.allclose(Q2, 1/math.sqrt(2) * np.array([[-1, -1], [-1, 1]]))\n",
    "assert np.allclose(B2, np.array([[1,0],[0,-1]]))\n",
    "\n",
    "A3 = 1/math.sqrt(2) * np.array([[1, 1], [-1, 1]])\n",
    "Q3, B3 = base_case(A3)\n",
    "assert np.allclose(Q3, np.array([[0,1],[1,0]]))\n",
    "assert np.allclose(B3, 1/math.sqrt(2) * np.array([[1,-1],[1,1]]))\n"
   ]
  },
  {
   "cell_type": "code",
   "execution_count": 190,
   "id": "2d52a32b",
   "metadata": {
    "deletable": false,
    "editable": false,
    "nbgrader": {
     "cell_type": "code",
     "checksum": "83a042a281eee1f715ae4df495801dd9",
     "grade": true,
     "grade_id": "cell-02f6143df21389a4",
     "locked": true,
     "points": 3,
     "schema_version": 3,
     "solution": false,
     "task": false
    }
   },
   "outputs": [
    {
     "ename": "AssertionError",
     "evalue": "",
     "output_type": "error",
     "traceback": [
      "\u001b[0;31m---------------------------------------------------------------------------\u001b[0m",
      "\u001b[0;31mAssertionError\u001b[0m                            Traceback (most recent call last)",
      "Cell \u001b[0;32mIn[190], line 24\u001b[0m\n\u001b[1;32m     22\u001b[0m Q4, B4 \u001b[38;5;241m=\u001b[39m spectral_decomposition(A4)\n\u001b[1;32m     23\u001b[0m \u001b[38;5;28;01massert\u001b[39;00m np\u001b[38;5;241m.\u001b[39mallclose(Q4\u001b[38;5;241m.\u001b[39mT \u001b[38;5;241m@\u001b[39m Q4, np\u001b[38;5;241m.\u001b[39meye(\u001b[38;5;241m4\u001b[39m))\n\u001b[0;32m---> 24\u001b[0m \u001b[38;5;28;01massert\u001b[39;00m np\u001b[38;5;241m.\u001b[39mallclose(B4, np\u001b[38;5;241m.\u001b[39marray([[\u001b[38;5;241m1\u001b[39m, \u001b[38;5;241m0\u001b[39m, \u001b[38;5;241m0\u001b[39m, \u001b[38;5;241m0\u001b[39m], [\u001b[38;5;241m0\u001b[39m, \u001b[38;5;241m1\u001b[39m, \u001b[38;5;241m0\u001b[39m, \u001b[38;5;241m0\u001b[39m], [\u001b[38;5;241m0\u001b[39m, \u001b[38;5;241m0\u001b[39m, \u001b[38;5;241m1\u001b[39m, \u001b[38;5;241m0\u001b[39m], [\u001b[38;5;241m0\u001b[39m, \u001b[38;5;241m0\u001b[39m, \u001b[38;5;241m0\u001b[39m, \u001b[38;5;241m-\u001b[39m\u001b[38;5;241m1\u001b[39m]]))\n\u001b[1;32m     25\u001b[0m \u001b[38;5;28;01massert\u001b[39;00m np\u001b[38;5;241m.\u001b[39mallclose(Q4 \u001b[38;5;241m@\u001b[39m B4 \u001b[38;5;241m@\u001b[39m Q4\u001b[38;5;241m.\u001b[39mT, A4)\n",
      "\u001b[0;31mAssertionError\u001b[0m: "
     ]
    }
   ],
   "source": [
    "# AUTOGRADER FOR spectral_decomposition, BEWARE OF POTENTIAL HIDDEN TEST CASES\n",
    "# Note that this not an exhaustive check for correctness.\n",
    "A1 = 1/3*np.array([[2,1,-2],[1,2,2],[2,-2,1]])\n",
    "Q1, B1 = spectral_decomposition(A1)\n",
    "assert np.allclose(Q1.T @ Q1, np.eye(3))\n",
    "assert np.allclose(B1, np.array([[1, 0, 0], [0, 1/3, -math.sqrt(8/9)], [0, math.sqrt(8/9), 1/3]]))\n",
    "assert np.allclose(Q1 @ B1 @ Q1.T, A1)\n",
    "\n",
    "A2 = np.array([[0, 0, 1], [1, 0, 0], [0, 1, 0]])\n",
    "Q2, B2 = spectral_decomposition(A2)\n",
    "assert np.allclose(Q2.T @ Q2, np.eye(3))\n",
    "assert np.allclose(B2, np.array([[-0.5, -math.sqrt(3/4), 0], [math.sqrt(3/4), -0.5, 0], [0, 0, 1]]))\n",
    "assert np.allclose(Q2 @ B2 @ Q2.T, A2)\n",
    "\n",
    "A3 = 1/3*np.array([[2,1,-2],[1,2,2],[-2,2,-1]])\n",
    "Q3, B3 = spectral_decomposition(A3)\n",
    "assert np.allclose(Q3.T @ Q3, np.eye(3))\n",
    "assert np.allclose(B3, np.array([[1, 0, 0], [0, 1, 0], [0, 0, -1]]))\n",
    "assert np.allclose(Q3 @ B3 @ Q3.T, A3)\n",
    "\n",
    "A4 = 1/2*np.array([[1,1,1,1],[1,1,-1,-1],[1,-1,1,-1],[1,-1,-1,1]])\n",
    "Q4, B4 = spectral_decomposition(A4)\n",
    "assert np.allclose(Q4.T @ Q4, np.eye(4))\n",
    "assert np.allclose(B4, np.array([[1, 0, 0, 0], [0, 1, 0, 0], [0, 0, 1, 0], [0, 0, 0, -1]]))\n",
    "assert np.allclose(Q4 @ B4 @ Q4.T, A4)\n"
   ]
  },
  {
   "cell_type": "markdown",
   "id": "4b8e81fd",
   "metadata": {
    "deletable": false,
    "editable": false,
    "nbgrader": {
     "cell_type": "markdown",
     "checksum": "426ede12e76a26599641ea7b8547f504",
     "grade": false,
     "grade_id": "cell-2da412185d61f242",
     "locked": true,
     "schema_version": 3,
     "solution": false,
     "task": false
    }
   },
   "source": [
    "## Appendix: Proof of Spectral Decomposition\n",
    "\n",
    "We prove by induction on $n$ that a real symmetric $n \\times n$ matrix is orthogonally similar to a diagonal matrix, i.e. there exists an orthogonal matrix $Q$ such that $Q^T A Q = D$ is diagonal. \n",
    "\n",
    "**Base case:** For a $1 \\times 1$ matrix $A$ we can set $Q = [1]$ and the statement is trivially true for $n=1$. \n",
    "\n",
    "**Induction step:** Let $A$ be a $(n+1) \\times (n+1)$ real symmetric matrix where $n \\geq 1$ and assume that the claim is true for all $1 \\leq k \\leq n$. Let $\\lambda_1$ be an eigenvalue of $A$, which exists by the fundamental theorem of algebra. Let $u_1$ be a unit eigenvector associated with $\\lambda_1$. We can extend $\\{u_1\\}$ to an orthonormal basis $\\{u_1, u_2, \\dots, u_{n+1}\\}$ of $\\mathbb{R}^{n+1}$ and form the orthogonal matrix\n",
    "    $$Q_1 = \\begin{bmatrix}\n",
    "        u_1 & u_2 & \\dots & u_{n+1} \n",
    "    \\end{bmatrix}.$$\n",
    "the first column of $Q^T A Q$ is\n",
    "$$Q^T A Q e_1 = Q^T A u_1 = Q^T(\\lambda_1 u_1) = \\lambda_1 Q^{-1} u_1 = \\lambda_1 e_1.$$\n",
    "Secondly we also note that $Q^T A Q$ is symmetric, since\n",
    "$$(Q^T A Q)^T = Q^T A^T (Q^T)^T = Q^T A Q,$$\n",
    "where we used that $A$ is symmetric. So $Q_1^T A Q_1$ will be a matrix of block form\n",
    "    $$Q_1^T A Q_1 = \\begin{bmatrix}\n",
    "        \\lambda_1 & 0 \\\\\n",
    "        0 & A_1\n",
    "    \\end{bmatrix},$$\n",
    "where $A_1$ is a real symmetric $n \\times n$ matrix. By the induction hypothesis applied to $A_1$ there exists an orthogonal matrix $R$ such that $R^T A_1 R = D$ is a diagonal matrix. If we set\n",
    "    $$Q_2 = \\begin{bmatrix}\n",
    "        1 & 0 \\\\\n",
    "        0 & R\n",
    "    \\end{bmatrix} \\quad \\text{and} \\quad Q = Q_1 Q_2,$$\n",
    "then both $Q_2$ and $Q$ are $(n+1) \\times (n+1)$ orthogonal matrices. Moreover\n",
    "    $$\\begin{align*}\n",
    "        Q^T A Q = Q_2^T Q_1^T A Q_1 Q_2= \n",
    "        \\begin{bmatrix}\n",
    "            1 & 0 \\\\\n",
    "            0 & R^T\n",
    "        \\end{bmatrix} \\begin{bmatrix}\n",
    "            \\lambda_1 & 0 \\\\\n",
    "            0 & A_1\n",
    "        \\end{bmatrix}\\begin{bmatrix}\n",
    "            1 & 0 \\\\\n",
    "            0 & R\n",
    "        \\end{bmatrix} = \\begin{bmatrix}\n",
    "            \\lambda_1 & 0 \\\\\n",
    "            0 & R^T A_1 R\n",
    "        \\end{bmatrix} = \\begin{bmatrix}\n",
    "        \\lambda_1 & 0 \\\\\n",
    "        0 & D\n",
    "    \\end{bmatrix},\n",
    "    \\end{align*}$$\n",
    "Hence it follows that there exists an orthogonal matrix $Q$ that brings $A$ into diagonal form, proving our claim. "
   ]
  },
  {
   "cell_type": "markdown",
   "id": "3546c521",
   "metadata": {},
   "source": [
    "**Theorem (Spectral theorem for orthogonal matrices)** Let $A$ be an orthogonal $n \\times n$ matrix. Then there exists an orthogonal matrix $Q$ such that \n",
    "\\begin{equation}\n",
    "   Q^T A Q = \\begin{bmatrix}\n",
    "   \\pm 1 & & & & & \\\\\n",
    "   & \\ddots & & & & \\\\\n",
    "   & & \\pm 1 & & & \\\\\n",
    "   & & & R_1 & & \\\\\n",
    "   & & & & \\ddots & \\\\\n",
    "   & & & & & R_k\n",
    "\\end{bmatrix} \\tag{$\\star$}\n",
    "\\end{equation}\n",
    "where $R_1, \\dots, R_m$ are rotation matrices of the form\n",
    "$$\\begin{bmatrix}\n",
    "   \\cos(\\theta) & -\\sin(\\theta) \\\\\n",
    "   \\sin(\\theta) & \\cos(\\theta)\n",
    "\\end{bmatrix},$$\n",
    "where $\\cos(\\theta) = \\text{Re}(\\lambda)$ for any complex eigenvalue $\\lambda$ of $A$. \n",
    "\n",
    "**Proof:** Similar to the proof of the spectral theorem for symmetric matrices, we prove the claim again by induction on the dimension $n$. This time around we need to distinguish several base cases, where we first show the claim is true for all $1 \\times 1$ and $2 \\times 2$ matrices. \n",
    "\n",
    "**Base case (1):** An orthogonal $1 \\times 1$ matrix $A$ must be of the form $\\begin{bmatrix}\n",
    "        \\pm 1\n",
    "    \\end{bmatrix}$. So taking $Q = \\begin{bmatrix}\n",
    "        1\n",
    "    \\end{bmatrix}$ yields that $Q^T A Q = \\begin{bmatrix}\n",
    "        \\pm 1\n",
    "    \\end{bmatrix}$ and the statement of the theorem is trivially true for $n=1$.\n",
    "\n",
    "**Base case (2.1):** For an orthogonal $2 \\times 2$ matrix $A$, let's first assume that the eigenvalues $\\lambda_1$ and $\\lambda_2$ of $A$ are both real, in which case we know that $\\lambda_1, \\lambda_2 \\in \\{1, -1\\}$. Let $u_1$ be a unit eigenvector of $A$ corresponding to $\\lambda_1$, and let $u_2$ be any unit vector that is orthogonal to $u_1$. If we set $Q = \\begin{bmatrix}\n",
    "    u_1 & u_2\n",
    "\\end{bmatrix}$, then $Q$ is an orthogonal matrix. The first column of $Q^T A Q$ is\n",
    "$$Q^T A Q e_1 = Q^T A u_1 = Q^T (\\lambda_1 u_1) = \\lambda_1 Q^{-1} u_1 = \\lambda_1 e_1.$$\n",
    "Moreover, note that $Q^T A Q$ is a product of orthogonal matrices, so that $Q^T A Q$ is itself also orthogonal. Since the columns of an orthogonal matrix must be orthonormal, we deduce that the second column of $Q^T A Q$ must be a unit vector orthogonal to $\\lambda_1 e_1 = \\pm e_1$, i.e. the $Q^T A Q = \\pm e_2$. We conclude that\n",
    "$$Q^T A Q = \\begin{bmatrix}\n",
    "    \\pm 1 & O \\\\ \n",
    "    O & \\pm 1\n",
    "\\end{bmatrix}.$$\n",
    "**Base case (2.2):** For an orthogonal $2 \\times 2$ matrix $A$, let's now assume that the eigenvalues $\\lambda_1$ and $\\lambda_2$ are non-real, and let $w = x + iy$ be an eigenvector corresponding to $\\lambda_1$. Setting $Q = \\begin{bmatrix}\n",
    "    \\frac{\\sqrt{2} y}{\\|w\\|} & \\frac{\\sqrt{2} x}{\\|w\\|}\n",
    "\\end{bmatrix}$, we know by Theorem ... that $Q$ is orthogonal and \n",
    "$$Q^T A Q = \\begin{bmatrix}\n",
    "    \\cos(\\theta) & -\\sin(\\theta) \\\\\n",
    "    \\sin(\\theta) & \\cos(\\theta)\n",
    "\\end{bmatrix},$$\n",
    "where $\\cos(\\theta) = \\text{Re}(\\lambda_1)$. This shows that the statement of the theorem is also true for $n=2$. \n",
    "\n",
    "**Induction hypothesis:** Suppose the claim is true for all $1 \\leq k \\leq n$, that is for all orthogonal $k \\times k$ matrices $A$ there exists an orthogonal matrix $Q$ such that $Q^T A Q$ is of the form $(\\star)$.\n",
    "\n",
    "**Induction step:** Let $A$ be an orthogonal $(n+1) \\times (n+1)$ matrix and let $\\lambda_1$ be an eigenvalue of $A$, which exists by the fundamental theorem of algebra. We distinguish two cases again.\n",
    "\n",
    "First, assume $\\lambda_1$ is real (so $\\lambda_1 \\in \\{1, -1\\}$) and let $u_1$ be an associated unit eigenvector. We can extend $\\{u_1\\}$ to an orthonormal basis $\\{u_1, u_2, \\dots, u_{n+1}\\}$ of $\\mathbb{R}^{n+1}$ and form the orthogonal matrix\n",
    "$$Q_1 = \\begin{bmatrix}\n",
    "        u_1 & u_2 & \\dots u_{n+1}\n",
    "    \\end{bmatrix}.$$\n",
    "As in the $2 \\times 2$ case we see that the first column of $Q_1^T A Q_1$ will be $\\lambda_1 e_1$ and moreover $Q_1^T A Q_1$ is also an orthogonal matrix. This means that $Q_1^T A Q_1$ is of the form\n",
    "$$\\begin{bmatrix}\n",
    "    \\pm 1 & O \\\\\n",
    "    O & A_1\n",
    "\\end{bmatrix},$$\n",
    "where $A_1$ is some $n \\times n$ orthogonal matrix. \n",
    "\n",
    "Now assume that $\\lambda_1$ is non-real and let $w = x + iy$ be an associated eigenvector of $A$. Let $u_1 = \\frac{\\sqrt{2} y}{\\|w\\|}$ and $u_2 = \\frac{\\sqrt{2} x}{\\|w\\|}$, which we know are orthonormal by \\autoref{thm:rotation}. Extend $\\{u_1, u_2\\}$ to an orthonormal basis $\\{u_1, u_2, \\dots, u_{n+1}\\}$ of $\\mathbb{R}^{n+1}$ and define the orthogonal matrix\n",
    "$$Q_1 = \\begin{bmatrix}\n",
    "    u_1 & u_2 & \\dots & u_{n+1}\n",
    "\\end{bmatrix}.$$\n",
    "By Theorem ... we know that $Q^T A Q$ is of the form\n",
    "$$Q_1^T A Q_1 = \\begin{bmatrix}\n",
    "        \\cos(\\theta) & -\\sin(\\theta) & X \\\\\n",
    "        \\sin(\\theta) & \\cos(\\theta) & X \\\\\n",
    "        O & O & A_1\n",
    "    \\end{bmatrix},$$\n",
    "where $X$ is a $2 \\times (n-2)$ matrix and $A_1$ is an $(n-1) \\times (n-1)$ matrix. Since $Q_1^T A Q_1$ is orthogonal we deduce that $X = 0$ and $A_1$ is an orthogonal matrix, so that\n",
    "$$Q_1^T A Q_1 = \\begin{bmatrix}\n",
    "        \\cos(\\theta) & -\\sin(\\theta) & O \\\\\n",
    "        \\sin(\\theta) & \\cos(\\theta) & O\\\\\n",
    "        O & O & A_1\n",
    "    \\end{bmatrix}.$$\n",
    "\n",
    "So, in general, we have shown that there exists an orthogonal $(n+1) \\times (n+1)$ matrix $Q_1$ such that $Q_1^T A Q_1$ is of the form\n",
    "$$Q_1^T A Q_1 = \\begin{bmatrix}\n",
    "    B & O \\\\\n",
    "    O & A_1\n",
    "\\end{bmatrix},$$\n",
    "where\n",
    "$$\\begin{align}\n",
    "    B &= \\begin{bmatrix}\n",
    "        \\pm 1\n",
    "    \\end{bmatrix} \\text{ and $A_1$ is an orthogonal $n \\times n$ matrix} && \\text{if $\\lambda_1$ is real}; \\\\\n",
    "    B &= \\begin{bmatrix}\n",
    "        \\cos(\\theta) & -\\sin(\\theta) \\\\\n",
    "        \\sin(\\theta) & \\cos(\\theta)\n",
    "    \\end{bmatrix} \\text{ and $A_2$ is an orthogonal $(n-1) \\times (n-1)$ matrix} && \\text{if $\\lambda_1$ is non-real}.\n",
    "\\end{align}$$\n",
    "In either case, by the induction hypothesis applied to $A_1$, there exists an orthogonal matrix $P$ such that $P^T A_1 P$ is of the form $(\\star)$, i.e.\n",
    "$$P^T A_1 P = \\begin{bmatrix}\n",
    "   \\pm 1 & & & & & \\\\\n",
    "   & \\ddots & & & & \\\\\n",
    "   & & \\pm 1 & & & \\\\\n",
    "   & & & R_1 & & \\\\\n",
    "   & & & & \\ddots & \\\\\n",
    "   & & & & & R_k\n",
    "\\end{bmatrix}.$$\n",
    "If we set\n",
    "$$Q_2 = \\begin{bmatrix}\n",
    "   I & O \\\\\n",
    "   O & P\n",
    "\\end{bmatrix} \\quad \\text{and} \\quad Q = Q_1 Q_2,$$\n",
    "then both $Q_2$ and $Q$ are $(n+1) \\times (n+1)$ orthogonal matrices. Morover,\n",
    "$$Q^T A Q = Q_2^T \\left( Q_1^T A Q_1\\right) Q_2 = \\begin{bmatrix}\n",
    "   I & O \\\\\n",
    "   O & P^T\n",
    "\\end{bmatrix} \\begin{bmatrix}\n",
    "   B & O \\\\\n",
    "   O & A_1\n",
    "\\end{bmatrix} \\begin{bmatrix}\n",
    "   I & O \\\\\n",
    "   O & P\n",
    "\\end{bmatrix} = \\begin{bmatrix}\n",
    "   B & O \\\\\n",
    "   O & P^T A_1 P\n",
    "\\end{bmatrix}.$$\n",
    "Recalling that $B$ and $P^T A_1 P$ are of the form $(\\star)$, after reordering the columns of $Q$, we find that $Q^T A Q$ is of the desired form $(\\star)$. This completes the induction step, and we conclude that, for all $n \\geq 1$, an orthogonal $n \\times n$ matrix is orthogonally similar to $(\\star)$."
   ]
  }
 ],
 "metadata": {
  "kernelspec": {
   "display_name": "base",
   "language": "python",
   "name": "python3"
  },
  "language_info": {
   "codemirror_mode": {
    "name": "ipython",
    "version": 3
   },
   "file_extension": ".py",
   "mimetype": "text/x-python",
   "name": "python",
   "nbconvert_exporter": "python",
   "pygments_lexer": "ipython3",
   "version": "3.11.7"
  }
 },
 "nbformat": 4,
 "nbformat_minor": 5
}
