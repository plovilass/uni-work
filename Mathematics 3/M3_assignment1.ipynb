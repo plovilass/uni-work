{
 "cells": [
  {
   "cell_type": "markdown",
   "metadata": {
    "deletable": false,
    "editable": false,
    "nbgrader": {
     "cell_type": "markdown",
     "checksum": "d26085421fce092c5fca3da44bf89447",
     "grade": false,
     "grade_id": "cell-2a50f51ad0241f94",
     "locked": true,
     "schema_version": 3,
     "solution": false,
     "task": false
    }
   },
   "source": [
    "# Homework Assignment 1: Introduction to Python and review Programming\n",
    "\n",
    "## What is Jupyter Notebook?\n",
    "\n",
    "The Jupyter Notebook integrates code and its output into a single document that combines visualizations, narrative text, mathematical equations and other rich media. In other words: it's a single document where you can run code, display the output, and also add explanations, formulas, charts, and make your work more transparent, understandable, repeatable and shareable. \n",
    "\n",
    "Although it is possible to use many different programming languages in Jupyter Notebooks, in this course we will focus on Python.\n",
    "\n",
    "## The Notebook Interface?\n",
    "\n",
    "Notebooks have code cells (that are generally followed by result cells) and text cells. The text cells are the stuff that you're reading now. The code cells start with `In []:` with some number generally in brackets. If you put your cursor in the code cell and hit `Ctrl + Enter`, the code will run in the Python interpreter and the result will print out in the output cell. \n",
    "\n",
    "# 1. Basics\n",
    "\n",
    "## Using Python as a Calculator\n",
    "\n",
    "Many of the things you used to use a calculator for, you can now use Python for. By hitting `Ctrl + Enter` you can run the code inside the code cells to generate the output. "
   ]
  },
  {
   "cell_type": "code",
   "execution_count": 1,
   "metadata": {
    "execution": {
     "iopub.execute_input": "2025-09-02T16:06:34.411488Z",
     "iopub.status.busy": "2025-09-02T16:06:34.411177Z",
     "iopub.status.idle": "2025-09-02T16:06:34.419271Z",
     "shell.execute_reply": "2025-09-02T16:06:34.418848Z",
     "shell.execute_reply.started": "2025-09-02T16:06:34.411468Z"
    }
   },
   "outputs": [
    {
     "data": {
      "text/plain": [
       "4"
      ]
     },
     "execution_count": 1,
     "metadata": {},
     "output_type": "execute_result"
    }
   ],
   "source": [
    "2+2"
   ]
  },
  {
   "cell_type": "code",
   "execution_count": 2,
   "metadata": {
    "execution": {
     "iopub.execute_input": "2025-09-02T16:06:34.420326Z",
     "iopub.status.busy": "2025-09-02T16:06:34.420128Z",
     "iopub.status.idle": "2025-09-02T16:06:34.423274Z",
     "shell.execute_reply": "2025-09-02T16:06:34.422887Z",
     "shell.execute_reply.started": "2025-09-02T16:06:34.420310Z"
    }
   },
   "outputs": [
    {
     "data": {
      "text/plain": [
       "5.0"
      ]
     },
     "execution_count": 2,
     "metadata": {},
     "output_type": "execute_result"
    }
   ],
   "source": [
    "(50 - 5*6)/4"
   ]
  },
  {
   "cell_type": "code",
   "execution_count": 3,
   "metadata": {
    "execution": {
     "iopub.execute_input": "2025-09-02T16:06:34.423966Z",
     "iopub.status.busy": "2025-09-02T16:06:34.423788Z",
     "iopub.status.idle": "2025-09-02T16:06:34.426755Z",
     "shell.execute_reply": "2025-09-02T16:06:34.426381Z",
     "shell.execute_reply.started": "2025-09-02T16:06:34.423950Z"
    }
   },
   "outputs": [
    {
     "data": {
      "text/plain": [
       "2.3333333333333335"
      ]
     },
     "execution_count": 3,
     "metadata": {},
     "output_type": "execute_result"
    }
   ],
   "source": [
    "7/3"
   ]
  },
  {
   "cell_type": "markdown",
   "metadata": {
    "deletable": false,
    "editable": false,
    "nbgrader": {
     "cell_type": "markdown",
     "checksum": "7513e674427c381c638fda66984979ac",
     "grade": false,
     "grade_id": "cell-a94c49b1108860c7",
     "locked": true,
     "schema_version": 3,
     "solution": false,
     "task": false
    }
   },
   "source": [
    "Calculating a number raised to some power requires the `**` operation (instead of the perhaps more familiar [caret](https://docs.python.org/3/reference/expressions.html#binary-bitwise-operations) `^`, which we won't need):"
   ]
  },
  {
   "cell_type": "code",
   "execution_count": 4,
   "metadata": {
    "execution": {
     "iopub.execute_input": "2025-09-02T16:06:34.427384Z",
     "iopub.status.busy": "2025-09-02T16:06:34.427232Z",
     "iopub.status.idle": "2025-09-02T16:06:34.430250Z",
     "shell.execute_reply": "2025-09-02T16:06:34.429876Z",
     "shell.execute_reply.started": "2025-09-02T16:06:34.427370Z"
    }
   },
   "outputs": [
    {
     "data": {
      "text/plain": [
       "1024"
      ]
     },
     "execution_count": 4,
     "metadata": {},
     "output_type": "execute_result"
    }
   ],
   "source": [
    "2**10"
   ]
  },
  {
   "cell_type": "markdown",
   "metadata": {
    "deletable": false,
    "editable": false,
    "nbgrader": {
     "cell_type": "markdown",
     "checksum": "78a0f85e3abd15b2de1ada08caf4bd39",
     "grade": false,
     "grade_id": "cell-9687df18741a6439",
     "locked": true,
     "schema_version": 3,
     "solution": false,
     "task": false
    }
   },
   "source": [
    "**Exercise 1:** Calculate $\\frac{2 \\cdot (3-1)^4}{\\sqrt{4096}}$. "
   ]
  },
  {
   "cell_type": "code",
   "execution_count": 5,
   "metadata": {
    "execution": {
     "iopub.execute_input": "2025-09-02T16:06:34.431674Z",
     "iopub.status.busy": "2025-09-02T16:06:34.431492Z",
     "iopub.status.idle": "2025-09-02T16:06:34.434636Z",
     "shell.execute_reply": "2025-09-02T16:06:34.434272Z",
     "shell.execute_reply.started": "2025-09-02T16:06:34.431659Z"
    }
   },
   "outputs": [
    {
     "data": {
      "text/plain": [
       "0.5"
      ]
     },
     "execution_count": 5,
     "metadata": {},
     "output_type": "execute_result"
    }
   ],
   "source": [
    "2*(3-1)**4/4096**(0.5)"
   ]
  },
  {
   "cell_type": "markdown",
   "metadata": {
    "deletable": false,
    "editable": false,
    "nbgrader": {
     "cell_type": "markdown",
     "checksum": "09a6d8221508a83f34140eb6c124f2a8",
     "grade": false,
     "grade_id": "cell-6f3beb7b7d928e27",
     "locked": true,
     "schema_version": 3,
     "solution": false,
     "task": false
    }
   },
   "source": [
    "## Libraries\n",
    "\n",
    "Python has a huge number of libraries included with its distribution. To keep things simple, most of their variables and functions are not directly accessible from a normal Python interactive session. Instead, you have to first import the name of the library. For example, there is a __math__ module containing many useful functions. To access, say, the square root function, you can either:"
   ]
  },
  {
   "cell_type": "code",
   "execution_count": 6,
   "metadata": {
    "execution": {
     "iopub.execute_input": "2025-09-02T16:06:34.435333Z",
     "iopub.status.busy": "2025-09-02T16:06:34.435150Z",
     "iopub.status.idle": "2025-09-02T16:06:34.438267Z",
     "shell.execute_reply": "2025-09-02T16:06:34.437888Z",
     "shell.execute_reply.started": "2025-09-02T16:06:34.435318Z"
    }
   },
   "outputs": [
    {
     "data": {
      "text/plain": [
       "9.0"
      ]
     },
     "execution_count": 6,
     "metadata": {},
     "output_type": "execute_result"
    }
   ],
   "source": [
    "from math import sqrt\n",
    "sqrt(81)"
   ]
  },
  {
   "cell_type": "markdown",
   "metadata": {
    "deletable": false,
    "editable": false,
    "nbgrader": {
     "cell_type": "markdown",
     "checksum": "1d85648c5d885cad31b7659410ef428f",
     "grade": false,
     "grade_id": "cell-9ce3807f23ca65c9",
     "locked": true,
     "schema_version": 3,
     "solution": false,
     "task": false
    }
   },
   "source": [
    "or you can simply import the entire math library itself. Note that the latter requires you to put as a prefix to the function name the name of the library it came from. These import statements need only be run once during a Python sessions for the imported functions to be available. When running a new session, you need to rerun the import statements. "
   ]
  },
  {
   "cell_type": "code",
   "execution_count": 7,
   "metadata": {
    "execution": {
     "iopub.execute_input": "2025-09-02T16:06:34.438865Z",
     "iopub.status.busy": "2025-09-02T16:06:34.438728Z",
     "iopub.status.idle": "2025-09-02T16:06:34.441762Z",
     "shell.execute_reply": "2025-09-02T16:06:34.441383Z",
     "shell.execute_reply.started": "2025-09-02T16:06:34.438851Z"
    }
   },
   "outputs": [
    {
     "data": {
      "text/plain": [
       "9.0"
      ]
     },
     "execution_count": 7,
     "metadata": {},
     "output_type": "execute_result"
    }
   ],
   "source": [
    "import math\n",
    "math.sqrt(81)"
   ]
  },
  {
   "cell_type": "markdown",
   "metadata": {
    "deletable": false,
    "editable": false,
    "nbgrader": {
     "cell_type": "markdown",
     "checksum": "cfcff3591e9d28384e96a7bdac38d5df",
     "grade": false,
     "grade_id": "cell-942fabece5b4508c",
     "locked": true,
     "schema_version": 3,
     "solution": false,
     "task": false
    }
   },
   "source": [
    "## Variables\n",
    "\n",
    "You can define variables using the equals sign `=`:"
   ]
  },
  {
   "cell_type": "code",
   "execution_count": 8,
   "metadata": {
    "execution": {
     "iopub.execute_input": "2025-09-02T16:06:34.442476Z",
     "iopub.status.busy": "2025-09-02T16:06:34.442291Z",
     "iopub.status.idle": "2025-09-02T16:06:34.445651Z",
     "shell.execute_reply": "2025-09-02T16:06:34.445278Z",
     "shell.execute_reply.started": "2025-09-02T16:06:34.442461Z"
    }
   },
   "outputs": [
    {
     "data": {
      "text/plain": [
       "600"
      ]
     },
     "execution_count": 8,
     "metadata": {},
     "output_type": "execute_result"
    }
   ],
   "source": [
    "# Anything after a `#` within a code cell will be ignored. This is what we call a 'comment'. \n",
    "width = 20 # Assigning a value to the variable width\n",
    "length = 30 # Assigning a value to the variable length\n",
    "area = length*width # Assigning the product of width and length to the variable area\n",
    "area"
   ]
  },
  {
   "cell_type": "markdown",
   "metadata": {
    "deletable": false,
    "editable": false,
    "nbgrader": {
     "cell_type": "markdown",
     "checksum": "d81eb2e89b66c764b4cae50830796440",
     "grade": false,
     "grade_id": "cell-1cc1fd65b6469eff",
     "locked": true,
     "schema_version": 3,
     "solution": false,
     "task": false
    }
   },
   "source": [
    "If you try to access a variable that you haven't yet defined, you get a name error:"
   ]
  },
  {
   "cell_type": "code",
   "execution_count": 9,
   "metadata": {
    "execution": {
     "iopub.execute_input": "2025-09-02T16:06:34.446436Z",
     "iopub.status.busy": "2025-09-02T16:06:34.446151Z",
     "iopub.status.idle": "2025-09-02T16:06:34.586144Z",
     "shell.execute_reply": "2025-09-02T16:06:34.584069Z",
     "shell.execute_reply.started": "2025-09-02T16:06:34.446422Z"
    }
   },
   "outputs": [
    {
     "ename": "NameError",
     "evalue": "name 'volume' is not defined",
     "output_type": "error",
     "traceback": [
      "\u001b[0;31m---------------------------------------------------------------------------\u001b[0m",
      "\u001b[0;31mNameError\u001b[0m                                 Traceback (most recent call last)",
      "Cell \u001b[0;32mIn[9], line 1\u001b[0m\n\u001b[0;32m----> 1\u001b[0m \u001b[43mvolume\u001b[49m\n",
      "\u001b[0;31mNameError\u001b[0m: name 'volume' is not defined"
     ]
    }
   ],
   "source": [
    "volume"
   ]
  },
  {
   "cell_type": "markdown",
   "metadata": {
    "deletable": false,
    "editable": false,
    "nbgrader": {
     "cell_type": "markdown",
     "checksum": "d62afca35a4c4e9151f8613efefdd26b",
     "grade": false,
     "grade_id": "cell-9282d08beb9f268b",
     "locked": true,
     "schema_version": 3,
     "solution": false,
     "task": false
    }
   },
   "source": [
    "and you need to first define it:"
   ]
  },
  {
   "cell_type": "code",
   "execution_count": 15,
   "metadata": {
    "execution": {
     "iopub.execute_input": "2025-09-02T16:07:06.437737Z",
     "iopub.status.busy": "2025-09-02T16:07:06.437434Z",
     "iopub.status.idle": "2025-09-02T16:07:06.441099Z",
     "shell.execute_reply": "2025-09-02T16:07:06.440695Z",
     "shell.execute_reply.started": "2025-09-02T16:07:06.437715Z"
    }
   },
   "outputs": [
    {
     "data": {
      "text/plain": [
       "6000"
      ]
     },
     "execution_count": 15,
     "metadata": {},
     "output_type": "execute_result"
    }
   ],
   "source": [
    "height = 10\n",
    "volume = area * height\n",
    "volume"
   ]
  },
  {
   "cell_type": "markdown",
   "metadata": {
    "deletable": false,
    "editable": false,
    "nbgrader": {
     "cell_type": "markdown",
     "checksum": "a897dddff7a1202be3c55e41aaa680ae",
     "grade": false,
     "grade_id": "cell-7e20fb9f933cf90b",
     "locked": true,
     "schema_version": 3,
     "solution": false,
     "task": false
    }
   },
   "source": [
    "You can name a variable *almost* anything you want. It needs to start with an alphabetical character or an underscore `_`, and can contain alphanumeric characters plus underscores. Certain words, however, are reserved for the Python language:\n",
    "\n",
    "    and, as, assert, break, class, continue, def, del, elif, else, except,\n",
    "    exec, finally, for, from, global, if, import, in, is, lambda, not or,\n",
    "    pass, print, raise, return, try, while, with, yield\n",
    "\n",
    "Trying to define a variable using one of these will result in a syntax error:"
   ]
  },
  {
   "cell_type": "code",
   "execution_count": 16,
   "metadata": {
    "execution": {
     "iopub.execute_input": "2025-09-02T16:07:06.442142Z",
     "iopub.status.busy": "2025-09-02T16:07:06.441957Z",
     "iopub.status.idle": "2025-09-02T16:07:06.445450Z",
     "shell.execute_reply": "2025-09-02T16:07:06.444396Z",
     "shell.execute_reply.started": "2025-09-02T16:07:06.442127Z"
    }
   },
   "outputs": [
    {
     "ename": "SyntaxError",
     "evalue": "invalid syntax (3966660672.py, line 1)",
     "output_type": "error",
     "traceback": [
      "\u001b[0;36m  Cell \u001b[0;32mIn[16], line 1\u001b[0;36m\u001b[0m\n\u001b[0;31m    return = 0\u001b[0m\n\u001b[0m           ^\u001b[0m\n\u001b[0;31mSyntaxError\u001b[0m\u001b[0;31m:\u001b[0m invalid syntax\n"
     ]
    }
   ],
   "source": [
    "return = 0"
   ]
  },
  {
   "cell_type": "markdown",
   "metadata": {
    "deletable": false,
    "editable": false,
    "nbgrader": {
     "cell_type": "markdown",
     "checksum": "2b911daf6dbda41119bce231172b77de",
     "grade": false,
     "grade_id": "cell-15a41e550c9a37c5",
     "locked": true,
     "schema_version": 3,
     "solution": false,
     "task": false
    }
   },
   "source": [
    "## Problem 1: Libraries and Defining Variables (1 point)\n",
    "\n",
    "Use the [**math**](https://docs.python.org/3/library/math.html) module to define a variable named `a` which equals $\\cos(\\pi^2)$ and define a variable `b` which stores the value $\\ln(e+3)$. Write your solution in the code cell below by replacing everything (the parts that say `# YOUR CODE HERE` and `raise NotImplementedError()`) with the correct solution. You can check your solution by running the cell below it (the `Test case`) and comparing its output to the expected output."
   ]
  },
  {
   "cell_type": "code",
   "execution_count": 22,
   "metadata": {
    "deletable": false,
    "execution": {
     "iopub.execute_input": "2025-09-02T16:07:23.248944Z",
     "iopub.status.busy": "2025-09-02T16:07:23.248683Z",
     "iopub.status.idle": "2025-09-02T16:07:23.251986Z",
     "shell.execute_reply": "2025-09-02T16:07:23.251498Z",
     "shell.execute_reply.started": "2025-09-02T16:07:23.248927Z"
    },
    "nbgrader": {
     "cell_type": "code",
     "checksum": "4a24e4c0ffbc5b1f7aeb2156426226de",
     "grade": false,
     "grade_id": "cell-4ec7fe6ddc17970c",
     "locked": false,
     "schema_version": 3,
     "solution": true,
     "task": false
    }
   },
   "outputs": [],
   "source": [
    "# YOUR CODE HERE\n",
    "from math import cos\n",
    "from math import pi\n",
    "from math import log\n",
    "from math import exp\n",
    "\n",
    "a = cos(pi**2)\n",
    "b = log(exp(1) + 3)"
   ]
  },
  {
   "cell_type": "code",
   "execution_count": 23,
   "metadata": {
    "deletable": false,
    "editable": false,
    "execution": {
     "iopub.execute_input": "2025-09-02T16:07:23.253661Z",
     "iopub.status.busy": "2025-09-02T16:07:23.253478Z",
     "iopub.status.idle": "2025-09-02T16:07:23.256080Z",
     "shell.execute_reply": "2025-09-02T16:07:23.255696Z",
     "shell.execute_reply.started": "2025-09-02T16:07:23.253645Z"
    },
    "nbgrader": {
     "cell_type": "code",
     "checksum": "39ceac32be3b36b5a96b9a12809d661e",
     "grade": false,
     "grade_id": "cell-20549b13b8f6b49a",
     "locked": true,
     "schema_version": 3,
     "solution": false,
     "task": false
    }
   },
   "outputs": [
    {
     "name": "stdout",
     "output_type": "stream",
     "text": [
      "a is approximately -0.90268536193307 \n",
      "b is approximately  1.74366838062868\n"
     ]
    }
   ],
   "source": [
    "# Test case\n",
    "print(\"a is approximately %17.14f \\nb is approximately %17.14f\" % (a, b))"
   ]
  },
  {
   "cell_type": "markdown",
   "metadata": {
    "deletable": false,
    "editable": false,
    "nbgrader": {
     "cell_type": "markdown",
     "checksum": "577eb18241de63ed5708e7e52708f31e",
     "grade": false,
     "grade_id": "cell-b6e11613d4cc9f5f",
     "locked": true,
     "schema_version": 3,
     "solution": false,
     "task": false
    }
   },
   "source": [
    "Expected output:\n",
    "\n",
    "    a is approximately -0.90268536193307 \n",
    "    b is approximately  1.74366838062868"
   ]
  },
  {
   "cell_type": "markdown",
   "metadata": {
    "deletable": false,
    "editable": false,
    "nbgrader": {
     "cell_type": "markdown",
     "checksum": "59e7c1d11239526f28589a2d75d1cfbe",
     "grade": false,
     "grade_id": "cell-68eac451fdf0d35b",
     "locked": true,
     "schema_version": 3,
     "solution": false,
     "task": false
    }
   },
   "source": [
    "The cell below is used to autograde your solution for Problem 1. If you run it and it doesn't generate any `AssertionError` (i.e. nothing shows up below the code cell), it means your code passed all the tests to check if your solution is correct. You don't have to understand this piece code. Sometimes certain tests will be included to catch common mistakes or workarounds to an intended solution (i.e. by hardcoding the expected output. Check what happens if you copy the numbers from expected output to your solution). "
   ]
  },
  {
   "cell_type": "code",
   "execution_count": 24,
   "metadata": {
    "deletable": false,
    "editable": false,
    "execution": {
     "iopub.execute_input": "2025-09-02T16:07:23.257206Z",
     "iopub.status.busy": "2025-09-02T16:07:23.256936Z",
     "iopub.status.idle": "2025-09-02T16:07:23.260179Z",
     "shell.execute_reply": "2025-09-02T16:07:23.259797Z",
     "shell.execute_reply.started": "2025-09-02T16:07:23.257190Z"
    },
    "nbgrader": {
     "cell_type": "code",
     "checksum": "a10e3134b25306dcb23929fc6646805c",
     "grade": true,
     "grade_id": "cell-03390717b2996f45",
     "locked": true,
     "points": 1,
     "schema_version": 3,
     "solution": false,
     "task": false
    }
   },
   "outputs": [],
   "source": [
    "# AUTOGRADING\n",
    "import hashlib\n",
    "\n",
    "def _hash(s):\n",
    "    return hashlib.blake2b(bytes(s, encoding='utf8'), digest_size=5).hexdigest()\n",
    "\n",
    "assert _hash(str(a)) != '5c0b6e63a3', 'Did you try to hardcode your answer? Tsk, tsk, tsk.'\n",
    "assert _hash(str(b)) != 'fba443794e', 'Did you try to hardcode your answer? Tsk, tsk, tsk.'\n",
    "assert _hash(str(a)) == '13f4aa948b', 'Wrong value for a'\n",
    "assert _hash(str(b)) == 'fe1d8902fe', 'Wrong value for b'\n"
   ]
  },
  {
   "cell_type": "markdown",
   "metadata": {
    "deletable": false,
    "editable": false,
    "nbgrader": {
     "cell_type": "markdown",
     "checksum": "5bdec87e16bcd2acff91e47f9384e4ce",
     "grade": false,
     "grade_id": "cell-ea2bea580d9a2c9a",
     "locked": true,
     "schema_version": 3,
     "solution": false,
     "task": false
    }
   },
   "source": [
    "# 2. Built-in types\n",
    "\n",
    "Everything in Python is an object. Each object is of a certain type. Here's a list of Python types you will often use:\n",
    "* integer number (int)\n",
    "* decimal number (float)\n",
    "* boolean (true/false) (bool)\n",
    "* string of characters (str)\n",
    "* list of objects (list)\n",
    "* tuple of objects (tuple)\n",
    "* dictionary (dict)\n",
    "* set of objects (set)\n",
    "* function (function)\n",
    "\n",
    "The function `type` gives the type of object in its argument."
   ]
  },
  {
   "cell_type": "code",
   "execution_count": 25,
   "metadata": {
    "execution": {
     "iopub.execute_input": "2025-09-02T16:07:23.260881Z",
     "iopub.status.busy": "2025-09-02T16:07:23.260708Z",
     "iopub.status.idle": "2025-09-02T16:07:23.263758Z",
     "shell.execute_reply": "2025-09-02T16:07:23.263388Z",
     "shell.execute_reply.started": "2025-09-02T16:07:23.260866Z"
    }
   },
   "outputs": [
    {
     "data": {
      "text/plain": [
       "int"
      ]
     },
     "execution_count": 25,
     "metadata": {},
     "output_type": "execute_result"
    }
   ],
   "source": [
    "a = 10\n",
    "type(a)"
   ]
  },
  {
   "cell_type": "code",
   "execution_count": 26,
   "metadata": {
    "execution": {
     "iopub.execute_input": "2025-09-02T16:07:23.264420Z",
     "iopub.status.busy": "2025-09-02T16:07:23.264283Z",
     "iopub.status.idle": "2025-09-02T16:07:23.267179Z",
     "shell.execute_reply": "2025-09-02T16:07:23.266808Z",
     "shell.execute_reply.started": "2025-09-02T16:07:23.264407Z"
    }
   },
   "outputs": [
    {
     "data": {
      "text/plain": [
       "float"
      ]
     },
     "execution_count": 26,
     "metadata": {},
     "output_type": "execute_result"
    }
   ],
   "source": [
    "b = 10.0\n",
    "type(b)"
   ]
  },
  {
   "cell_type": "markdown",
   "metadata": {
    "deletable": false,
    "editable": false,
    "nbgrader": {
     "cell_type": "markdown",
     "checksum": "3864a0795dea200f7d2257d224b0f124",
     "grade": false,
     "grade_id": "cell-fdb31c3a5ed25e02",
     "locked": true,
     "schema_version": 3,
     "solution": false,
     "task": false
    }
   },
   "source": [
    "## Strings\n",
    "\n",
    "Strings are lists of printable characters, and can be defined using either single quotes"
   ]
  },
  {
   "cell_type": "code",
   "execution_count": 27,
   "metadata": {
    "execution": {
     "iopub.execute_input": "2025-09-02T16:07:23.268520Z",
     "iopub.status.busy": "2025-09-02T16:07:23.268345Z",
     "iopub.status.idle": "2025-09-02T16:07:23.271267Z",
     "shell.execute_reply": "2025-09-02T16:07:23.270887Z",
     "shell.execute_reply.started": "2025-09-02T16:07:23.268506Z"
    }
   },
   "outputs": [
    {
     "data": {
      "text/plain": [
       "'Hello, World!'"
      ]
     },
     "execution_count": 27,
     "metadata": {},
     "output_type": "execute_result"
    }
   ],
   "source": [
    "'Hello, World!'"
   ]
  },
  {
   "cell_type": "markdown",
   "metadata": {
    "deletable": false,
    "editable": false,
    "nbgrader": {
     "cell_type": "markdown",
     "checksum": "1ef30d1cde5bd1bdc34a6efe2691aa05",
     "grade": false,
     "grade_id": "cell-bef47dad5ad60210",
     "locked": true,
     "schema_version": 3,
     "solution": false,
     "task": false
    }
   },
   "source": [
    "or double quotes"
   ]
  },
  {
   "cell_type": "code",
   "execution_count": 28,
   "metadata": {
    "execution": {
     "iopub.execute_input": "2025-09-02T16:07:23.272048Z",
     "iopub.status.busy": "2025-09-02T16:07:23.271743Z",
     "iopub.status.idle": "2025-09-02T16:07:23.274770Z",
     "shell.execute_reply": "2025-09-02T16:07:23.274397Z",
     "shell.execute_reply.started": "2025-09-02T16:07:23.272033Z"
    }
   },
   "outputs": [
    {
     "data": {
      "text/plain": [
       "'Hello, World!'"
      ]
     },
     "execution_count": 28,
     "metadata": {},
     "output_type": "execute_result"
    }
   ],
   "source": [
    "\"Hello, World!\""
   ]
  },
  {
   "cell_type": "markdown",
   "metadata": {
    "deletable": false,
    "editable": false,
    "nbgrader": {
     "cell_type": "markdown",
     "checksum": "d78dc51f41dcfd41d12bfd54d6dab97c",
     "grade": false,
     "grade_id": "cell-095c3692b8f69a0c",
     "locked": true,
     "schema_version": 3,
     "solution": false,
     "task": false
    }
   },
   "source": [
    "The **print** statement is often used for printing character strings or other data types. "
   ]
  },
  {
   "cell_type": "code",
   "execution_count": 29,
   "metadata": {
    "execution": {
     "iopub.execute_input": "2025-09-02T16:07:23.275590Z",
     "iopub.status.busy": "2025-09-02T16:07:23.275246Z",
     "iopub.status.idle": "2025-09-02T16:07:23.277979Z",
     "shell.execute_reply": "2025-09-02T16:07:23.277591Z",
     "shell.execute_reply.started": "2025-09-02T16:07:23.275575Z"
    }
   },
   "outputs": [
    {
     "name": "stdout",
     "output_type": "stream",
     "text": [
      "Hello, World!\n",
      "The area is 600\n"
     ]
    }
   ],
   "source": [
    "greeting = \"Hello, World!\"\n",
    "introduction = \"Welcome to this introduction to Python!\"\n",
    "print(greeting)\n",
    "print(\"The area is\", area)"
   ]
  },
  {
   "cell_type": "markdown",
   "metadata": {
    "deletable": false,
    "editable": false,
    "nbgrader": {
     "cell_type": "markdown",
     "checksum": "723e3b2b39e698aa515acc6f49758247",
     "grade": false,
     "grade_id": "cell-d1cf3fb2a63f830e",
     "locked": true,
     "schema_version": 3,
     "solution": false,
     "task": false
    }
   },
   "source": [
    "In the above snippet, the integer 600 (stored in the variable `area`) was converted into a string before being printed out. \n",
    "\n",
    "**Exercise 2:** Use the `+` operator to concatenate the strings strings `greeting` and `introduction` together to form a combined string."
   ]
  },
  {
   "cell_type": "code",
   "execution_count": 30,
   "metadata": {
    "execution": {
     "iopub.execute_input": "2025-09-02T16:07:23.278766Z",
     "iopub.status.busy": "2025-09-02T16:07:23.278499Z",
     "iopub.status.idle": "2025-09-02T16:07:23.281048Z",
     "shell.execute_reply": "2025-09-02T16:07:23.280671Z",
     "shell.execute_reply.started": "2025-09-02T16:07:23.278752Z"
    }
   },
   "outputs": [
    {
     "name": "stdout",
     "output_type": "stream",
     "text": [
      "Hello, World!Welcome to this introduction to Python!\n"
     ]
    }
   ],
   "source": [
    "print(greeting + introduction)"
   ]
  },
  {
   "cell_type": "markdown",
   "metadata": {
    "deletable": false,
    "editable": false,
    "nbgrader": {
     "cell_type": "markdown",
     "checksum": "ccc411c14579aad8fecc4bdc17ae8a1a",
     "grade": false,
     "grade_id": "cell-e0b35da3e8adcce0",
     "locked": true,
     "schema_version": 3,
     "solution": false,
     "task": false
    }
   },
   "source": [
    "**Exercise 3:** The resulting string is missing a space in between the words 'World' and 'Welcome'. Correct this by inserting a third string into the sum."
   ]
  },
  {
   "cell_type": "code",
   "execution_count": 31,
   "metadata": {
    "execution": {
     "iopub.execute_input": "2025-09-02T16:07:23.281661Z",
     "iopub.status.busy": "2025-09-02T16:07:23.281526Z",
     "iopub.status.idle": "2025-09-02T16:07:23.284054Z",
     "shell.execute_reply": "2025-09-02T16:07:23.283662Z",
     "shell.execute_reply.started": "2025-09-02T16:07:23.281648Z"
    }
   },
   "outputs": [
    {
     "name": "stdout",
     "output_type": "stream",
     "text": [
      "Hello, World! Welcome to this introduction to Python!\n"
     ]
    }
   ],
   "source": [
    "print(greeting + \" \" + introduction)"
   ]
  },
  {
   "cell_type": "markdown",
   "metadata": {
    "deletable": false,
    "editable": false,
    "nbgrader": {
     "cell_type": "markdown",
     "checksum": "8a4d878d118250dbed0c812008eb422c",
     "grade": false,
     "grade_id": "cell-59b295f03bd2403b",
     "locked": true,
     "schema_version": 3,
     "solution": false,
     "task": false
    }
   },
   "source": [
    "**Exercise 4:** Use the built-in function `str` to turn the integer 8471 into a string. Call the resulting object `d`."
   ]
  },
  {
   "cell_type": "code",
   "execution_count": 32,
   "metadata": {
    "execution": {
     "iopub.execute_input": "2025-09-02T16:07:23.284744Z",
     "iopub.status.busy": "2025-09-02T16:07:23.284578Z",
     "iopub.status.idle": "2025-09-02T16:07:23.287185Z",
     "shell.execute_reply": "2025-09-02T16:07:23.286795Z",
     "shell.execute_reply.started": "2025-09-02T16:07:23.284730Z"
    }
   },
   "outputs": [
    {
     "name": "stdout",
     "output_type": "stream",
     "text": [
      "<class 'int'> <class 'str'>\n"
     ]
    }
   ],
   "source": [
    "d_int = 8471\n",
    "d = str(d_int)\n",
    "print(type(d_int), type(d))"
   ]
  },
  {
   "cell_type": "markdown",
   "metadata": {
    "deletable": false,
    "editable": false,
    "nbgrader": {
     "cell_type": "markdown",
     "checksum": "4e51eb2c4294850d87666666b3e10406",
     "grade": false,
     "grade_id": "cell-67b4f7a26baa9dea",
     "locked": true,
     "schema_version": 3,
     "solution": false,
     "task": false
    }
   },
   "source": [
    "To include formatting into your print statements, you can use expressions that should be familiar to you from $\\textsf{R}$:"
   ]
  },
  {
   "cell_type": "code",
   "execution_count": 33,
   "metadata": {
    "execution": {
     "iopub.execute_input": "2025-09-02T16:07:23.287843Z",
     "iopub.status.busy": "2025-09-02T16:07:23.287708Z",
     "iopub.status.idle": "2025-09-02T16:07:23.290296Z",
     "shell.execute_reply": "2025-09-02T16:07:23.289891Z",
     "shell.execute_reply.started": "2025-09-02T16:07:23.287828Z"
    }
   },
   "outputs": [
    {
     "name": "stdout",
     "output_type": "stream",
     "text": [
      "pi is approximately 3.14159265 \n",
      "Euler's number e is approximately 2.718\n"
     ]
    }
   ],
   "source": [
    "print(\"pi is approximately %.8f \\nEuler's number e is approximately %.3f\" % (math.pi, math.e))"
   ]
  },
  {
   "cell_type": "markdown",
   "metadata": {
    "deletable": false,
    "editable": false,
    "nbgrader": {
     "cell_type": "markdown",
     "checksum": "fe5e6bcbea327eae86faf2453555f2e1",
     "grade": false,
     "grade_id": "cell-5c447433d4af2a1c",
     "locked": true,
     "schema_version": 3,
     "solution": false,
     "task": false
    }
   },
   "source": [
    "Note that in the previous command, we didn't have to import the `math` library again; importing it once per session will suffice. \n",
    "\n",
    "Python has a set of built-in functions and methods that allow you to manipulate strings. The terms built-in function and method refer to two different things. Methods are associated with the object of a particular type they belong to. Typically methods are used in the form `object.method(arguments)`, see examples below. Built-in functions on the other hand can be invoked just by its name and are usually applicable to any object type, see for instance `len`. \n",
    "\n",
    "We mention a couple of them, you figure out what they do. \n",
    "<a id=\"string_cell\"></a>"
   ]
  },
  {
   "cell_type": "code",
   "execution_count": 34,
   "metadata": {
    "execution": {
     "iopub.execute_input": "2025-09-02T16:07:23.290976Z",
     "iopub.status.busy": "2025-09-02T16:07:23.290807Z",
     "iopub.status.idle": "2025-09-02T16:07:23.293810Z",
     "shell.execute_reply": "2025-09-02T16:07:23.293424Z",
     "shell.execute_reply.started": "2025-09-02T16:07:23.290961Z"
    }
   },
   "outputs": [
    {
     "name": "stdout",
     "output_type": "stream",
     "text": [
      "Hello, World! Welcome to this introduction to Python!\n",
      "53\n",
      "hello, world! welcome to this introduction to python!\n",
      "Hello, World. Welcome to this introduction to Python.\n",
      "8\n"
     ]
    }
   ],
   "source": [
    "statement = \"Hello, World! Welcome to this introduction to Python!\"\n",
    "print(statement)\n",
    "print(len(statement)) \n",
    "print(statement.lower())\n",
    "print(statement.replace(\"!\", \".\"))\n",
    "print(statement.count(\"o\"))"
   ]
  },
  {
   "cell_type": "markdown",
   "metadata": {
    "deletable": false,
    "editable": false,
    "nbgrader": {
     "cell_type": "markdown",
     "checksum": "d1cc5def6524183b4e016e565a7f77b9",
     "grade": false,
     "grade_id": "cell-548e818179ab629d",
     "locked": true,
     "schema_version": 3,
     "solution": false,
     "task": false
    }
   },
   "source": [
    "**Exercise 5:** Apply a single method to `statement` to transform all lowercase letters to uppercase letters, and vice versa. (Hint: Type `statement.<Tab>` and find an appropriate method. That is, type `statement.` in the code cell  below and then hit the `<Tab>` key on your keyboard). "
   ]
  },
  {
   "cell_type": "code",
   "execution_count": 35,
   "metadata": {
    "execution": {
     "iopub.execute_input": "2025-09-02T16:07:23.294485Z",
     "iopub.status.busy": "2025-09-02T16:07:23.294348Z",
     "iopub.status.idle": "2025-09-02T16:07:23.296995Z",
     "shell.execute_reply": "2025-09-02T16:07:23.296597Z",
     "shell.execute_reply.started": "2025-09-02T16:07:23.294471Z"
    }
   },
   "outputs": [
    {
     "name": "stdout",
     "output_type": "stream",
     "text": [
      "HELLO, WORLD! WELCOME TO THIS INTRODUCTION TO PYTHON!\n"
     ]
    }
   ],
   "source": [
    "print(statement.upper())"
   ]
  },
  {
   "cell_type": "markdown",
   "metadata": {
    "deletable": false,
    "editable": false,
    "nbgrader": {
     "cell_type": "markdown",
     "checksum": "5bfa0af488707ffac9997c5d8c0aa625",
     "grade": false,
     "grade_id": "cell-5fc9c74058c8b2bd",
     "locked": true,
     "schema_version": 3,
     "solution": false,
     "task": false
    }
   },
   "source": [
    "## Lists\n",
    "\n",
    "Very often in a programming language, one wants to keep a group of similar items together. Python does this using a data type called **lists** which are constructed using square brackets `[ ]` or the built-in `list` function. "
   ]
  },
  {
   "cell_type": "code",
   "execution_count": 36,
   "metadata": {
    "execution": {
     "iopub.execute_input": "2025-09-02T16:07:23.299620Z",
     "iopub.status.busy": "2025-09-02T16:07:23.299360Z",
     "iopub.status.idle": "2025-09-02T16:07:23.301912Z",
     "shell.execute_reply": "2025-09-02T16:07:23.301525Z",
     "shell.execute_reply.started": "2025-09-02T16:07:23.299605Z"
    }
   },
   "outputs": [],
   "source": [
    "days_of_the_week = [\"Monday\", \"Tuesday\", \"Wednesday\", \"Thursday\", \"Friday\", \"Saturday\", \"Sunday\"]\n",
    "prime_numbers = [2, 3, 5, 9, 11, 13, 17, 19, 23, 29]"
   ]
  },
  {
   "cell_type": "markdown",
   "metadata": {
    "deletable": false,
    "editable": false,
    "nbgrader": {
     "cell_type": "markdown",
     "checksum": "627fc706130ff66e7aed446beea6e697",
     "grade": false,
     "grade_id": "cell-e0d8f57efd4ca0d1",
     "locked": true,
     "schema_version": 3,
     "solution": false,
     "task": false
    }
   },
   "source": [
    "**Exercise 6:** Use the `append` method (see the [documentation](https://docs.python.org/3/tutorial/datastructures.html) if needed) to attach the integer 31 to the end of `prime_numbers`. Print the result. "
   ]
  },
  {
   "cell_type": "code",
   "execution_count": 37,
   "metadata": {
    "execution": {
     "iopub.execute_input": "2025-09-02T16:07:23.302772Z",
     "iopub.status.busy": "2025-09-02T16:07:23.302425Z",
     "iopub.status.idle": "2025-09-02T16:07:23.305393Z",
     "shell.execute_reply": "2025-09-02T16:07:23.304963Z",
     "shell.execute_reply.started": "2025-09-02T16:07:23.302756Z"
    }
   },
   "outputs": [
    {
     "name": "stdout",
     "output_type": "stream",
     "text": [
      "[2, 3, 5, 9, 11, 13, 17, 19, 23, 29]\n",
      "[2, 3, 5, 9, 11, 13, 17, 19, 23, 29, 31]\n"
     ]
    }
   ],
   "source": [
    "print(prime_numbers)\n",
    "prime_numbers.append(31)\n",
    "print(prime_numbers)\n"
   ]
  },
  {
   "cell_type": "markdown",
   "metadata": {
    "deletable": false,
    "editable": false,
    "nbgrader": {
     "cell_type": "markdown",
     "checksum": "5368b23c3a1d5b46ae02f082f3576db3",
     "grade": false,
     "grade_id": "cell-8c8d62e1a4c41951",
     "locked": true,
     "schema_version": 3,
     "solution": false,
     "task": false
    }
   },
   "source": [
    "You can access members of the list using the **index** of that item. One can also use these to re-define objects within a list."
   ]
  },
  {
   "cell_type": "code",
   "execution_count": 38,
   "metadata": {
    "execution": {
     "iopub.execute_input": "2025-09-02T16:07:23.306038Z",
     "iopub.status.busy": "2025-09-02T16:07:23.305894Z",
     "iopub.status.idle": "2025-09-02T16:07:23.308983Z",
     "shell.execute_reply": "2025-09-02T16:07:23.308600Z",
     "shell.execute_reply.started": "2025-09-02T16:07:23.306024Z"
    }
   },
   "outputs": [
    {
     "data": {
      "text/plain": [
       "'Wednesday'"
      ]
     },
     "execution_count": 38,
     "metadata": {},
     "output_type": "execute_result"
    }
   ],
   "source": [
    "days_of_the_week[2]"
   ]
  },
  {
   "cell_type": "code",
   "execution_count": 39,
   "metadata": {
    "execution": {
     "iopub.execute_input": "2025-09-02T16:07:23.309681Z",
     "iopub.status.busy": "2025-09-02T16:07:23.309505Z",
     "iopub.status.idle": "2025-09-02T16:07:23.312669Z",
     "shell.execute_reply": "2025-09-02T16:07:23.312287Z",
     "shell.execute_reply.started": "2025-09-02T16:07:23.309667Z"
    }
   },
   "outputs": [
    {
     "data": {
      "text/plain": [
       "[2, 3, 5, 7, 11, 13, 17, 19, 23, 29, 31]"
      ]
     },
     "execution_count": 39,
     "metadata": {},
     "output_type": "execute_result"
    }
   ],
   "source": [
    "prime_numbers[3] = 7\n",
    "prime_numbers"
   ]
  },
  {
   "cell_type": "markdown",
   "metadata": {
    "deletable": false,
    "editable": false,
    "nbgrader": {
     "cell_type": "markdown",
     "checksum": "92eb82a4fa018fe903ee7321e998c7c4",
     "grade": false,
     "grade_id": "cell-62411892ed51557e",
     "locked": true,
     "schema_version": 3,
     "solution": false,
     "task": false
    }
   },
   "source": [
    "**IMPORTANT**: Python lists (unlike $\\mathsf{R}$ lists) use 0 as the index of its first element. Thus, in this example, the 0 element of `days_of_the_week` is \"Monday\", 1 is \"Tuesday\", and so on. If you need to access the $n$th element from the end of your list, you can use a negative index. For example, the -1 element of a list is the last element:"
   ]
  },
  {
   "cell_type": "code",
   "execution_count": 40,
   "metadata": {
    "execution": {
     "iopub.execute_input": "2025-09-02T16:07:23.313346Z",
     "iopub.status.busy": "2025-09-02T16:07:23.313194Z",
     "iopub.status.idle": "2025-09-02T16:07:23.316130Z",
     "shell.execute_reply": "2025-09-02T16:07:23.315752Z",
     "shell.execute_reply.started": "2025-09-02T16:07:23.313331Z"
    }
   },
   "outputs": [
    {
     "data": {
      "text/plain": [
       "'Sunday'"
      ]
     },
     "execution_count": 40,
     "metadata": {},
     "output_type": "execute_result"
    }
   ],
   "source": [
    "days_of_the_week[-1]"
   ]
  },
  {
   "cell_type": "markdown",
   "metadata": {
    "deletable": false,
    "editable": false,
    "nbgrader": {
     "cell_type": "markdown",
     "checksum": "0b873c2e97ea730eb2c423478ad5fa26",
     "grade": false,
     "grade_id": "cell-57a6a897ac8d3350",
     "locked": true,
     "schema_version": 3,
     "solution": false,
     "task": false
    }
   },
   "source": [
    "The `range()` command is a convenient way to make sequential lists of numbers and will often be used when creating `for` loops:"
   ]
  },
  {
   "cell_type": "code",
   "execution_count": 41,
   "metadata": {
    "execution": {
     "iopub.execute_input": "2025-09-02T16:07:23.316964Z",
     "iopub.status.busy": "2025-09-02T16:07:23.316654Z",
     "iopub.status.idle": "2025-09-02T16:07:23.319791Z",
     "shell.execute_reply": "2025-09-02T16:07:23.319396Z",
     "shell.execute_reply.started": "2025-09-02T16:07:23.316950Z"
    }
   },
   "outputs": [
    {
     "data": {
      "text/plain": [
       "[0, 1, 2, 3, 4, 5, 6, 7, 8, 9]"
      ]
     },
     "execution_count": 41,
     "metadata": {},
     "output_type": "execute_result"
    }
   ],
   "source": [
    "list(range(10))"
   ]
  },
  {
   "cell_type": "markdown",
   "metadata": {
    "deletable": false,
    "editable": false,
    "nbgrader": {
     "cell_type": "markdown",
     "checksum": "ae5247f8b2646733cea27f2e65b75958",
     "grade": false,
     "grade_id": "cell-4b3efa71fdb644fd",
     "locked": true,
     "schema_version": 3,
     "solution": false,
     "task": false
    }
   },
   "source": [
    "Note that `range(n)` starts at 0 and gives the sequential list of integers strictly less than $n$. So it's a list of size $n$, ranging from $0$ up to and including $n-1$. If you want to start at a different number, use `range(start, stop)`. "
   ]
  },
  {
   "cell_type": "code",
   "execution_count": 42,
   "metadata": {
    "execution": {
     "iopub.execute_input": "2025-09-02T16:07:23.320423Z",
     "iopub.status.busy": "2025-09-02T16:07:23.320284Z",
     "iopub.status.idle": "2025-09-02T16:07:23.323449Z",
     "shell.execute_reply": "2025-09-02T16:07:23.323056Z",
     "shell.execute_reply.started": "2025-09-02T16:07:23.320409Z"
    }
   },
   "outputs": [
    {
     "data": {
      "text/plain": [
       "[2, 3, 4, 5, 6, 7]"
      ]
     },
     "execution_count": 42,
     "metadata": {},
     "output_type": "execute_result"
    }
   ],
   "source": [
    "list(range(2,8))"
   ]
  },
  {
   "cell_type": "markdown",
   "metadata": {
    "deletable": false,
    "editable": false,
    "nbgrader": {
     "cell_type": "markdown",
     "checksum": "ebee83c9995d021f7494e9098fb02bdf",
     "grade": false,
     "grade_id": "cell-f7b998ecefd06a93",
     "locked": true,
     "schema_version": 3,
     "solution": false,
     "task": false
    }
   },
   "source": [
    "The lists created above with range() have a *stepsize* of 1 between elements. You can also give a fixed step size via a third argument:"
   ]
  },
  {
   "cell_type": "code",
   "execution_count": 43,
   "metadata": {
    "execution": {
     "iopub.execute_input": "2025-09-02T16:07:23.324070Z",
     "iopub.status.busy": "2025-09-02T16:07:23.323932Z",
     "iopub.status.idle": "2025-09-02T16:07:23.326732Z",
     "shell.execute_reply": "2025-09-02T16:07:23.326341Z",
     "shell.execute_reply.started": "2025-09-02T16:07:23.324056Z"
    }
   },
   "outputs": [
    {
     "name": "stdout",
     "output_type": "stream",
     "text": [
      "[2, 4, 6, 8, 10, 12, 14, 16, 18]\n",
      "The fourth smallest positive even number is 8\n"
     ]
    }
   ],
   "source": [
    "even = list(range(2, 20, 2))\n",
    "print(even)\n",
    "print(\"The fourth smallest positive even number is\", even[3])"
   ]
  },
  {
   "cell_type": "markdown",
   "metadata": {
    "deletable": false,
    "editable": false,
    "nbgrader": {
     "cell_type": "markdown",
     "checksum": "84200ad5415c4a177f08d2b38a90d8de",
     "grade": false,
     "grade_id": "cell-aa9b6736915dbbad",
     "locked": true,
     "schema_version": 3,
     "solution": false,
     "task": false
    }
   },
   "source": [
    "**Exercise 7:** Use `+` to concatenate the lists `days_of_the_week` and `prime_numbers`, and print the result. "
   ]
  },
  {
   "cell_type": "code",
   "execution_count": 44,
   "metadata": {
    "execution": {
     "iopub.execute_input": "2025-09-02T16:07:23.327361Z",
     "iopub.status.busy": "2025-09-02T16:07:23.327211Z",
     "iopub.status.idle": "2025-09-02T16:07:23.329754Z",
     "shell.execute_reply": "2025-09-02T16:07:23.329367Z",
     "shell.execute_reply.started": "2025-09-02T16:07:23.327347Z"
    }
   },
   "outputs": [
    {
     "name": "stdout",
     "output_type": "stream",
     "text": [
      "['Monday', 'Tuesday', 'Wednesday', 'Thursday', 'Friday', 'Saturday', 'Sunday', 2, 3, 5, 7, 11, 13, 17, 19, 23, 29, 31]\n"
     ]
    }
   ],
   "source": [
    "print(days_of_the_week + prime_numbers)"
   ]
  },
  {
   "cell_type": "markdown",
   "metadata": {
    "deletable": false,
    "editable": false,
    "nbgrader": {
     "cell_type": "markdown",
     "checksum": "9cdee7d7c39f38c70c40cda7d7e058f5",
     "grade": false,
     "grade_id": "cell-e31dd08fd8b6c8a8",
     "locked": true,
     "schema_version": 3,
     "solution": false,
     "task": false
    }
   },
   "source": [
    "**Exercise 8:** Use the function `len` to count the number of elements in `prime_numbers`. "
   ]
  },
  {
   "cell_type": "code",
   "execution_count": 45,
   "metadata": {
    "execution": {
     "iopub.execute_input": "2025-09-02T16:07:23.330536Z",
     "iopub.status.busy": "2025-09-02T16:07:23.330264Z",
     "iopub.status.idle": "2025-09-02T16:07:23.333247Z",
     "shell.execute_reply": "2025-09-02T16:07:23.332877Z",
     "shell.execute_reply.started": "2025-09-02T16:07:23.330522Z"
    }
   },
   "outputs": [
    {
     "data": {
      "text/plain": [
       "11"
      ]
     },
     "execution_count": 45,
     "metadata": {},
     "output_type": "execute_result"
    }
   ],
   "source": [
    "len(prime_numbers)"
   ]
  },
  {
   "cell_type": "markdown",
   "metadata": {
    "deletable": false,
    "editable": false,
    "nbgrader": {
     "cell_type": "markdown",
     "checksum": "fe701fc6a9b6b1aead24dab905160fe0",
     "grade": false,
     "grade_id": "cell-1387efd7bbcef952",
     "locked": true,
     "schema_version": 3,
     "solution": false,
     "task": false
    }
   },
   "source": [
    "We can split a string into a list where each word is a list item using any whitespace as separator (note that it doesn't take punctuation into account):\n",
    "<a id=\"split_cell\"></a>"
   ]
  },
  {
   "cell_type": "code",
   "execution_count": 46,
   "metadata": {
    "execution": {
     "iopub.execute_input": "2025-09-02T16:07:23.333931Z",
     "iopub.status.busy": "2025-09-02T16:07:23.333763Z",
     "iopub.status.idle": "2025-09-02T16:07:23.336897Z",
     "shell.execute_reply": "2025-09-02T16:07:23.336530Z",
     "shell.execute_reply.started": "2025-09-02T16:07:23.333917Z"
    }
   },
   "outputs": [
    {
     "data": {
      "text/plain": [
       "['Hello,', 'World!', 'Welcome', 'to', 'this', 'introduction', 'to', 'Python!']"
      ]
     },
     "execution_count": 46,
     "metadata": {},
     "output_type": "execute_result"
    }
   ],
   "source": [
    "statement = \"Hello, World! Welcome to this introduction to Python!\"\n",
    "x = statement.split(\" \")\n",
    "x"
   ]
  },
  {
   "cell_type": "markdown",
   "metadata": {
    "deletable": false,
    "editable": false,
    "nbgrader": {
     "cell_type": "markdown",
     "checksum": "a6f3a841a80d6481e27418139b53048d",
     "grade": false,
     "grade_id": "cell-e396047b78142218",
     "locked": true,
     "schema_version": 3,
     "solution": false,
     "task": false
    }
   },
   "source": [
    "**Exercise 9:** Use the *method* `sort` to sort `days_of_the_week` alphabetically, and print the result. "
   ]
  },
  {
   "cell_type": "code",
   "execution_count": 47,
   "metadata": {
    "execution": {
     "iopub.execute_input": "2025-09-02T16:07:23.337748Z",
     "iopub.status.busy": "2025-09-02T16:07:23.337408Z",
     "iopub.status.idle": "2025-09-02T16:07:23.339896Z",
     "shell.execute_reply": "2025-09-02T16:07:23.339517Z",
     "shell.execute_reply.started": "2025-09-02T16:07:23.337734Z"
    }
   },
   "outputs": [
    {
     "name": "stdout",
     "output_type": "stream",
     "text": [
      "['Friday', 'Monday', 'Saturday', 'Sunday', 'Thursday', 'Tuesday', 'Wednesday']\n"
     ]
    }
   ],
   "source": [
    "days_of_the_week.sort()\n",
    "print(days_of_the_week)"
   ]
  },
  {
   "cell_type": "markdown",
   "metadata": {
    "deletable": false,
    "editable": false,
    "nbgrader": {
     "cell_type": "markdown",
     "checksum": "670295e892bc621e9ac6fd7e13e35722",
     "grade": false,
     "grade_id": "cell-638ddd3b222b368d",
     "locked": true,
     "schema_version": 3,
     "solution": false,
     "task": false
    }
   },
   "source": [
    "## Tuples\n",
    "\n",
    "Like a list, a tuple is an ordered sequence of Python objects. Crucially, unlike a list, a tuple is an immutable object. This means that once the tuple is defined, its length and its objects cannot be changed anymore.\n",
    "\n",
    "One can define a tuple using commas only. Parentheses `()` are optional."
   ]
  },
  {
   "cell_type": "code",
   "execution_count": 48,
   "metadata": {
    "execution": {
     "iopub.execute_input": "2025-09-02T16:07:23.340711Z",
     "iopub.status.busy": "2025-09-02T16:07:23.340409Z",
     "iopub.status.idle": "2025-09-02T16:07:23.342826Z",
     "shell.execute_reply": "2025-09-02T16:07:23.342444Z",
     "shell.execute_reply.started": "2025-09-02T16:07:23.340697Z"
    }
   },
   "outputs": [],
   "source": [
    "tuple1 = (1, 2, ['tree','house',9.9] , 4, 'king')\n",
    "tuple2 = ('queen', 'door', 'leaf')"
   ]
  },
  {
   "cell_type": "markdown",
   "metadata": {
    "deletable": false,
    "editable": false,
    "nbgrader": {
     "cell_type": "markdown",
     "checksum": "be7534faab571c0e4cca13eac39b12ac",
     "grade": false,
     "grade_id": "cell-7e23144ee9e2da00",
     "locked": true,
     "schema_version": 3,
     "solution": false,
     "task": false
    }
   },
   "source": [
    "**Exercise 10:** Use the command `tuple` to create a tuple out of the string `greeting` defined earlier."
   ]
  },
  {
   "cell_type": "code",
   "execution_count": 49,
   "metadata": {
    "execution": {
     "iopub.execute_input": "2025-09-02T16:07:23.343629Z",
     "iopub.status.busy": "2025-09-02T16:07:23.343337Z",
     "iopub.status.idle": "2025-09-02T16:07:23.345897Z",
     "shell.execute_reply": "2025-09-02T16:07:23.345511Z",
     "shell.execute_reply.started": "2025-09-02T16:07:23.343615Z"
    }
   },
   "outputs": [
    {
     "name": "stdout",
     "output_type": "stream",
     "text": [
      "('H', 'e', 'l', 'l', 'o', ',', ' ', 'W', 'o', 'r', 'l', 'd', '!')\n"
     ]
    }
   ],
   "source": [
    "print(tuple(greeting))"
   ]
  },
  {
   "cell_type": "markdown",
   "metadata": {
    "deletable": false,
    "editable": false,
    "nbgrader": {
     "cell_type": "markdown",
     "checksum": "b3ac79b9f7021fcd4fafe0cfc30e7ba5",
     "grade": false,
     "grade_id": "cell-11ffd953a4c86c16",
     "locked": true,
     "schema_version": 3,
     "solution": false,
     "task": false
    }
   },
   "source": [
    "**Exercise 11:** Try to append the integer 6 to `tuple1`, like you did earlier for lists. You will encounter an error, because tuples are immutable. "
   ]
  },
  {
   "cell_type": "code",
   "execution_count": 50,
   "metadata": {
    "execution": {
     "iopub.execute_input": "2025-09-02T16:07:23.346723Z",
     "iopub.status.busy": "2025-09-02T16:07:23.346404Z",
     "iopub.status.idle": "2025-09-02T16:07:23.358564Z",
     "shell.execute_reply": "2025-09-02T16:07:23.356277Z",
     "shell.execute_reply.started": "2025-09-02T16:07:23.346709Z"
    }
   },
   "outputs": [
    {
     "ename": "AttributeError",
     "evalue": "'tuple' object has no attribute 'append'",
     "output_type": "error",
     "traceback": [
      "\u001b[0;31m---------------------------------------------------------------------------\u001b[0m",
      "\u001b[0;31mAttributeError\u001b[0m                            Traceback (most recent call last)",
      "Cell \u001b[0;32mIn[50], line 1\u001b[0m\n\u001b[0;32m----> 1\u001b[0m \u001b[43mtuple1\u001b[49m\u001b[38;5;241;43m.\u001b[39;49m\u001b[43mappend\u001b[49m(\u001b[38;5;241m6\u001b[39m)\n",
      "\u001b[0;31mAttributeError\u001b[0m: 'tuple' object has no attribute 'append'"
     ]
    }
   ],
   "source": [
    "tuple1.append(6)"
   ]
  },
  {
   "cell_type": "markdown",
   "metadata": {
    "deletable": false,
    "editable": false,
    "nbgrader": {
     "cell_type": "markdown",
     "checksum": "de13500b25e05661a8fa3b47e9b1c8f0",
     "grade": false,
     "grade_id": "cell-66efa05aa07ec12b",
     "locked": true,
     "schema_version": 3,
     "solution": false,
     "task": false
    }
   },
   "source": [
    "## Dictionaries\n",
    "\n",
    "With a dictionary, you can connect a value to another value to represent the relationship between them in your code. This is similar to a regular dictionary, which connects words with their description. In this example, the dictionary connects a number name (string) with their value (integer). \n",
    "\n",
    "You can define a dictionary by enclosing a comma-separated list of key-value pairs in curly brackets `{ }`. A colon `:` separates each key from its associated value:"
   ]
  },
  {
   "cell_type": "code",
   "execution_count": 51,
   "metadata": {
    "execution": {
     "iopub.execute_input": "2025-09-02T16:07:34.163433Z",
     "iopub.status.busy": "2025-09-02T16:07:34.163130Z",
     "iopub.status.idle": "2025-09-02T16:07:34.165979Z",
     "shell.execute_reply": "2025-09-02T16:07:34.165584Z",
     "shell.execute_reply.started": "2025-09-02T16:07:34.163412Z"
    }
   },
   "outputs": [],
   "source": [
    "numNames = {\"One\": 1,\n",
    "            \"Two\": 2, \n",
    "            \"Three\": 3}"
   ]
  },
  {
   "cell_type": "markdown",
   "metadata": {
    "deletable": false,
    "editable": false,
    "nbgrader": {
     "cell_type": "markdown",
     "checksum": "ec305d46cce880a338f21e7a9b4b9f7b",
     "grade": false,
     "grade_id": "cell-4086b5530335497c",
     "locked": true,
     "schema_version": 3,
     "solution": false,
     "task": false
    }
   },
   "source": [
    "**Keys** in dictionaries are the equivalent of indices in lists to access a value. The **values** are what you can access with their corresponding key.\n",
    "\n",
    "A value is retrieved from a dictionary by specifying its corresponding key in square brackets `[ ]` instead of the index number. If you refer to a key that is not in the dictionary, Python raises an exception:"
   ]
  },
  {
   "cell_type": "code",
   "execution_count": 52,
   "metadata": {
    "execution": {
     "iopub.execute_input": "2025-09-02T16:07:35.830544Z",
     "iopub.status.busy": "2025-09-02T16:07:35.830299Z",
     "iopub.status.idle": "2025-09-02T16:07:35.841821Z",
     "shell.execute_reply": "2025-09-02T16:07:35.841297Z",
     "shell.execute_reply.started": "2025-09-02T16:07:35.830525Z"
    }
   },
   "outputs": [
    {
     "name": "stdout",
     "output_type": "stream",
     "text": [
      "1\n"
     ]
    },
    {
     "ename": "KeyError",
     "evalue": "'Four'",
     "output_type": "error",
     "traceback": [
      "\u001b[0;31m---------------------------------------------------------------------------\u001b[0m",
      "\u001b[0;31mKeyError\u001b[0m                                  Traceback (most recent call last)",
      "Cell \u001b[0;32mIn[52], line 2\u001b[0m\n\u001b[1;32m      1\u001b[0m \u001b[38;5;28mprint\u001b[39m(numNames[\u001b[38;5;124m\"\u001b[39m\u001b[38;5;124mOne\u001b[39m\u001b[38;5;124m\"\u001b[39m])\n\u001b[0;32m----> 2\u001b[0m \u001b[38;5;28mprint\u001b[39m(\u001b[43mnumNames\u001b[49m\u001b[43m[\u001b[49m\u001b[38;5;124;43m\"\u001b[39;49m\u001b[38;5;124;43mFour\u001b[39;49m\u001b[38;5;124;43m\"\u001b[39;49m\u001b[43m]\u001b[49m)\n",
      "\u001b[0;31mKeyError\u001b[0m: 'Four'"
     ]
    }
   ],
   "source": [
    "print(numNames[\"One\"])\n",
    "print(numNames[\"Four\"])"
   ]
  },
  {
   "cell_type": "markdown",
   "metadata": {
    "deletable": false,
    "editable": false,
    "nbgrader": {
     "cell_type": "markdown",
     "checksum": "4cc52111dff0eb382073c1d5fdac8376",
     "grade": false,
     "grade_id": "cell-50edc23dcbb8ed41",
     "locked": true,
     "schema_version": 3,
     "solution": false,
     "task": false
    }
   },
   "source": [
    "Adding an entry to an existing dictionary is simply a matter of assigning a new key to a value:"
   ]
  },
  {
   "cell_type": "code",
   "execution_count": 53,
   "metadata": {
    "execution": {
     "iopub.execute_input": "2025-09-02T16:07:38.557084Z",
     "iopub.status.busy": "2025-09-02T16:07:38.556826Z",
     "iopub.status.idle": "2025-09-02T16:07:38.560297Z",
     "shell.execute_reply": "2025-09-02T16:07:38.559896Z",
     "shell.execute_reply.started": "2025-09-02T16:07:38.557067Z"
    }
   },
   "outputs": [
    {
     "data": {
      "text/plain": [
       "{'One': 1, 'Two': 2, 'Three': 3, 'Four': 4}"
      ]
     },
     "execution_count": 53,
     "metadata": {},
     "output_type": "execute_result"
    }
   ],
   "source": [
    "numNames[\"Four\"] = 4\n",
    "numNames"
   ]
  },
  {
   "cell_type": "markdown",
   "metadata": {
    "deletable": false,
    "editable": false,
    "nbgrader": {
     "cell_type": "markdown",
     "checksum": "8bf71e19db06ff987cb1f4e7d912b3b8",
     "grade": false,
     "grade_id": "cell-2ea81e55e84153e9",
     "locked": true,
     "schema_version": 3,
     "solution": false,
     "task": false
    }
   },
   "source": [
    "Similar to adding a new key-value pair, we can can just as easily modify a key-value pair."
   ]
  },
  {
   "cell_type": "code",
   "execution_count": 54,
   "metadata": {
    "execution": {
     "iopub.execute_input": "2025-09-02T16:07:39.743088Z",
     "iopub.status.busy": "2025-09-02T16:07:39.742842Z",
     "iopub.status.idle": "2025-09-02T16:07:39.746165Z",
     "shell.execute_reply": "2025-09-02T16:07:39.745780Z",
     "shell.execute_reply.started": "2025-09-02T16:07:39.743069Z"
    }
   },
   "outputs": [
    {
     "data": {
      "text/plain": [
       "{'One': 10, 'Two': 2, 'Three': 3, 'Four': 4}"
      ]
     },
     "execution_count": 54,
     "metadata": {},
     "output_type": "execute_result"
    }
   ],
   "source": [
    "numNames[\"One\"] = 10\n",
    "numNames"
   ]
  },
  {
   "cell_type": "markdown",
   "metadata": {
    "deletable": false,
    "editable": false,
    "nbgrader": {
     "cell_type": "markdown",
     "checksum": "e84e24080a21e86d981beb9de6e845a5",
     "grade": false,
     "grade_id": "cell-e58f86e38bd0e09b",
     "locked": true,
     "schema_version": 3,
     "solution": false,
     "task": false
    }
   },
   "source": [
    "Sometimes it can be very helpful to check if a key already exists in a dictionary (remember that keys have to be unique). To check whether a single key is in the dictionary, use the `in` keyword. "
   ]
  },
  {
   "cell_type": "code",
   "execution_count": 55,
   "metadata": {
    "execution": {
     "iopub.execute_input": "2025-09-02T16:07:41.469290Z",
     "iopub.status.busy": "2025-09-02T16:07:41.469034Z",
     "iopub.status.idle": "2025-09-02T16:07:41.472013Z",
     "shell.execute_reply": "2025-09-02T16:07:41.471616Z",
     "shell.execute_reply.started": "2025-09-02T16:07:41.469272Z"
    }
   },
   "outputs": [
    {
     "name": "stdout",
     "output_type": "stream",
     "text": [
      "True\n",
      "False\n"
     ]
    }
   ],
   "source": [
    "print(\"Two\" in numNames)\n",
    "print(\"Five\" in numNames)"
   ]
  },
  {
   "cell_type": "markdown",
   "metadata": {
    "deletable": false,
    "editable": false,
    "nbgrader": {
     "cell_type": "markdown",
     "checksum": "e4d19bab244ee544bde5deb7fd793739",
     "grade": false,
     "grade_id": "cell-14b81032cef55594",
     "locked": true,
     "schema_version": 3,
     "solution": false,
     "task": false
    }
   },
   "source": [
    "This `in` operator checks the keys, not the values. You can use the `in` operator to check if a value is in a dictionary with `<dict>.values()`: "
   ]
  },
  {
   "cell_type": "code",
   "execution_count": 56,
   "metadata": {
    "execution": {
     "iopub.execute_input": "2025-09-02T16:07:42.972634Z",
     "iopub.status.busy": "2025-09-02T16:07:42.972349Z",
     "iopub.status.idle": "2025-09-02T16:07:42.975552Z",
     "shell.execute_reply": "2025-09-02T16:07:42.975061Z",
     "shell.execute_reply.started": "2025-09-02T16:07:42.972615Z"
    }
   },
   "outputs": [
    {
     "name": "stdout",
     "output_type": "stream",
     "text": [
      "True\n",
      "False\n"
     ]
    }
   ],
   "source": [
    "print(3 in numNames.values())\n",
    "print(7 in numNames.values())"
   ]
  },
  {
   "cell_type": "markdown",
   "metadata": {
    "deletable": false,
    "editable": false,
    "nbgrader": {
     "cell_type": "markdown",
     "checksum": "96d853f97a62835d36db25ce683012b5",
     "grade": false,
     "grade_id": "cell-9ebbb7dafcde0ae8",
     "locked": true,
     "schema_version": 3,
     "solution": false,
     "task": false
    }
   },
   "source": [
    "**Exercise 12:** Create a dictionary called `id` containing the key-value pairs `\"Name\" : <Your name>`, `\"Age\" : <Your age>`,  `\"Nationality\" : <Your nationality>`."
   ]
  },
  {
   "cell_type": "code",
   "execution_count": 57,
   "metadata": {
    "execution": {
     "iopub.execute_input": "2025-09-02T16:07:44.232639Z",
     "iopub.status.busy": "2025-09-02T16:07:44.232384Z",
     "iopub.status.idle": "2025-09-02T16:07:44.235428Z",
     "shell.execute_reply": "2025-09-02T16:07:44.235012Z",
     "shell.execute_reply.started": "2025-09-02T16:07:44.232619Z"
    }
   },
   "outputs": [
    {
     "name": "stdout",
     "output_type": "stream",
     "text": [
      "{'Name': 'Povilas', 'Age': 22, 'Nationality': 'Lithuanian'}\n"
     ]
    }
   ],
   "source": [
    "id = {\n",
    "    \"Name\": \"Povilas\",\n",
    "    \"Age\": 22,\n",
    "    \"Nationality\": \"Lithuanian\"\n",
    "}\n",
    "print(id)"
   ]
  },
  {
   "cell_type": "markdown",
   "metadata": {
    "deletable": false,
    "editable": false,
    "nbgrader": {
     "cell_type": "markdown",
     "checksum": "41160e87308eae88a06d6482590b1715",
     "grade": false,
     "grade_id": "cell-3271c7fae251d56c",
     "locked": true,
     "schema_version": 3,
     "solution": false,
     "task": false
    }
   },
   "source": [
    "# 3. Control flow\n",
    "\n",
    "Control flow statements are an essential part of Python and programming in general. In this section we introduce to most important ones.\n",
    "\n",
    "## `for`-loops\n",
    "One of the most useful things to do with lists is to iterate through them, i.e. to go through each element one at a time. To do this in Python, we use the `for` statement:"
   ]
  },
  {
   "cell_type": "code",
   "execution_count": 58,
   "metadata": {
    "execution": {
     "iopub.execute_input": "2025-09-02T16:07:46.524382Z",
     "iopub.status.busy": "2025-09-02T16:07:46.524156Z",
     "iopub.status.idle": "2025-09-02T16:07:46.527337Z",
     "shell.execute_reply": "2025-09-02T16:07:46.526856Z",
     "shell.execute_reply.started": "2025-09-02T16:07:46.524365Z"
    }
   },
   "outputs": [
    {
     "name": "stdout",
     "output_type": "stream",
     "text": [
      "Monday\n",
      "Tuesday\n",
      "Wednesday\n",
      "Thursday\n",
      "Friday\n",
      "Saturday\n",
      "Sunday\n"
     ]
    }
   ],
   "source": [
    "days_of_the_week = [\"Monday\", \"Tuesday\", \"Wednesday\", \"Thursday\", \"Friday\", \"Saturday\", \"Sunday\"]\n",
    "\n",
    "for day in days_of_the_week:\n",
    "    print(day)"
   ]
  },
  {
   "cell_type": "markdown",
   "metadata": {
    "deletable": false,
    "editable": false,
    "nbgrader": {
     "cell_type": "markdown",
     "checksum": "8e6c33c0a8be77665f95c41482806e9b",
     "grade": false,
     "grade_id": "cell-ffd0506cba16bee8",
     "locked": true,
     "schema_version": 3,
     "solution": false,
     "task": false
    }
   },
   "source": [
    "This code snippet goes through each element of the list called `days_of_the_week` and assigns it to the variable `day`. It then executes everything in the indented block (in this case only one line of code, the print statement) using those variable assignments. When the program has gone through every element of the list, it exits the block. \n",
    "\n",
    "In $\\mathsf{R}$ we would have used curly brackets `{}` to define the beginning and end of these blocks. Python uses a colon `:`, followed by an indentation (`<tab>` or four spaces) to define code blocks. Everything at a higher level of indentation is taken to be in the same block. In the above example the block was only a single line, but we could have had longer blocks as well:"
   ]
  },
  {
   "cell_type": "code",
   "execution_count": 59,
   "metadata": {
    "execution": {
     "iopub.execute_input": "2025-09-02T16:07:47.691933Z",
     "iopub.status.busy": "2025-09-02T16:07:47.691653Z",
     "iopub.status.idle": "2025-09-02T16:07:47.694869Z",
     "shell.execute_reply": "2025-09-02T16:07:47.694447Z",
     "shell.execute_reply.started": "2025-09-02T16:07:47.691915Z"
    }
   },
   "outputs": [
    {
     "name": "stdout",
     "output_type": "stream",
     "text": [
      "Today is Monday.\n",
      "Today is Tuesday.\n",
      "Today is Wednesday.\n",
      "Today is Thursday.\n",
      "Today is Friday.\n",
      "Today is Saturday.\n",
      "Today is Sunday.\n"
     ]
    }
   ],
   "source": [
    "for day in days_of_the_week:\n",
    "    statement = \"Today is \" + day + \".\"\n",
    "    print(statement)"
   ]
  },
  {
   "cell_type": "markdown",
   "metadata": {
    "deletable": false,
    "editable": false,
    "nbgrader": {
     "cell_type": "markdown",
     "checksum": "7e39dd6f4e20a7b997c5eb8ce6c6d58e",
     "grade": false,
     "grade_id": "cell-87c4c9e276ae5c30",
     "locked": true,
     "schema_version": 3,
     "solution": false,
     "task": false
    }
   },
   "source": [
    "The `range()` command is particularly useful in combination with the `for` statement to execute loops of a specified length. We also included some formatting for numbers. "
   ]
  },
  {
   "cell_type": "code",
   "execution_count": 60,
   "metadata": {
    "execution": {
     "iopub.execute_input": "2025-09-02T16:07:49.261518Z",
     "iopub.status.busy": "2025-09-02T16:07:49.261269Z",
     "iopub.status.idle": "2025-09-02T16:07:49.264734Z",
     "shell.execute_reply": "2025-09-02T16:07:49.264328Z",
     "shell.execute_reply.started": "2025-09-02T16:07:49.261499Z"
    }
   },
   "outputs": [
    {
     "name": "stdout",
     "output_type": "stream",
     "text": [
      "The square of  0 is   0\n",
      "The square of  1 is   1\n",
      "The square of  2 is   4\n",
      "The square of  3 is   9\n",
      "The square of  4 is  16\n",
      "The square of  5 is  25\n",
      "The square of  6 is  36\n",
      "The square of  7 is  49\n",
      "The square of  8 is  64\n",
      "The square of  9 is  81\n",
      "The square of 10 is 100\n",
      "The square of 11 is 121\n",
      "The square of 12 is 144\n",
      "The square of 13 is 169\n",
      "The square of 14 is 196\n",
      "The square of 15 is 225\n",
      "The square of 16 is 256\n",
      "The square of 17 is 289\n",
      "The square of 18 is 324\n",
      "The square of 19 is 361\n",
      "[0, 1, 4, 9, 16, 25, 36, 49, 64, 81, 100, 121, 144, 169, 196, 225, 256, 289, 324, 361]\n"
     ]
    }
   ],
   "source": [
    "squares = [] # Creating an empty list, which will be filled inside the for loop.\n",
    "\n",
    "for i in range(20):\n",
    "    squares.append(i**2)\n",
    "    print(\"The square of %2.d is %3.d\" % (i, i**2))\n",
    "\n",
    "print(squares)"
   ]
  },
  {
   "cell_type": "markdown",
   "metadata": {
    "deletable": false,
    "editable": false,
    "nbgrader": {
     "cell_type": "markdown",
     "checksum": "e822904dcdfbc1249bf316a1f40a20ed",
     "grade": false,
     "grade_id": "cell-01701c36dc47369e",
     "locked": true,
     "schema_version": 3,
     "solution": false,
     "task": false
    }
   },
   "source": [
    "You can iterate over dictionaries using a for loop. There are various approaches to do this and they are all equally relevant. The principal option is to iterate over the keys as follows:"
   ]
  },
  {
   "cell_type": "code",
   "execution_count": 61,
   "metadata": {
    "execution": {
     "iopub.execute_input": "2025-09-02T16:07:51.544791Z",
     "iopub.status.busy": "2025-09-02T16:07:51.544575Z",
     "iopub.status.idle": "2025-09-02T16:07:51.547528Z",
     "shell.execute_reply": "2025-09-02T16:07:51.547108Z",
     "shell.execute_reply.started": "2025-09-02T16:07:51.544775Z"
    }
   },
   "outputs": [
    {
     "name": "stdout",
     "output_type": "stream",
     "text": [
      "One is the name for 10.\n",
      "Two is the name for 2.\n",
      "Three is the name for 3.\n",
      "Four is the name for 4.\n"
     ]
    }
   ],
   "source": [
    "for name in numNames:\n",
    "    print(\"%s is the name for %d.\" % (name, numNames[name]))"
   ]
  },
  {
   "cell_type": "markdown",
   "metadata": {},
   "source": [
    "## Problem 2: Strings, Lists, Loops and Dictionaries (2 points)\n",
    "\n",
    "You are given a dictionary `capitals` that maps countries to their capital cities. **Use a `for` loop** to construct a new dictionary `reverse_capitals` whose keys are the capitals and their values are their corresponding country. For example, if `capitals = {\"France\": \"Paris\", \"Germany\": \"Berlin\"}`, then `reverse_capitals` should be `{\"Paris\": \"France\", \"Berlin\", \"Germany\"}`.\n",
    "\n",
    "Again: replace the lines that say `# YOUR CODE HERE` and `raise NotImplementedError()` with your solution. "
   ]
  },
  {
   "cell_type": "code",
   "execution_count": 62,
   "metadata": {
    "deletable": false,
    "execution": {
     "iopub.execute_input": "2025-09-02T16:07:53.040100Z",
     "iopub.status.busy": "2025-09-02T16:07:53.039802Z",
     "iopub.status.idle": "2025-09-02T16:07:53.043062Z",
     "shell.execute_reply": "2025-09-02T16:07:53.042658Z",
     "shell.execute_reply.started": "2025-09-02T16:07:53.040082Z"
    },
    "nbgrader": {
     "cell_type": "code",
     "checksum": "404e5213ef21d89786b59d4fa9279366",
     "grade": false,
     "grade_id": "cell-011c902150590f8c",
     "locked": false,
     "schema_version": 3,
     "solution": true,
     "task": false
    }
   },
   "outputs": [],
   "source": [
    "capitals = {\"France\": \"Paris\",\n",
    "            \"Germany\": \"Berlin\",\n",
    "            \"Italy\": \"Rome\",\n",
    "            \"Spain\": \"Madrid\",\n",
    "            \"Portugal\": \"Lisbon\",\n",
    "            \"Netherlands\": \"Amsterdam\"}\n",
    "\n",
    "reverse_capitals = {}\n",
    "\n",
    "# YOUR CODE HERE\n",
    "for country in capitals:\n",
    "    reverse_capitals[capitals[country]] = country"
   ]
  },
  {
   "cell_type": "code",
   "execution_count": 63,
   "metadata": {
    "deletable": false,
    "editable": false,
    "execution": {
     "iopub.execute_input": "2025-09-02T16:07:54.822878Z",
     "iopub.status.busy": "2025-09-02T16:07:54.822659Z",
     "iopub.status.idle": "2025-09-02T16:07:54.825521Z",
     "shell.execute_reply": "2025-09-02T16:07:54.825114Z",
     "shell.execute_reply.started": "2025-09-02T16:07:54.822863Z"
    },
    "nbgrader": {
     "cell_type": "code",
     "checksum": "a28197114e5f676780daba428c2dd832",
     "grade": false,
     "grade_id": "cell-75cc67d7157280d8",
     "locked": true,
     "schema_version": 3,
     "solution": false,
     "task": false
    }
   },
   "outputs": [
    {
     "name": "stdout",
     "output_type": "stream",
     "text": [
      "Netherlands\n"
     ]
    }
   ],
   "source": [
    "# Test case\n",
    "print(reverse_capitals[\"Amsterdam\"])"
   ]
  },
  {
   "cell_type": "markdown",
   "metadata": {
    "deletable": false,
    "editable": false,
    "nbgrader": {
     "cell_type": "markdown",
     "checksum": "c40ab1a6d92810f433a09f1903479a71",
     "grade": false,
     "grade_id": "cell-f85ee52b104f374c",
     "locked": true,
     "schema_version": 3,
     "solution": false,
     "task": false
    }
   },
   "source": [
    "Expected output:\n",
    "\n",
    "    Netherlands"
   ]
  },
  {
   "cell_type": "code",
   "execution_count": 64,
   "metadata": {
    "deletable": false,
    "editable": false,
    "execution": {
     "iopub.execute_input": "2025-09-02T16:07:56.053776Z",
     "iopub.status.busy": "2025-09-02T16:07:56.053528Z",
     "iopub.status.idle": "2025-09-02T16:07:56.056374Z",
     "shell.execute_reply": "2025-09-02T16:07:56.055960Z",
     "shell.execute_reply.started": "2025-09-02T16:07:56.053756Z"
    },
    "nbgrader": {
     "cell_type": "code",
     "checksum": "80c1a862f75062b076137a9ae26dcbf0",
     "grade": true,
     "grade_id": "cell-62bceb0aaf0b6469",
     "locked": true,
     "points": 2,
     "schema_version": 3,
     "solution": false,
     "task": false
    }
   },
   "outputs": [],
   "source": [
    "### AUTOGRADER\n",
    "assert reverse_capitals[\"Paris\"] == \"France\"\n",
    "assert reverse_capitals[\"Berlin\"] == \"Germany\"\n",
    "assert reverse_capitals[\"Rome\"] == \"Italy\"\n",
    "assert reverse_capitals[\"Amsterdam\"] == \"Netherlands\"\n"
   ]
  },
  {
   "cell_type": "markdown",
   "metadata": {
    "deletable": false,
    "editable": false,
    "nbgrader": {
     "cell_type": "markdown",
     "checksum": "b4a0ad7dde8f8cd8dd273143b349c3f1",
     "grade": false,
     "grade_id": "cell-930a64f34ffcb211",
     "locked": true,
     "schema_version": 3,
     "solution": false,
     "task": false
    }
   },
   "source": [
    "## Booleans and Truth Testing\n",
    "\n",
    "We invariably need some concept of *condition* in programming to control branching behaviour to allow a program to react differently to different situations. If it's Monday, I'll go to work. But if it's Sunday, I'll sleep in. To do this in Python, we use a combination of **boolean** variables, which evaluate to either `True` of `False`, and `if` statements that control branching based on boolean values."
   ]
  },
  {
   "cell_type": "code",
   "execution_count": 65,
   "metadata": {
    "execution": {
     "iopub.execute_input": "2025-09-02T16:08:17.761769Z",
     "iopub.status.busy": "2025-09-02T16:08:17.761468Z",
     "iopub.status.idle": "2025-09-02T16:08:17.764817Z",
     "shell.execute_reply": "2025-09-02T16:08:17.764403Z",
     "shell.execute_reply.started": "2025-09-02T16:08:17.761747Z"
    }
   },
   "outputs": [
    {
     "name": "stdout",
     "output_type": "stream",
     "text": [
      "Sleep in.\n"
     ]
    }
   ],
   "source": [
    "day = \"Sunday\"\n",
    "\n",
    "if day == \"Sunday\":\n",
    "    print(\"Sleep in.\")\n",
    "else:\n",
    "    print(\"Go to work.\")"
   ]
  },
  {
   "cell_type": "markdown",
   "metadata": {
    "deletable": false,
    "editable": false,
    "nbgrader": {
     "cell_type": "markdown",
     "checksum": "42c30aa914bbd58c626f4db58a2a5e0e",
     "grade": false,
     "grade_id": "cell-ed73b301a1c84234",
     "locked": true,
     "schema_version": 3,
     "solution": false,
     "task": false
    }
   },
   "source": [
    "The `==` operator performs *equality testing*. If the two items are equal, it returns `True`, otherwise it returns `False`. Be aware of the difference between a single equality `=` that is used in assigning variables, and a double equality `==` which is used to test whether two variables are equal. \n",
    "\n",
    "The first block of code is followed by an `else` statement, which is executed if nothing else in the above statement is true. Since the value was True, this code was not executed. \n",
    "\n",
    "You can compare any data type in Python:"
   ]
  },
  {
   "cell_type": "code",
   "execution_count": 66,
   "metadata": {
    "execution": {
     "iopub.execute_input": "2025-09-02T16:08:55.386846Z",
     "iopub.status.busy": "2025-09-02T16:08:55.386565Z",
     "iopub.status.idle": "2025-09-02T16:08:55.390075Z",
     "shell.execute_reply": "2025-09-02T16:08:55.389681Z",
     "shell.execute_reply.started": "2025-09-02T16:08:55.386829Z"
    }
   },
   "outputs": [
    {
     "data": {
      "text/plain": [
       "False"
      ]
     },
     "execution_count": 66,
     "metadata": {},
     "output_type": "execute_result"
    }
   ],
   "source": [
    "1 == 2"
   ]
  },
  {
   "cell_type": "code",
   "execution_count": 67,
   "metadata": {
    "execution": {
     "iopub.execute_input": "2025-09-02T16:08:56.886684Z",
     "iopub.status.busy": "2025-09-02T16:08:56.886446Z",
     "iopub.status.idle": "2025-09-02T16:08:56.889672Z",
     "shell.execute_reply": "2025-09-02T16:08:56.889285Z",
     "shell.execute_reply.started": "2025-09-02T16:08:56.886668Z"
    }
   },
   "outputs": [
    {
     "data": {
      "text/plain": [
       "True"
      ]
     },
     "execution_count": 67,
     "metadata": {},
     "output_type": "execute_result"
    }
   ],
   "source": [
    "50 == 2*25"
   ]
  },
  {
   "cell_type": "code",
   "execution_count": 68,
   "metadata": {
    "execution": {
     "iopub.execute_input": "2025-09-02T16:08:58.348483Z",
     "iopub.status.busy": "2025-09-02T16:08:58.348233Z",
     "iopub.status.idle": "2025-09-02T16:08:58.351486Z",
     "shell.execute_reply": "2025-09-02T16:08:58.351094Z",
     "shell.execute_reply.started": "2025-09-02T16:08:58.348467Z"
    }
   },
   "outputs": [
    {
     "data": {
      "text/plain": [
       "True"
      ]
     },
     "execution_count": 68,
     "metadata": {},
     "output_type": "execute_result"
    }
   ],
   "source": [
    "3 < math.pi"
   ]
  },
  {
   "cell_type": "code",
   "execution_count": 69,
   "metadata": {
    "execution": {
     "iopub.execute_input": "2025-09-02T16:09:00.192097Z",
     "iopub.status.busy": "2025-09-02T16:09:00.191698Z",
     "iopub.status.idle": "2025-09-02T16:09:00.194921Z",
     "shell.execute_reply": "2025-09-02T16:09:00.194539Z",
     "shell.execute_reply.started": "2025-09-02T16:09:00.192082Z"
    }
   },
   "outputs": [
    {
     "data": {
      "text/plain": [
       "True"
      ]
     },
     "execution_count": 69,
     "metadata": {},
     "output_type": "execute_result"
    }
   ],
   "source": [
    "1 == 1.0"
   ]
  },
  {
   "cell_type": "code",
   "execution_count": 70,
   "metadata": {
    "execution": {
     "iopub.execute_input": "2025-09-02T16:09:02.036757Z",
     "iopub.status.busy": "2025-09-02T16:09:02.036537Z",
     "iopub.status.idle": "2025-09-02T16:09:02.039715Z",
     "shell.execute_reply": "2025-09-02T16:09:02.039332Z",
     "shell.execute_reply.started": "2025-09-02T16:09:02.036741Z"
    }
   },
   "outputs": [
    {
     "data": {
      "text/plain": [
       "True"
      ]
     },
     "execution_count": 70,
     "metadata": {},
     "output_type": "execute_result"
    }
   ],
   "source": [
    "1 != 0"
   ]
  },
  {
   "cell_type": "code",
   "execution_count": 71,
   "metadata": {
    "execution": {
     "iopub.execute_input": "2025-09-02T16:09:03.617538Z",
     "iopub.status.busy": "2025-09-02T16:09:03.617296Z",
     "iopub.status.idle": "2025-09-02T16:09:03.620537Z",
     "shell.execute_reply": "2025-09-02T16:09:03.620153Z",
     "shell.execute_reply.started": "2025-09-02T16:09:03.617519Z"
    }
   },
   "outputs": [
    {
     "data": {
      "text/plain": [
       "True"
      ]
     },
     "execution_count": 71,
     "metadata": {},
     "output_type": "execute_result"
    }
   ],
   "source": [
    "1 <= 2"
   ]
  },
  {
   "cell_type": "code",
   "execution_count": 72,
   "metadata": {
    "execution": {
     "iopub.execute_input": "2025-09-02T16:09:04.968616Z",
     "iopub.status.busy": "2025-09-02T16:09:04.968406Z",
     "iopub.status.idle": "2025-09-02T16:09:04.971613Z",
     "shell.execute_reply": "2025-09-02T16:09:04.971151Z",
     "shell.execute_reply.started": "2025-09-02T16:09:04.968600Z"
    }
   },
   "outputs": [
    {
     "data": {
      "text/plain": [
       "True"
      ]
     },
     "execution_count": 72,
     "metadata": {},
     "output_type": "execute_result"
    }
   ],
   "source": [
    "1 >= 1"
   ]
  },
  {
   "cell_type": "markdown",
   "metadata": {
    "deletable": false,
    "editable": false,
    "nbgrader": {
     "cell_type": "markdown",
     "checksum": "7e61ab555cffa2417da7ca8ea5e8b8eb",
     "grade": false,
     "grade_id": "cell-c14c831500314b75",
     "locked": true,
     "schema_version": 3,
     "solution": false,
     "task": false
    }
   },
   "source": [
    "Finally, note that you can also string multiple comparisons together, which can result in very intuitive tests:"
   ]
  },
  {
   "cell_type": "code",
   "execution_count": 73,
   "metadata": {
    "execution": {
     "iopub.execute_input": "2025-09-02T16:09:08.640106Z",
     "iopub.status.busy": "2025-09-02T16:09:08.639887Z",
     "iopub.status.idle": "2025-09-02T16:09:08.643174Z",
     "shell.execute_reply": "2025-09-02T16:09:08.642798Z",
     "shell.execute_reply.started": "2025-09-02T16:09:08.640091Z"
    }
   },
   "outputs": [
    {
     "data": {
      "text/plain": [
       "True"
      ]
     },
     "execution_count": 73,
     "metadata": {},
     "output_type": "execute_result"
    }
   ],
   "source": [
    "hours = 5\n",
    "0 < hours < 24"
   ]
  },
  {
   "cell_type": "markdown",
   "metadata": {
    "deletable": false,
    "editable": false,
    "nbgrader": {
     "cell_type": "markdown",
     "checksum": "e658f205f18f0058aff4a8990bf2831f",
     "grade": false,
     "grade_id": "cell-259dedcbd78c9d12",
     "locked": true,
     "schema_version": 3,
     "solution": false,
     "task": false
    }
   },
   "source": [
    "This would be equivalent to"
   ]
  },
  {
   "cell_type": "code",
   "execution_count": 74,
   "metadata": {
    "execution": {
     "iopub.execute_input": "2025-09-02T16:09:17.388342Z",
     "iopub.status.busy": "2025-09-02T16:09:17.388019Z",
     "iopub.status.idle": "2025-09-02T16:09:17.391764Z",
     "shell.execute_reply": "2025-09-02T16:09:17.391364Z",
     "shell.execute_reply.started": "2025-09-02T16:09:17.388321Z"
    }
   },
   "outputs": [
    {
     "data": {
      "text/plain": [
       "True"
      ]
     },
     "execution_count": 74,
     "metadata": {},
     "output_type": "execute_result"
    }
   ],
   "source": [
    "hours = 5\n",
    "(hours > 0) and (hours < 24)"
   ]
  },
  {
   "cell_type": "markdown",
   "metadata": {
    "deletable": false,
    "editable": false,
    "nbgrader": {
     "cell_type": "markdown",
     "checksum": "75a1dca2e28ca39f5b698eeab1bd4aca",
     "grade": false,
     "grade_id": "cell-171f66de98f9e567",
     "locked": true,
     "schema_version": 3,
     "solution": false,
     "task": false
    }
   },
   "source": [
    "If statements can have `elif` parts (\"else if\"), in addition to if/else parts. For example:"
   ]
  },
  {
   "cell_type": "code",
   "execution_count": 75,
   "metadata": {
    "execution": {
     "iopub.execute_input": "2025-09-02T16:09:28.840415Z",
     "iopub.status.busy": "2025-09-02T16:09:28.840091Z",
     "iopub.status.idle": "2025-09-02T16:09:28.844044Z",
     "shell.execute_reply": "2025-09-02T16:09:28.843582Z",
     "shell.execute_reply.started": "2025-09-02T16:09:28.840392Z"
    }
   },
   "outputs": [
    {
     "name": "stdout",
     "output_type": "stream",
     "text": [
      "Do chores.\n"
     ]
    }
   ],
   "source": [
    "day = \"Saturday\"\n",
    "\n",
    "if day == \"Sunday\":\n",
    "    print(\"Sleep in.\")\n",
    "elif day == \"Saturday\":\n",
    "    print(\"Do chores.\")\n",
    "else:\n",
    "    print(\"Go to work.\")"
   ]
  },
  {
   "cell_type": "markdown",
   "metadata": {
    "deletable": false,
    "editable": false,
    "nbgrader": {
     "cell_type": "markdown",
     "checksum": "3cf71a9ba956b1cb716abe4604c8ba41",
     "grade": false,
     "grade_id": "cell-798009fdf6f60054",
     "locked": true,
     "schema_version": 3,
     "solution": false,
     "task": false
    }
   },
   "source": [
    "Of course we can combine if statements with for-loops, to make a snippet that is almost interesting:"
   ]
  },
  {
   "cell_type": "code",
   "execution_count": 76,
   "metadata": {
    "execution": {
     "iopub.execute_input": "2025-09-02T16:09:40.301286Z",
     "iopub.status.busy": "2025-09-02T16:09:40.301009Z",
     "iopub.status.idle": "2025-09-02T16:09:40.304694Z",
     "shell.execute_reply": "2025-09-02T16:09:40.304271Z",
     "shell.execute_reply.started": "2025-09-02T16:09:40.301267Z"
    }
   },
   "outputs": [
    {
     "name": "stdout",
     "output_type": "stream",
     "text": [
      "Today is Monday.\n",
      "   Go to work.\n",
      "Today is Tuesday.\n",
      "   Go to work.\n",
      "Today is Wednesday.\n",
      "   Go to work.\n",
      "Today is Thursday.\n",
      "   Go to work.\n",
      "Today is Friday.\n",
      "   Go to work.\n",
      "Today is Saturday.\n",
      "   Do chores.\n",
      "Today is Sunday.\n",
      "   Sleep in.\n"
     ]
    }
   ],
   "source": [
    "for day in days_of_the_week:\n",
    "    statement = \"Today is \" + day + \".\"\n",
    "    print(statement)\n",
    "    if day == \"Sunday\":\n",
    "        print(\"   Sleep in.\")\n",
    "    elif day == \"Saturday\":\n",
    "        print(\"   Do chores.\")\n",
    "    else:\n",
    "        print(\"   Go to work.\")"
   ]
  },
  {
   "cell_type": "markdown",
   "metadata": {
    "deletable": false,
    "editable": false,
    "nbgrader": {
     "cell_type": "markdown",
     "checksum": "de4ddbca244bb777e8e6d5a060fd89d5",
     "grade": false,
     "grade_id": "cell-f787ecf708cff23c",
     "locked": true,
     "schema_version": 3,
     "solution": false,
     "task": false
    }
   },
   "source": [
    "# 4. Functions\n",
    "\n",
    "Similar to variables, Python allows for user-defined functions that can be easily reused. In this course we will rely heavily on user-defined functions. \n",
    "\n",
    "User-defined functions are declared using the `def` keyword. The core of the function is coded inside the indented part of the function. The output of a function is declared by the `return` statement."
   ]
  },
  {
   "cell_type": "code",
   "execution_count": 77,
   "metadata": {
    "execution": {
     "iopub.execute_input": "2025-09-02T16:10:00.001060Z",
     "iopub.status.busy": "2025-09-02T16:10:00.000805Z",
     "iopub.status.idle": "2025-09-02T16:10:00.003890Z",
     "shell.execute_reply": "2025-09-02T16:10:00.003477Z",
     "shell.execute_reply.started": "2025-09-02T16:10:00.001043Z"
    }
   },
   "outputs": [],
   "source": [
    "def proportion(a, b):\n",
    "    \"\"\"\n",
    "    We can use triple quotation marks \" to describe what our function does.\n",
    "    Here for example: Calculates the proportion of a w.r.t. a+b.\n",
    "    \"\"\"\n",
    "    p = a / (a + b)\n",
    "    return p\n",
    "\n",
    "# In R this code would have looked something like this\n",
    "#\n",
    "# proportion <- function(a,b) {\n",
    "#     p <- a / (a + b)\n",
    "#     return(p)\n",
    "# }"
   ]
  },
  {
   "cell_type": "markdown",
   "metadata": {
    "deletable": false,
    "editable": false,
    "nbgrader": {
     "cell_type": "markdown",
     "checksum": "7ed7392578272526dc47abfc853d5c53",
     "grade": false,
     "grade_id": "cell-39472a59f4d436c3",
     "locked": true,
     "schema_version": 3,
     "solution": false,
     "task": false
    }
   },
   "source": [
    "We can call our function by passing it input values:"
   ]
  },
  {
   "cell_type": "code",
   "execution_count": 78,
   "metadata": {
    "execution": {
     "iopub.execute_input": "2025-09-02T16:10:02.272971Z",
     "iopub.status.busy": "2025-09-02T16:10:02.272673Z",
     "iopub.status.idle": "2025-09-02T16:10:02.276396Z",
     "shell.execute_reply": "2025-09-02T16:10:02.275977Z",
     "shell.execute_reply.started": "2025-09-02T16:10:02.272950Z"
    }
   },
   "outputs": [
    {
     "data": {
      "text/plain": [
       "0.4878048780487805"
      ]
     },
     "execution_count": 78,
     "metadata": {},
     "output_type": "execute_result"
    }
   ],
   "source": [
    "proportion(20, 21)"
   ]
  },
  {
   "cell_type": "code",
   "execution_count": 79,
   "metadata": {
    "execution": {
     "iopub.execute_input": "2025-09-02T16:10:16.728869Z",
     "iopub.status.busy": "2025-09-02T16:10:16.728590Z",
     "iopub.status.idle": "2025-09-02T16:10:16.732318Z",
     "shell.execute_reply": "2025-09-02T16:10:16.731887Z",
     "shell.execute_reply.started": "2025-09-02T16:10:16.728851Z"
    }
   },
   "outputs": [
    {
     "data": {
      "text/plain": [
       "0.75"
      ]
     },
     "execution_count": 79,
     "metadata": {},
     "output_type": "execute_result"
    }
   ],
   "source": [
    "proportion(3, 1)"
   ]
  },
  {
   "cell_type": "markdown",
   "metadata": {
    "deletable": false,
    "editable": false,
    "nbgrader": {
     "cell_type": "markdown",
     "checksum": "f28648fc06e255a4e3942a3ae3e0c21e",
     "grade": false,
     "grade_id": "cell-5bb5db8181eeed70",
     "locked": true,
     "schema_version": 3,
     "solution": false,
     "task": false
    }
   },
   "source": [
    "We can read our description of the function by typing"
   ]
  },
  {
   "cell_type": "code",
   "execution_count": 80,
   "metadata": {
    "execution": {
     "iopub.execute_input": "2025-09-02T16:10:27.746418Z",
     "iopub.status.busy": "2025-09-02T16:10:27.746109Z",
     "iopub.status.idle": "2025-09-02T16:10:27.750234Z",
     "shell.execute_reply": "2025-09-02T16:10:27.749716Z",
     "shell.execute_reply.started": "2025-09-02T16:10:27.746396Z"
    }
   },
   "outputs": [
    {
     "data": {
      "text/plain": [
       "\u001b[0;31mSignature:\u001b[0m \u001b[0mproportion\u001b[0m\u001b[0;34m(\u001b[0m\u001b[0ma\u001b[0m\u001b[0;34m,\u001b[0m \u001b[0mb\u001b[0m\u001b[0;34m)\u001b[0m\u001b[0;34m\u001b[0m\u001b[0;34m\u001b[0m\u001b[0m\n",
       "\u001b[0;31mDocstring:\u001b[0m\n",
       "We can use triple quotation marks \" to describe what our function does.\n",
       "Here for example: Calculates the proportion of a w.r.t. a+b.\n",
       "\u001b[0;31mFile:\u001b[0m      /tmp/ipykernel_3299342/3241175346.py\n",
       "\u001b[0;31mType:\u001b[0m      function"
      ]
     },
     "metadata": {},
     "output_type": "display_data"
    }
   ],
   "source": [
    "proportion?"
   ]
  },
  {
   "cell_type": "markdown",
   "metadata": {
    "deletable": false,
    "editable": false,
    "nbgrader": {
     "cell_type": "markdown",
     "checksum": "db575da9f0527b9dc97477b41c7022aa",
     "grade": false,
     "grade_id": "cell-a96c382030121147",
     "locked": true,
     "schema_version": 3,
     "solution": false,
     "task": false
    }
   },
   "source": [
    "A function can also have multiple output arguments. They are returned as a tuple."
   ]
  },
  {
   "cell_type": "code",
   "execution_count": 81,
   "metadata": {
    "execution": {
     "iopub.execute_input": "2025-09-02T16:11:05.913963Z",
     "iopub.status.busy": "2025-09-02T16:11:05.913683Z",
     "iopub.status.idle": "2025-09-02T16:11:05.917252Z",
     "shell.execute_reply": "2025-09-02T16:11:05.916813Z",
     "shell.execute_reply.started": "2025-09-02T16:11:05.913944Z"
    }
   },
   "outputs": [
    {
     "name": "stdout",
     "output_type": "stream",
     "text": [
      "3 -1\n"
     ]
    }
   ],
   "source": [
    "def plusminus(a, b):\n",
    "    \"\"\"This is the docstring of the function plusminus.\"\"\"\n",
    "    return a+b, a-b\n",
    "\n",
    "c, d = plusminus(1, 2)\n",
    "print(c, d)"
   ]
  },
  {
   "cell_type": "markdown",
   "metadata": {
    "deletable": false,
    "editable": false,
    "nbgrader": {
     "cell_type": "markdown",
     "checksum": "c4c90de40ccef5d76e5c4f845b421017",
     "grade": false,
     "grade_id": "cell-5dedc4af6a391338",
     "locked": true,
     "schema_version": 3,
     "solution": false,
     "task": false
    }
   },
   "source": [
    "A function can have multiple `return` statements. As soon as a `return` statement is encountered for the first time, the function is terminated. If no `return` statement is encountered, the function output is `None`.\n",
    "\n",
    "**IMPORTANT**: unlike $\\mathsf{R}$ where an explicit `return` statement is not necessary, a Python function will not return anything unless you specifically mention what it needs to return. "
   ]
  },
  {
   "cell_type": "code",
   "execution_count": 82,
   "metadata": {
    "execution": {
     "iopub.execute_input": "2025-09-02T16:11:45.017174Z",
     "iopub.status.busy": "2025-09-02T16:11:45.016897Z",
     "iopub.status.idle": "2025-09-02T16:11:45.020677Z",
     "shell.execute_reply": "2025-09-02T16:11:45.020242Z",
     "shell.execute_reply.started": "2025-09-02T16:11:45.017154Z"
    }
   },
   "outputs": [
    {
     "name": "stdout",
     "output_type": "stream",
     "text": [
      "Negative\n",
      "None\n"
     ]
    }
   ],
   "source": [
    "def signtest(a):\n",
    "    if a > 0:\n",
    "        return 'Positive'\n",
    "    if a < 0:\n",
    "        return 'Negative'\n",
    "    \n",
    "print(signtest(-1.2))\n",
    "\n",
    "print(signtest(0)) # Function output is None, since no return statement is encountered."
   ]
  },
  {
   "cell_type": "markdown",
   "metadata": {
    "deletable": false,
    "editable": false,
    "nbgrader": {
     "cell_type": "markdown",
     "checksum": "b9828093f064ec9af4bf80d273a9de1f",
     "grade": false,
     "grade_id": "cell-1e864db16759b775",
     "locked": true,
     "schema_version": 3,
     "solution": false,
     "task": false
    }
   },
   "source": [
    "Instead of positional arguments, we can also pass keyword arguments (using the `=` sign). For keyword arguments, the order does not matter. But positional arguments always need to precede keyword argument. "
   ]
  },
  {
   "cell_type": "code",
   "execution_count": 83,
   "metadata": {
    "execution": {
     "iopub.execute_input": "2025-09-02T16:12:00.027457Z",
     "iopub.status.busy": "2025-09-02T16:12:00.027177Z",
     "iopub.status.idle": "2025-09-02T16:12:00.031005Z",
     "shell.execute_reply": "2025-09-02T16:12:00.030603Z",
     "shell.execute_reply.started": "2025-09-02T16:12:00.027438Z"
    }
   },
   "outputs": [
    {
     "data": {
      "text/plain": [
       "0.6"
      ]
     },
     "execution_count": 83,
     "metadata": {},
     "output_type": "execute_result"
    }
   ],
   "source": [
    "proportion(b=2, a=3) # For keyword arguments the order does not matter."
   ]
  },
  {
   "cell_type": "markdown",
   "metadata": {
    "deletable": false,
    "editable": false,
    "nbgrader": {
     "cell_type": "markdown",
     "checksum": "87481cb10abab7a9a099e979f6e04ea0",
     "grade": false,
     "grade_id": "cell-767a8c60a9e5b88b",
     "locked": true,
     "schema_version": 3,
     "solution": false,
     "task": false
    }
   },
   "source": [
    "It often happens that keyword arguments are used in the definition of a function. In that case they are used to specify default values for an argument."
   ]
  },
  {
   "cell_type": "code",
   "execution_count": 84,
   "metadata": {
    "execution": {
     "iopub.execute_input": "2025-09-02T16:12:20.560995Z",
     "iopub.status.busy": "2025-09-02T16:12:20.560737Z",
     "iopub.status.idle": "2025-09-02T16:12:20.564535Z",
     "shell.execute_reply": "2025-09-02T16:12:20.564077Z",
     "shell.execute_reply.started": "2025-09-02T16:12:20.560978Z"
    }
   },
   "outputs": [
    {
     "name": "stdout",
     "output_type": "stream",
     "text": [
      "9\n",
      "9\n",
      "9\n",
      "9\n"
     ]
    }
   ],
   "source": [
    "def mypower(x, y=2):  # Positional (non-keyword) arguments always precede keyword arguments.\n",
    "    return x**y \n",
    "\n",
    "print(mypower(3))\n",
    "print(mypower(3, 2))\n",
    "print(mypower(3, y=2))\n",
    "print(mypower(y=2, x=3))"
   ]
  },
  {
   "cell_type": "markdown",
   "metadata": {
    "deletable": false,
    "editable": false,
    "nbgrader": {
     "cell_type": "markdown",
     "checksum": "f03b0c0848e20b5686da639f35f1cae9",
     "grade": false,
     "grade_id": "cell-b42f0a59605d2813",
     "locked": true,
     "schema_version": 3,
     "solution": false,
     "task": false
    }
   },
   "source": [
    "As a last example we will create a function to calculate the sum of the first $n$ integers\n",
    "$$\\sum_{k=1}^{n} k$$"
   ]
  },
  {
   "cell_type": "code",
   "execution_count": 85,
   "metadata": {
    "execution": {
     "iopub.execute_input": "2025-09-02T16:12:39.960727Z",
     "iopub.status.busy": "2025-09-02T16:12:39.960466Z",
     "iopub.status.idle": "2025-09-02T16:12:39.964074Z",
     "shell.execute_reply": "2025-09-02T16:12:39.963646Z",
     "shell.execute_reply.started": "2025-09-02T16:12:39.960708Z"
    }
   },
   "outputs": [
    {
     "name": "stdout",
     "output_type": "stream",
     "text": [
      "45\n"
     ]
    }
   ],
   "source": [
    "def arithmetic_series(n):\n",
    "    total = 0\n",
    "    for k in range(1, n+1):\n",
    "        total = total + k\n",
    "    return(total)\n",
    "\n",
    "print(arithmetic_series(9))"
   ]
  },
  {
   "cell_type": "markdown",
   "metadata": {
    "deletable": false,
    "editable": false,
    "nbgrader": {
     "cell_type": "markdown",
     "checksum": "59e77c65034e1564212a7ffe94be10ad",
     "grade": false,
     "grade_id": "cell-001e73bcab617f43",
     "locked": true,
     "schema_version": 3,
     "solution": false,
     "task": false
    }
   },
   "source": [
    "Note that we are using `range(1, n+1)` to get a list of numbers from $1$ (inclusive) to $n+1$ (exclusive). \n",
    "\n",
    "\n",
    "From other courses, we recognize this is the arithmetic series that satisfies the simple closed form expression\n",
    "$$\\sum_{k=1}^{n} k = \\frac{n(n+1)}{2}.$$\n",
    "Let us verify this for some fixed value."
   ]
  },
  {
   "cell_type": "code",
   "execution_count": 86,
   "metadata": {
    "execution": {
     "iopub.execute_input": "2025-09-02T16:14:26.928912Z",
     "iopub.status.busy": "2025-09-02T16:14:26.928646Z",
     "iopub.status.idle": "2025-09-02T16:14:26.932520Z",
     "shell.execute_reply": "2025-09-02T16:14:26.932108Z",
     "shell.execute_reply.started": "2025-09-02T16:14:26.928893Z"
    }
   },
   "outputs": [
    {
     "data": {
      "text/plain": [
       "True"
      ]
     },
     "execution_count": 86,
     "metadata": {},
     "output_type": "execute_result"
    }
   ],
   "source": [
    "n = 9\n",
    "expected_sum = n * (n+1) / 2\n",
    "total = arithmetic_series(n)\n",
    "total == expected_sum"
   ]
  },
  {
   "cell_type": "markdown",
   "metadata": {
    "deletable": false,
    "editable": false,
    "nbgrader": {
     "cell_type": "markdown",
     "checksum": "84b38ae1f5e690c4649207d0c26b0ddc",
     "grade": false,
     "grade_id": "cell-dd75bdef12f9014a",
     "locked": true,
     "schema_version": 3,
     "solution": false,
     "task": false
    }
   },
   "source": [
    "There is a final shortcut in the form of the `sum` function. We combine this with a nice way to create lists by means of *list comprehensions*:"
   ]
  },
  {
   "cell_type": "code",
   "execution_count": 87,
   "metadata": {
    "execution": {
     "iopub.execute_input": "2025-09-02T16:14:49.719483Z",
     "iopub.status.busy": "2025-09-02T16:14:49.719205Z",
     "iopub.status.idle": "2025-09-02T16:14:49.722766Z",
     "shell.execute_reply": "2025-09-02T16:14:49.722322Z",
     "shell.execute_reply.started": "2025-09-02T16:14:49.719464Z"
    }
   },
   "outputs": [
    {
     "name": "stdout",
     "output_type": "stream",
     "text": [
      "[1, 2, 3, 4, 5, 6, 7, 8, 9]\n",
      "45\n"
     ]
    }
   ],
   "source": [
    "n = 9\n",
    "first_n_integers = [k for k in range(1, n+1)]\n",
    "print(first_n_integers)\n",
    "print(sum(first_n_integers))"
   ]
  },
  {
   "cell_type": "markdown",
   "metadata": {
    "deletable": false,
    "editable": false,
    "nbgrader": {
     "cell_type": "markdown",
     "checksum": "d121d40f4f5072b16e51f16a9c44c976",
     "grade": false,
     "grade_id": "cell-01e4fbee7c763cfe",
     "locked": true,
     "schema_version": 3,
     "solution": false,
     "task": false
    }
   },
   "source": [
    "## Problem 3: Even-Odd Splitter (2 points)\n",
    "\n",
    "Implement the function `split_even_odd` below that takes a list of integers and returns a tuple containing two lists:\n",
    "\n",
    "- The first list contains all even numberse from the input.\n",
    "- The second list contains all odd numbers from the input.\n",
    "\n",
    "For example `split_even_odd([1, 2, 3, 4, 5])` should return `([2, 4], [1, 3, 5])`. Make sure the order of the numbers in the input list is preserved in the output.\n",
    "\n",
    "You can check your function with the code in the cell below. Feel free to also include your own test cases in case you need to debug your solution. Again: **ONLY** replace the lines that say `# YOUR CODE HERE` and `raise NotImplementedError()` with your solution. \n",
    "\n",
    "**Hint:** You can use the modulo operator `%` to find the remainder after integer division. For example $17~ \\% ~5 = 2$ since $17 = 3*5 + 2$."
   ]
  },
  {
   "cell_type": "code",
   "execution_count": 94,
   "metadata": {
    "deletable": false,
    "execution": {
     "iopub.execute_input": "2025-09-02T16:19:54.386840Z",
     "iopub.status.busy": "2025-09-02T16:19:54.386549Z",
     "iopub.status.idle": "2025-09-02T16:19:54.390324Z",
     "shell.execute_reply": "2025-09-02T16:19:54.389909Z",
     "shell.execute_reply.started": "2025-09-02T16:19:54.386819Z"
    },
    "nbgrader": {
     "cell_type": "code",
     "checksum": "0c39d9e4fbb2173e019b95d5e59d1dbe",
     "grade": false,
     "grade_id": "cell-6282f920b310fc3b",
     "locked": false,
     "schema_version": 3,
     "solution": true,
     "task": false
    }
   },
   "outputs": [],
   "source": [
    "def split_even_odd(numbers):\n",
    "    \"\"\"\n",
    "    Splits a list of integers into two lists: \n",
    "        - one containing the even numbers\n",
    "        - one containing the odd numbers\n",
    "    \n",
    "    Parameters\n",
    "    ----------\n",
    "        numbers (list): List of integers\n",
    "        \n",
    "    Returns\n",
    "    -------\n",
    "        (tuple of (list, list)): A tuple (evens, odds) where evens contains all even numbers\n",
    "        and odds contains all odd numbers, in the same order as input.\n",
    "        \n",
    "    \"\"\"\n",
    "    \n",
    "    # YOUR CODE HERE\n",
    "    evens =  []\n",
    "    odds = []\n",
    "    for num in numbers:\n",
    "        if num == 0:\n",
    "            print(\"The list contains 0 :(\")\n",
    "        elif num % 2 == 0:\n",
    "            evens.append(num)\n",
    "        else:\n",
    "            odds.append(num)\n",
    "\n",
    "    return(evens, odds)"
   ]
  },
  {
   "cell_type": "code",
   "execution_count": 95,
   "metadata": {
    "execution": {
     "iopub.execute_input": "2025-09-02T16:19:55.782874Z",
     "iopub.status.busy": "2025-09-02T16:19:55.782655Z",
     "iopub.status.idle": "2025-09-02T16:19:55.785864Z",
     "shell.execute_reply": "2025-09-02T16:19:55.785477Z",
     "shell.execute_reply.started": "2025-09-02T16:19:55.782857Z"
    }
   },
   "outputs": [
    {
     "data": {
      "text/plain": [
       "1"
      ]
     },
     "execution_count": 95,
     "metadata": {},
     "output_type": "execute_result"
    }
   ],
   "source": [
    "# You can use this code cell to play around with your function to make sure\n",
    "# it does what it is intended to do, i.e. to debug your code. \n",
    "3 %2"
   ]
  },
  {
   "cell_type": "code",
   "execution_count": 96,
   "metadata": {
    "deletable": false,
    "editable": false,
    "execution": {
     "iopub.execute_input": "2025-09-02T16:19:57.686049Z",
     "iopub.status.busy": "2025-09-02T16:19:57.685809Z",
     "iopub.status.idle": "2025-09-02T16:19:57.688890Z",
     "shell.execute_reply": "2025-09-02T16:19:57.688486Z",
     "shell.execute_reply.started": "2025-09-02T16:19:57.686030Z"
    },
    "nbgrader": {
     "cell_type": "code",
     "checksum": "6fd6a25cd4d6845ef000cb1e10a8ffff",
     "grade": false,
     "grade_id": "cell-156155859e08528d",
     "locked": true,
     "schema_version": 3,
     "solution": false,
     "task": false
    }
   },
   "outputs": [
    {
     "name": "stdout",
     "output_type": "stream",
     "text": [
      "([2, 4], [1, 3, 5])\n",
      "([], [7])\n"
     ]
    }
   ],
   "source": [
    "# Test cases\n",
    "print(split_even_odd([1, 2, 3, 4, 5]))\n",
    "print(split_even_odd([7]))"
   ]
  },
  {
   "cell_type": "markdown",
   "metadata": {
    "deletable": false,
    "editable": false,
    "nbgrader": {
     "cell_type": "markdown",
     "checksum": "a5c70cfd3d2324334f0018732de5e111",
     "grade": false,
     "grade_id": "cell-775364ec2972adac",
     "locked": true,
     "schema_version": 3,
     "solution": false,
     "task": false
    }
   },
   "source": [
    "Expected output:\n",
    "    \n",
    "    ([2, 4], [1, 3, 5])\n",
    "    ([], [7])"
   ]
  },
  {
   "cell_type": "code",
   "execution_count": 98,
   "metadata": {
    "deletable": false,
    "editable": false,
    "execution": {
     "iopub.execute_input": "2025-09-02T16:20:44.344395Z",
     "iopub.status.busy": "2025-09-02T16:20:44.344085Z",
     "iopub.status.idle": "2025-09-02T16:20:44.347951Z",
     "shell.execute_reply": "2025-09-02T16:20:44.347446Z",
     "shell.execute_reply.started": "2025-09-02T16:20:44.344374Z"
    },
    "nbgrader": {
     "cell_type": "code",
     "checksum": "e4028a818a8fc6fe8f9cf7f9153a3441",
     "grade": true,
     "grade_id": "cell-c2424895b55d70d3",
     "locked": true,
     "points": 2,
     "schema_version": 3,
     "solution": false,
     "task": false
    }
   },
   "outputs": [],
   "source": [
    "# AUTOGRADING\n",
    "evens, odds = split_even_odd([1, 2, 3, 4, 5])\n",
    "assert evens == [2, 4]\n",
    "assert odds == [1, 3, 5]\n",
    "\n",
    "evens, odds = split_even_odd([10, 11, 12, 13])\n",
    "assert evens == [10, 12]\n",
    "assert odds == [11, 13]\n",
    "\n",
    "evens, odds = split_even_odd([])\n",
    "assert evens == []\n",
    "assert odds == []\n"
   ]
  },
  {
   "cell_type": "markdown",
   "metadata": {
    "deletable": false,
    "editable": false,
    "nbgrader": {
     "cell_type": "markdown",
     "checksum": "6eaf657c80078612d9e814b9f69f9e99",
     "grade": false,
     "grade_id": "cell-1c03a8b369d00de3",
     "locked": true,
     "schema_version": 3,
     "solution": false,
     "task": false
    }
   },
   "source": [
    "## Problem 4: Tribonacci Numbers (2 points)\n",
    "\n",
    "You might have heard of the Fibonacci sequence, which is a sequence that starts with 0 and 1, and then each successive entry is the sum of the previous two. Thus, the sequence goes \n",
    "$$0, 1, 1, 2, 3, 5, 8, 13, 21, 34, 55, 89,...$$\n",
    "\n",
    "Lesser known is the tribonacci sequence, which is a sequence that starts with 0, 0 and 1, and then each successive entry is the sum of the previous three. Thus the sequence goes\n",
    "$$0, 0, 1, 1, 2, 4, 7, 13, 24, 44, 81, 149, 274, ...$$\n",
    "\n",
    "Write a function called `tribonacci` that returns a **list** of the first $n$ tribonacci numbers. Again: replace the lines that say `# YOUR CODE HERE` and `raise NotImplementedError()` with your solution. "
   ]
  },
  {
   "cell_type": "code",
   "execution_count": 138,
   "metadata": {
    "deletable": false,
    "execution": {
     "iopub.execute_input": "2025-09-02T16:43:00.567515Z",
     "iopub.status.busy": "2025-09-02T16:43:00.567234Z",
     "iopub.status.idle": "2025-09-02T16:43:00.571179Z",
     "shell.execute_reply": "2025-09-02T16:43:00.570674Z",
     "shell.execute_reply.started": "2025-09-02T16:43:00.567497Z"
    },
    "nbgrader": {
     "cell_type": "code",
     "checksum": "feea115a6fce83a55d746d488f96f3c1",
     "grade": false,
     "grade_id": "cell-0fc30fefc335dfc6",
     "locked": false,
     "schema_version": 3,
     "solution": true,
     "task": false
    }
   },
   "outputs": [],
   "source": [
    "def tribonacci(n):\n",
    "    \"\"\"\n",
    "    Returns a list containing the first n tribonacci numbers. \n",
    "    \n",
    "    Parameters\n",
    "    ----------\n",
    "        n (int): number of tribonacci numbers to be returned \n",
    "        \n",
    "    Returns\n",
    "    -------\n",
    "        (list): list containing the first n tribonacci numbers\n",
    "    \n",
    "    \"\"\"\n",
    "    \n",
    "    # YOUR CODE HERE\n",
    "    seq = [0,0,1]\n",
    "    if n == 1:\n",
    "        return [seq[n-1]]\n",
    "    elif n == 2:\n",
    "        return [seq[n-2], seq[n-1]]\n",
    "    else:\n",
    "        for i in range(n-3):\n",
    "            last_three = seq[-3:]\n",
    "            seq.append(sum(last_three))\n",
    "        return(seq)"
   ]
  },
  {
   "cell_type": "code",
   "execution_count": 140,
   "metadata": {
    "execution": {
     "iopub.execute_input": "2025-09-02T16:43:11.196101Z",
     "iopub.status.busy": "2025-09-02T16:43:11.195859Z",
     "iopub.status.idle": "2025-09-02T16:43:11.199731Z",
     "shell.execute_reply": "2025-09-02T16:43:11.199332Z",
     "shell.execute_reply.started": "2025-09-02T16:43:11.196084Z"
    }
   },
   "outputs": [
    {
     "data": {
      "text/plain": [
       "[3, 4, 5, 6]"
      ]
     },
     "execution_count": 140,
     "metadata": {},
     "output_type": "execute_result"
    }
   ],
   "source": [
    "# You can use this code cell to play around with your function to make sure\n",
    "# it does what it is intended to do, i.e. to debug your code. \n",
    "seq = [1,2,3,4,5,6]\n",
    "seq[-4:]"
   ]
  },
  {
   "cell_type": "code",
   "execution_count": 142,
   "metadata": {
    "deletable": false,
    "editable": false,
    "execution": {
     "iopub.execute_input": "2025-09-02T16:43:46.107175Z",
     "iopub.status.busy": "2025-09-02T16:43:46.106872Z",
     "iopub.status.idle": "2025-09-02T16:43:46.110324Z",
     "shell.execute_reply": "2025-09-02T16:43:46.109801Z",
     "shell.execute_reply.started": "2025-09-02T16:43:46.107155Z"
    },
    "nbgrader": {
     "cell_type": "code",
     "checksum": "6c07f4d2046efcb9be5ee008cd5203ea",
     "grade": false,
     "grade_id": "cell-d0eabc0adc7a92f7",
     "locked": true,
     "schema_version": 3,
     "solution": false,
     "task": false
    }
   },
   "outputs": [
    {
     "name": "stdout",
     "output_type": "stream",
     "text": [
      "[0]\n",
      "[0, 0]\n",
      "[0, 0, 1, 1, 2, 4, 7, 13, 24, 44, 81, 149]\n"
     ]
    }
   ],
   "source": [
    "# Test cases\n",
    "print(tribonacci(1))\n",
    "print(tribonacci(2))\n",
    "print(tribonacci(12))"
   ]
  },
  {
   "cell_type": "markdown",
   "metadata": {
    "deletable": false,
    "editable": false,
    "nbgrader": {
     "cell_type": "markdown",
     "checksum": "ec4ed812f9f59908c8eef9fa96f2589a",
     "grade": false,
     "grade_id": "cell-e8a129e9635bb114",
     "locked": true,
     "schema_version": 3,
     "solution": false,
     "task": false
    }
   },
   "source": [
    "Expected output: \n",
    "\n",
    "    [0]\n",
    "    [0, 0]\n",
    "    [0, 0, 1, 1, 2, 4, 7, 13, 24, 44, 81, 149]"
   ]
  },
  {
   "cell_type": "code",
   "execution_count": 143,
   "metadata": {
    "deletable": false,
    "editable": false,
    "execution": {
     "iopub.execute_input": "2025-09-02T16:43:55.827486Z",
     "iopub.status.busy": "2025-09-02T16:43:55.827223Z",
     "iopub.status.idle": "2025-09-02T16:43:55.830322Z",
     "shell.execute_reply": "2025-09-02T16:43:55.829819Z",
     "shell.execute_reply.started": "2025-09-02T16:43:55.827469Z"
    },
    "nbgrader": {
     "cell_type": "code",
     "checksum": "d7bae8a8f5029e28c0620afbd5a72a55",
     "grade": true,
     "grade_id": "cell-a7222fbf384e5c62",
     "locked": true,
     "points": 2,
     "schema_version": 3,
     "solution": false,
     "task": false
    }
   },
   "outputs": [],
   "source": [
    "# AUTOGRADING\n",
    "assert tribonacci(12) == [0, 0, 1, 1, 2, 4, 7, 13, 24, 44, 81, 149]\n",
    "assert tribonacci(1) == [0]\n"
   ]
  },
  {
   "cell_type": "markdown",
   "metadata": {
    "deletable": false,
    "editable": false,
    "nbgrader": {
     "cell_type": "markdown",
     "checksum": "9b141d92bae5b2895bcaf9fcad98ddf8",
     "grade": false,
     "grade_id": "cell-5a70357aab3731e7",
     "locked": true,
     "schema_version": 3,
     "solution": false,
     "task": false
    }
   },
   "source": [
    "## Problem 5: Plagiarism Detection (3 points)\n",
    "\n",
    "In this exercise we want to compute a metric that measures the distance between two text documents. This allows us to find out whether two documents are similar. This is important for instance if you are Google, that tries to find how well a website matches to your search query. Or how Youtube and Netflix offer you relevant recommendations for the best next video or show to watch based on your past activity. This distance will also allow us to detect duplicates (like Wikipedia mirrors) and cases of plagiarism (you are warned). \n",
    "\n",
    "The idea is to define distance in terms of shared words. We will think of a document D as a dictionary such that D[W] = # occurrences of word W. In other terms, we only keep track of how often each word occurs in the document. For example the documents \n",
    "\n",
    "    \"The dog ate the homework.\"\n",
    "and \n",
    "\n",
    "    \"The cat ate the homework.\"\n",
    "will be thought of as two dictionaries\n",
    "    \n",
    "    {\"the\": 2, \"dog\": 1, \"ate\": 1, \"homework\": 1}\n",
    "    {\"the\": 2, \"cat\": 1, \"ate\": 1, \"homework\": 1}\n",
    "\n",
    "Note that we make no distinction between upper and lower case words. To make the two documents comparable, we want to ensure that both dictionaries have the same keys, so\n",
    "\n",
    "    d1 = {\"the\": 2, \"dog\": 1, \"ate\": 1, \"homework\": 1, \"cat\": 0}\n",
    "    d2 = {\"the\": 2, \"dog\": 0, \"ate\": 1, \"homework\": 1, \"cat\": 1}\n",
    "\n",
    "An appropriate distance measure between two documents we will use is the angle between these documents. In this week's lecture we have learned that we can compute the angle between two vectors $\\vec{x}$ and $\\vec{y}$ as\n",
    "$$\\angle(\\vec{x}, \\vec{y}) = \\cos^{-1}\\left(\\frac{\\langle \\vec{x}, \\vec{y}\\rangle}{\\|\\vec{x}\\| \\|\\vec{y}\\|}\\right).$$\n",
    "If we extract only the word frequencies of the two documents as lists, we can compute their angle:\n",
    "\n",
    "    x = [2, 1, 1, 1, 0]\n",
    "    y = [2, 0, 1, 1, 1]\n",
    "    angle = arccos(6/7)\n",
    "    \n",
    "If the angle is zero radians, this means the two documents are identical (in terms of word counts), whereas an angle of $\\frac{\\pi}{2}$ radians means there are no common words. \n",
    "\n",
    "Implement the following three functions below: `word_list` that converts a string into a list containing each word (lowercase) separely, the function `word_frequencies` that converts a string of words into a dictionary of word-count pairs, and the function `dictionary_angle` that computes the angle between the count-values of two dictionaries. The exact instructions are described in their docstrings. \n",
    "\n",
    "You may assume that the only types of punctuation that occur in the two documents are: `.,!?:;`. We also assume each document ends with a period. It could we useful to have a look back at the section on strings [here](#string_cell). "
   ]
  },
  {
   "cell_type": "code",
   "execution_count": 2,
   "metadata": {
    "deletable": false,
    "execution": {
     "iopub.execute_input": "2025-09-02T18:22:26.419389Z",
     "iopub.status.busy": "2025-09-02T18:22:26.419068Z",
     "iopub.status.idle": "2025-09-02T18:22:26.423317Z",
     "shell.execute_reply": "2025-09-02T18:22:26.422682Z",
     "shell.execute_reply.started": "2025-09-02T18:22:26.419371Z"
    },
    "nbgrader": {
     "cell_type": "code",
     "checksum": "c77f4d9fe044d208f603e4598c0094a6",
     "grade": false,
     "grade_id": "cell-2c6bcac7d2d669b1",
     "locked": false,
     "schema_version": 3,
     "solution": true,
     "task": false
    }
   },
   "outputs": [],
   "source": [
    "def word_list(document):\n",
    "    \"\"\"\n",
    "    Returns a list of lowercase words from a string, in the order\n",
    "    in which they appear in the document. \n",
    "    That is: \n",
    "        1. remove the punctuation symbols, \n",
    "        2. turn every word into lowercase words \n",
    "        3. split the resulting string into a list of individual words. \n",
    "    \n",
    "    Parameters\n",
    "    ----------\n",
    "        document (str): The string that is converted into a list.\n",
    "        \n",
    "        \n",
    "    Returns\n",
    "    -------\n",
    "        document_list (list): The list containing the lowercase words in document.\n",
    "        \n",
    "    Example\n",
    "    -------\n",
    "        document = \"The dog ate the homework.\"\n",
    "        word_list(document)\n",
    "            [\"the\", \"dog\", \"ate\", \"the\", \"homework\"]\n",
    "            \n",
    "    \"\"\"\n",
    "    remove_characters = \".,!?:;\"\n",
    "    \n",
    "    # YOUR CODE HERE\n",
    "    for char in remove_characters:\n",
    "        document = document.replace(char, \"\")\n",
    "\n",
    "    document = document.lower()\n",
    "    document_list = document.split(\" \")\n",
    "    \n",
    "    return(document_list)"
   ]
  },
  {
   "cell_type": "code",
   "execution_count": null,
   "metadata": {
    "execution": {
     "iopub.status.busy": "2025-09-02T16:07:23.393762Z",
     "iopub.status.idle": "2025-09-02T16:07:23.393929Z",
     "shell.execute_reply": "2025-09-02T16:07:23.393850Z",
     "shell.execute_reply.started": "2025-09-02T16:07:23.393841Z"
    }
   },
   "outputs": [],
   "source": [
    "# You can use this code cell to play around with your function to make sure\n",
    "# it does what it is intended to do, i.e. to debug your code. \n"
   ]
  },
  {
   "cell_type": "code",
   "execution_count": 3,
   "metadata": {
    "deletable": false,
    "editable": false,
    "execution": {
     "iopub.execute_input": "2025-09-02T18:22:28.225526Z",
     "iopub.status.busy": "2025-09-02T18:22:28.225245Z",
     "iopub.status.idle": "2025-09-02T18:22:28.229136Z",
     "shell.execute_reply": "2025-09-02T18:22:28.228524Z",
     "shell.execute_reply.started": "2025-09-02T18:22:28.225509Z"
    },
    "nbgrader": {
     "cell_type": "code",
     "checksum": "c30c8560a712b5deeb805c4b8aebc4c8",
     "grade": false,
     "grade_id": "cell-5c1a063fbf4ca1b5",
     "locked": true,
     "schema_version": 3,
     "solution": false,
     "task": false
    }
   },
   "outputs": [
    {
     "name": "stdout",
     "output_type": "stream",
     "text": [
      "['the', 'dog', 'ate', 'the', 'homework', 'or', 'did', 'the', 'cat', 'eat', 'the', 'homework']\n"
     ]
    }
   ],
   "source": [
    "# Test case\n",
    "test_document = \"The dog ate the homework. Or did the cat eat the homework?\"\n",
    "print(word_list(test_document))"
   ]
  },
  {
   "cell_type": "markdown",
   "metadata": {
    "deletable": false,
    "editable": false,
    "nbgrader": {
     "cell_type": "markdown",
     "checksum": "599244ec0be49c21f6abc4e5b9afc5d1",
     "grade": false,
     "grade_id": "cell-973ac390dd752542",
     "locked": true,
     "schema_version": 3,
     "solution": false,
     "task": false
    }
   },
   "source": [
    "Expected output:\n",
    "    \n",
    "    ['the', 'dog', 'ate', 'the', 'homework', 'or', 'did', 'the', 'cat', 'eat', 'the', 'homework']"
   ]
  },
  {
   "cell_type": "code",
   "execution_count": 4,
   "metadata": {
    "deletable": false,
    "execution": {
     "iopub.execute_input": "2025-09-02T18:22:33.349142Z",
     "iopub.status.busy": "2025-09-02T18:22:33.348739Z",
     "iopub.status.idle": "2025-09-02T18:22:33.353426Z",
     "shell.execute_reply": "2025-09-02T18:22:33.352751Z",
     "shell.execute_reply.started": "2025-09-02T18:22:33.349112Z"
    },
    "nbgrader": {
     "cell_type": "code",
     "checksum": "f164f47f1b0e3bc48f410777f631e199",
     "grade": false,
     "grade_id": "cell-ec1a131442d1ef90",
     "locked": false,
     "schema_version": 3,
     "solution": true,
     "task": false
    }
   },
   "outputs": [],
   "source": [
    "def word_frequencies(word_list1, word_list2):\n",
    "    \"\"\"\n",
    "    Returns two dictionaries whose keys are the words that occur in the union\n",
    "    of the two wordlists, and whose corresponding value is the word count\n",
    "    in their respective document.\n",
    "    \n",
    "    Parameters\n",
    "    ----------\n",
    "        word_list1 (list): A list containing lowercase words.\n",
    "        word_list2 (list): A second list containing lowercase words.\n",
    "        \n",
    "    Returns\n",
    "    -------\n",
    "        dictionary1 (dict): Dictionary containing word-count pairs for word_list1,\n",
    "                            whose keys are words that occur in word_list1 or word_list2.\n",
    "        dictionary2 (dict): Dictionary containing word-count pairs for word_list2,\n",
    "                            whose keys are words that occur in word_list1 or word_list2,\n",
    "                            in the same order as dictionary1.\n",
    "                            \n",
    "    Example\n",
    "    -------\n",
    "        word_list1 = [\"the\", \"dog\", \"ate\", \"the\", \"homework\"]\n",
    "        word_list2 = [\"the\", \"cat\", \"ate\", \"the\", \"homework\"]\n",
    "        dict1, dict2 = word_frequencies(document1, document2)\n",
    "            ({'the': 2, 'dog': 1, 'ate': 1, 'homework': 1, 'cat': 0},\n",
    "             {'the': 2, 'dog': 0, 'ate': 1, 'homework': 1, 'cat': 1})\n",
    "    \n",
    "    \"\"\"\n",
    "    dictionary1, dictionary2 = {}, {}\n",
    "    combined_word_list = word_list1 + word_list2\n",
    "        \n",
    "    for word in combined_word_list:\n",
    "        dictionary1[word] = 0\n",
    "        dictionary2[word] = 0\n",
    "        \n",
    "    # YOUR CODE HERE\n",
    "    for word in word_list1:\n",
    "        dictionary1[word] += 1\n",
    "\n",
    "    for word in word_list2:\n",
    "        dictionary2[word] += 1\n",
    "\n",
    "    return(dictionary1, dictionary2)"
   ]
  },
  {
   "cell_type": "code",
   "execution_count": 5,
   "metadata": {
    "execution": {
     "iopub.execute_input": "2025-09-02T18:22:37.322657Z",
     "iopub.status.busy": "2025-09-02T18:22:37.322345Z",
     "iopub.status.idle": "2025-09-02T18:22:37.328790Z",
     "shell.execute_reply": "2025-09-02T18:22:37.328224Z",
     "shell.execute_reply.started": "2025-09-02T18:22:37.322635Z"
    }
   },
   "outputs": [
    {
     "data": {
      "text/plain": [
       "['the',\n",
       " 'dog',\n",
       " 'ate',\n",
       " 'the',\n",
       " 'homework',\n",
       " 'the',\n",
       " 'cat',\n",
       " 'ate',\n",
       " 'the',\n",
       " 'homework']"
      ]
     },
     "execution_count": 5,
     "metadata": {},
     "output_type": "execute_result"
    }
   ],
   "source": [
    "# You can use this code cell to play around with your function to make sure\n",
    "# it does what it is intended to do, i.e. to debug your code. \n",
    "[\"the\", \"dog\", \"ate\", \"the\", \"homework\"] + [\"the\", \"cat\", \"ate\", \"the\", \"homework\"]"
   ]
  },
  {
   "cell_type": "code",
   "execution_count": 6,
   "metadata": {
    "deletable": false,
    "editable": false,
    "execution": {
     "iopub.execute_input": "2025-09-02T18:22:39.499121Z",
     "iopub.status.busy": "2025-09-02T18:22:39.498494Z",
     "iopub.status.idle": "2025-09-02T18:22:39.502868Z",
     "shell.execute_reply": "2025-09-02T18:22:39.502286Z",
     "shell.execute_reply.started": "2025-09-02T18:22:39.499102Z"
    },
    "nbgrader": {
     "cell_type": "code",
     "checksum": "69f4f6fdbd9508479930dcf7c0b7ac1d",
     "grade": false,
     "grade_id": "cell-505c16443f0f75fc",
     "locked": true,
     "schema_version": 3,
     "solution": false,
     "task": false
    }
   },
   "outputs": [
    {
     "name": "stdout",
     "output_type": "stream",
     "text": [
      "{'the': 2, 'dog': 1, 'ate': 1, 'homework': 1, 'cat': 0}\n",
      "{'the': 2, 'dog': 0, 'ate': 1, 'homework': 1, 'cat': 1}\n"
     ]
    }
   ],
   "source": [
    "# Test case\n",
    "test_word_list1 = [\"the\", \"dog\", \"ate\", \"the\", \"homework\"]\n",
    "test_word_list2 = [\"the\", \"cat\", \"ate\", \"the\", \"homework\"]\n",
    "dict1, dict2 = word_frequencies(test_word_list1, test_word_list2)\n",
    "print(dict1)\n",
    "print(dict2)"
   ]
  },
  {
   "cell_type": "markdown",
   "metadata": {
    "deletable": false,
    "editable": false,
    "nbgrader": {
     "cell_type": "markdown",
     "checksum": "6305eac40c014186a90a7d2bc4f6d281",
     "grade": false,
     "grade_id": "cell-75d4d2f59c7eb040",
     "locked": true,
     "schema_version": 3,
     "solution": false,
     "task": false
    }
   },
   "source": [
    "Expected output:\n",
    "    \n",
    "    {'the': 2, 'dog': 1, 'ate': 1, 'homework': 1, 'cat': 0}\n",
    "    {'the': 2, 'dog': 0, 'ate': 1, 'homework': 1, 'cat': 1}"
   ]
  },
  {
   "cell_type": "code",
   "execution_count": 10,
   "metadata": {
    "deletable": false,
    "execution": {
     "iopub.execute_input": "2025-09-02T18:22:57.425793Z",
     "iopub.status.busy": "2025-09-02T18:22:57.425462Z",
     "iopub.status.idle": "2025-09-02T18:22:57.430283Z",
     "shell.execute_reply": "2025-09-02T18:22:57.429614Z",
     "shell.execute_reply.started": "2025-09-02T18:22:57.425776Z"
    },
    "nbgrader": {
     "cell_type": "code",
     "checksum": "f631d3d0e2252bbf44ebb502ceb775cb",
     "grade": false,
     "grade_id": "cell-37f85cf5c716f861",
     "locked": false,
     "schema_version": 3,
     "solution": true,
     "task": false
    }
   },
   "outputs": [],
   "source": [
    "import math\n",
    "\n",
    "def dictionary_angle(dictionary1, dictionary2):\n",
    "    \"\"\"\n",
    "    Returns the angle between two word-count dictionaries. \n",
    "    \n",
    "    YOU DO NOT HAVE TO MAKE USE OF NUMPY ARRAYS TO COMPUTE INNER PRODUCTS OR LENGTHS OF VECTORS,\n",
    "    THIS WILL BE COVERED IN A LATER ASSIGNMENT\n",
    "\n",
    "    Hint: Use math.acos for the inverse cosine. \n",
    "    \n",
    "    Parameters\n",
    "    ----------\n",
    "        dictionary1 (dict): First input dictionary containing word-count pairs\n",
    "        dictionary2 (dict): Second input dictionary containing word-count pairs,\n",
    "                            whose keys (the words) are the same as dictionary1,\n",
    "                            and also in the same order.\n",
    "    \n",
    "    Returns\n",
    "    -------\n",
    "        angle (float): The angle between the value vectors (the word counts).\n",
    "        \n",
    "    Example\n",
    "    -------\n",
    "        dictionary1 = {'the': 2, 'dog': 1, 'ate': 1, 'homework': 1, 'cat': 0}\n",
    "        dictionary2 = {'the': 2, 'dog': 0, 'ate': 1, 'homework': 1, 'cat': 1}\n",
    "        dictionary_angle(dictionary1, dictionary2)\n",
    "            0.541099525957146\n",
    "    \"\"\"\n",
    "    \n",
    "    # YOUR CODE HERE\n",
    "    numerator = 0\n",
    "    for word in dictionary1:\n",
    "        numerator += dictionary1[word] * dictionary2[word]\n",
    "\n",
    "    sum1, sum2 = 0, 0\n",
    "    for word in dictionary1:\n",
    "        sum1 += dictionary1[word]**2\n",
    "        sum2 += dictionary2[word]**2\n",
    "\n",
    "    length1, length2 = math.sqrt(sum1), math.sqrt(sum2)\n",
    "    denumerator = length1 * length2\n",
    "\n",
    "    return math.acos(numerator / denumerator)"
   ]
  },
  {
   "cell_type": "code",
   "execution_count": null,
   "metadata": {
    "execution": {
     "iopub.status.busy": "2025-09-02T16:07:23.398209Z",
     "iopub.status.idle": "2025-09-02T16:07:23.398387Z",
     "shell.execute_reply": "2025-09-02T16:07:23.398307Z",
     "shell.execute_reply.started": "2025-09-02T16:07:23.398297Z"
    }
   },
   "outputs": [],
   "source": [
    "# You can use this code cell to play around with your function to make sure\n",
    "# it does what it is intended to do, i.e. to debug your code. \n"
   ]
  },
  {
   "cell_type": "code",
   "execution_count": 8,
   "metadata": {
    "deletable": false,
    "editable": false,
    "execution": {
     "iopub.execute_input": "2025-09-02T18:22:44.255563Z",
     "iopub.status.busy": "2025-09-02T18:22:44.255013Z",
     "iopub.status.idle": "2025-09-02T18:22:44.259980Z",
     "shell.execute_reply": "2025-09-02T18:22:44.259408Z",
     "shell.execute_reply.started": "2025-09-02T18:22:44.255545Z"
    },
    "nbgrader": {
     "cell_type": "code",
     "checksum": "3b85d275406f607556f6155bf0d60b18",
     "grade": false,
     "grade_id": "cell-dabff3dd6abeeccb",
     "locked": true,
     "schema_version": 3,
     "solution": false,
     "task": false
    }
   },
   "outputs": [
    {
     "data": {
      "text/plain": [
       "0.541099525957146"
      ]
     },
     "execution_count": 8,
     "metadata": {},
     "output_type": "execute_result"
    }
   ],
   "source": [
    "# Test case\n",
    "test_dictionary1 = {'the': 2, 'dog': 1, 'ate': 1, 'homework': 1, 'cat': 0}\n",
    "test_dictionary2 = {'the': 2, 'dog': 0, 'ate': 1, 'homework': 1, 'cat': 1}\n",
    "dictionary_angle(test_dictionary1, test_dictionary2)"
   ]
  },
  {
   "cell_type": "markdown",
   "metadata": {
    "deletable": false,
    "editable": false,
    "nbgrader": {
     "cell_type": "markdown",
     "checksum": "4d11911f0a0b3e5bbefd63d1a9ed321e",
     "grade": false,
     "grade_id": "cell-8287ec6ed40636ee",
     "locked": true,
     "schema_version": 3,
     "solution": false,
     "task": false
    }
   },
   "source": [
    "Expected output:\n",
    "\n",
    "    0.541099525957146"
   ]
  },
  {
   "cell_type": "markdown",
   "metadata": {
    "deletable": false,
    "editable": false,
    "nbgrader": {
     "cell_type": "markdown",
     "checksum": "cf2f7c3ac449a78a6b7d44dc6c7afc74",
     "grade": false,
     "grade_id": "cell-bbe680a5c61d18f4",
     "locked": true,
     "schema_version": 3,
     "solution": false,
     "task": false
    }
   },
   "source": [
    "### Case study for autograding (NOT AN EXERCISE)\n",
    "\n",
    "Here are two excerpts, one from a speech Michelle Obama gave in 2008 and one from Melania Trump eight years later of similar nature. It serves as a nice test case for autograding. You can try running these cells to see if your functions work correctly. The first cell is used for grading your function `word_list`, the second for `word_frequencies` and the third for `dictionary_angle`. "
   ]
  },
  {
   "cell_type": "code",
   "execution_count": 11,
   "metadata": {
    "deletable": false,
    "editable": false,
    "execution": {
     "iopub.execute_input": "2025-09-02T18:23:00.320648Z",
     "iopub.status.busy": "2025-09-02T18:23:00.320385Z",
     "iopub.status.idle": "2025-09-02T18:23:00.333168Z",
     "shell.execute_reply": "2025-09-02T18:23:00.332481Z",
     "shell.execute_reply.started": "2025-09-02T18:23:00.320633Z"
    },
    "nbgrader": {
     "cell_type": "code",
     "checksum": "a6263981d4bd4b6307c8d903ba62c06f",
     "grade": true,
     "grade_id": "cell-23c1e842cce2f754",
     "locked": true,
     "points": 1,
     "schema_version": 3,
     "solution": false,
     "task": false
    }
   },
   "outputs": [
    {
     "ename": "AssertionError",
     "evalue": "",
     "output_type": "error",
     "traceback": [
      "\u001b[0;31m---------------------------------------------------------------------------\u001b[0m",
      "\u001b[0;31mAssertionError\u001b[0m                            Traceback (most recent call last)",
      "Cell \u001b[0;32mIn[11], line 27\u001b[0m\n\u001b[1;32m     24\u001b[0m list_Obama \u001b[38;5;241m=\u001b[39m word_list(Obama)\n\u001b[1;32m     25\u001b[0m list_Trump \u001b[38;5;241m=\u001b[39m word_list(Trump)\n\u001b[0;32m---> 27\u001b[0m \u001b[38;5;28;01massert\u001b[39;00m list_Obama[\u001b[38;5;241m20\u001b[39m] \u001b[38;5;241m==\u001b[39m \u001b[38;5;124m'\u001b[39m\u001b[38;5;124mwant\u001b[39m\u001b[38;5;124m'\u001b[39m\n\u001b[1;32m     28\u001b[0m \u001b[38;5;28;01massert\u001b[39;00m list_Trump[\u001b[38;5;241m20\u001b[39m] \u001b[38;5;241m==\u001b[39m \u001b[38;5;124m'\u001b[39m\u001b[38;5;124mlife\u001b[39m\u001b[38;5;124m'\u001b[39m\n",
      "\u001b[0;31mAssertionError\u001b[0m: "
     ]
    }
   ],
   "source": [
    "# AUTOGRADING\n",
    "\n",
    "Obama = \"\"\"And Barack and I were raised with so many of the same values:\n",
    "         that you work hard for what you want in life; that your word \n",
    "         is your bond and you do what you say you're going to do; that \n",
    "         you treat people with dignity and respect, even if you don't know \n",
    "         them, and even if you don't agree with them. And Barack and I set \n",
    "         out to build lives guided by these values, and to pass them on to \n",
    "         the next generation. Because we want our children and all children \n",
    "         in this nation to know that the only limit to the height of your \n",
    "         achievements is the reach of your dreams and your willingness to \n",
    "         work for them.\"\"\"\n",
    "\n",
    "Trump = \"\"\"From a young age, my parents impressed on me the values that you \n",
    "         work hard for what you want in life, that your word is your bond and \n",
    "         you do what you say and keep your promise, that you treat people \n",
    "         with respect. They taught and showed me values and morals in their \n",
    "         daily lives. That is a lesson that I continue to pass along to our \n",
    "         son. And we need to pass those lessons on to the many generations to \n",
    "         follow. Because we want our children in this nation to know that the \n",
    "         only limit to your achievements is the strength of your dreams and \n",
    "         your willingness to work for them.\"\"\"\n",
    "\n",
    "list_Obama = word_list(Obama)\n",
    "list_Trump = word_list(Trump)\n",
    "\n",
    "assert list_Obama[20] == 'want'\n",
    "assert list_Trump[20] == 'life'\n"
   ]
  },
  {
   "cell_type": "code",
   "execution_count": 12,
   "metadata": {
    "deletable": false,
    "editable": false,
    "execution": {
     "iopub.execute_input": "2025-09-02T18:23:02.084018Z",
     "iopub.status.busy": "2025-09-02T18:23:02.083748Z",
     "iopub.status.idle": "2025-09-02T18:23:02.090783Z",
     "shell.execute_reply": "2025-09-02T18:23:02.090181Z",
     "shell.execute_reply.started": "2025-09-02T18:23:02.084003Z"
    },
    "nbgrader": {
     "cell_type": "code",
     "checksum": "48313df7abd0a797ebcc602ef038d0c6",
     "grade": true,
     "grade_id": "cell-aeadfe3d4fe3ea4f",
     "locked": true,
     "points": 1,
     "schema_version": 3,
     "solution": false,
     "task": false
    }
   },
   "outputs": [],
   "source": [
    "# AUTOGRADING\n",
    "\n",
    "list_Obama = ['and', 'barack', 'and', 'i', 'were', 'raised', 'with', 'so', 'many', 'of', 'the', 'same', 'values', \n",
    "              'that', 'you', 'work', 'hard', 'for', 'what', 'you', 'want', 'in', 'life', 'that', 'your', 'word', \n",
    "              'is', 'your', 'bond', 'and', 'you', 'do', 'what', 'you', 'say', \"you're\", 'going', 'to', 'do', 'that',\n",
    "              'you', 'treat', 'people', 'with', 'dignity', 'and', 'respect', 'even', 'if', 'you', \"don't\", 'know', \n",
    "              'them', 'and', 'even', 'if', 'you', \"don't\", 'agree', 'with', 'them', 'and', 'barack', 'and', 'i', 'set', \n",
    "              'out','to', 'build', 'lives','guided', 'by', 'these', 'values', 'and', 'to', 'pass', 'them', 'on', 'to', \n",
    "              'the', 'next', 'generation', 'because', 'we', 'want', 'our', 'children', 'and', 'all', 'children', \n",
    "              'in', 'this', 'nation', 'to', 'know', 'that', 'the', 'only', 'limit', 'to', 'the', 'height', 'of', 'your', \n",
    "              'achievements', 'is', 'the', 'reach', 'of', 'your', 'dreams', 'and', 'your', 'willingness', 'to', \n",
    "              'work', 'for', 'them']\n",
    "\n",
    "list_Trump = ['from', 'a', 'young', 'age', 'my', 'parents', 'impressed', 'on', 'me', 'the', 'values', 'that', 'you',\n",
    "              'work', 'hard', 'for', 'what', 'you', 'want', 'in', 'life', 'that', 'your', 'word', 'is', 'your', 'bond',\n",
    "              'and', 'you', 'do', 'what', 'you', 'say', 'and', 'keep', 'your', 'promise', 'that', 'you', 'treat', 'people',\n",
    "              'with', 'respect', 'they', 'taught', 'and', 'showed', 'me', 'values', 'and', 'morals', 'in', 'their', \n",
    "              'daily', 'lives', 'that', 'is', 'a', 'lesson', 'that', 'i', 'continue', 'to', 'pass', 'along', 'to', 'our',\n",
    "              'son', 'and', 'we', 'need', 'to', 'pass', 'those', 'lessons', 'on', 'to', 'the', 'many', 'generations', 'to', \n",
    "              'follow', 'because', 'we', 'want', 'our', 'children', 'in', 'this', 'nation', 'to', 'know', 'that', 'the',\n",
    "              'only', 'limit', 'to', 'your', 'achievements', 'is', 'the', 'strength', 'of', 'your', 'dreams', 'and', \n",
    "              'your', 'willingness', 'to', 'work', 'for', 'them']\n",
    "\n",
    "dict_Obama, dict_Trump = word_frequencies(list_Obama, list_Trump)\n",
    "\n",
    "assert dict_Obama['you'] == 7\n",
    "assert dict_Trump['to'] == 8\n"
   ]
  },
  {
   "cell_type": "code",
   "execution_count": 13,
   "metadata": {
    "deletable": false,
    "editable": false,
    "execution": {
     "iopub.execute_input": "2025-09-02T18:23:03.805230Z",
     "iopub.status.busy": "2025-09-02T18:23:03.804768Z",
     "iopub.status.idle": "2025-09-02T18:23:03.814028Z",
     "shell.execute_reply": "2025-09-02T18:23:03.813429Z",
     "shell.execute_reply.started": "2025-09-02T18:23:03.805214Z"
    },
    "nbgrader": {
     "cell_type": "code",
     "checksum": "a7e6008b0e72b6c9a0be1dd84d8c1cef",
     "grade": true,
     "grade_id": "cell-f7c2fd75108a961e",
     "locked": true,
     "points": 1,
     "schema_version": 3,
     "solution": false,
     "task": false
    }
   },
   "outputs": [],
   "source": [
    "# AUTOGRADING\n",
    "dict_Obama = {'and': 10, 'barack': 2, 'i': 2, 'were': 1, 'raised': 1, 'with': 3, 'so': 1, 'many': 1, \n",
    "              'of': 3, 'the': 5, 'same': 1, 'values': 2, 'that': 4, 'you': 7, 'work': 2, 'hard': 1, \n",
    "              'for': 2, 'what': 2, 'want': 2, 'in': 2, 'life': 1, 'your': 5, 'word': 1, 'is': 2, \n",
    "              'bond': 1, 'do': 2, 'say': 1, \"you're\": 1, 'going': 1, 'to': 7, 'treat': 1, 'people': 1, \n",
    "              'dignity': 1, 'respect': 1, 'even': 2, 'if': 2, \"don't\": 2, 'know': 2, 'them': 4, 'agree': 1, \n",
    "              'set': 1, 'out': 1, 'build': 1, 'lives': 1, 'guided': 1, 'by': 1, 'these': 1, 'pass': 1, \n",
    "              'on': 1, 'next': 1, 'generation': 1, 'because': 1, 'we': 1, 'our': 1, 'children': 2, \n",
    "              'all': 1, 'this': 1, 'nation': 1, 'only': 1, 'limit': 1, 'height': 1, 'achievements': 1, \n",
    "              'reach': 1, 'dreams': 1, 'willingness': 1, 'from': 0, 'a': 0, 'young': 0, 'age': 0, 'my': 0, \n",
    "              'parents': 0, 'impressed': 0, 'me': 0, 'keep': 0, 'promise': 0, 'they': 0, 'taught': 0, \n",
    "              'showed': 0, 'morals': 0, 'their': 0, 'daily': 0, 'lesson': 0, 'continue': 0, 'along': 0, \n",
    "              'son': 0, 'need': 0, 'those': 0, 'lessons': 0, 'generations': 0, 'follow': 0, 'strength': 0} \n",
    "\n",
    "dict_Trump = {'and': 6, 'barack': 0, 'i': 1, 'were': 0, 'raised': 0, 'with': 1, 'so': 0, 'many': 1, 'of': 1, \n",
    "              'the': 4, 'same': 0, 'values': 2, 'that': 6, 'you': 5, 'work': 2, 'hard': 1, 'for': 2, 'what': 2, \n",
    "              'want': 2, 'in': 3, 'life': 1, 'your': 6, 'word': 1, 'is': 3, 'bond': 1, 'do': 1, 'say': 1, \n",
    "              \"you're\": 0, 'going': 0, 'to': 8, 'treat': 1, 'people': 1, 'dignity': 0, 'respect': 1, 'even': 0, \n",
    "              'if': 0, \"don't\": 0, 'know': 1, 'them': 1, 'agree': 0, 'set': 0, 'out': 0, 'build': 0, 'lives': 1, \n",
    "              'guided': 0, 'by': 0, 'these': 0, 'pass': 2, 'on': 2, 'next': 0, 'generation': 0, 'because': 1, \n",
    "              'we': 2, 'our': 2, 'children': 1, 'all': 0, 'this': 1, 'nation': 1, 'only': 1, 'limit': 1, \n",
    "              'height': 0, 'achievements': 1, 'reach': 0, 'dreams': 1, 'willingness': 1, 'from': 1, 'a': 2, \n",
    "              'young': 1, 'age': 1, 'my': 1, 'parents': 1, 'impressed': 1, 'me': 2, 'keep': 1, 'promise': 1, \n",
    "              'they': 1, 'taught': 1, 'showed': 1, 'morals': 1, 'their': 1, 'daily': 1, 'lesson': 1, \n",
    "              'continue': 1, 'along': 1, 'son': 1, 'need': 1, 'those': 1, 'lessons': 1, 'generations': 1, \n",
    "              'follow': 1, 'strength': 1} \n",
    "\n",
    "angle1 = dictionary_angle(dict_Obama, dict_Trump)\n",
    "angle2 = dictionary_angle(dict_Trump, dict_Obama)\n",
    "\n",
    "assert math.isclose(angle1, angle2)\n",
    "assert math.isclose(angle1, 0.578729546285134)\n"
   ]
  }
 ],
 "metadata": {
  "kernelspec": {
   "display_name": "Python 3.11",
   "language": "python",
   "name": "python311"
  },
  "language_info": {
   "codemirror_mode": {
    "name": "ipython",
    "version": 3
   },
   "file_extension": ".py",
   "mimetype": "text/x-python",
   "name": "python",
   "nbconvert_exporter": "python",
   "pygments_lexer": "ipython3",
   "version": "3.11.11"
  },
  "widgets": {
   "application/vnd.jupyter.widget-state+json": {
    "state": {},
    "version_major": 2,
    "version_minor": 0
   }
  }
 },
 "nbformat": 4,
 "nbformat_minor": 4
}
