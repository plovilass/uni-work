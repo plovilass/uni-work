{
 "cells": [
  {
   "cell_type": "markdown",
   "metadata": {
    "deletable": false,
    "editable": false,
    "nbgrader": {
     "cell_type": "markdown",
     "checksum": "7407018013ccd4b8d7f7bad12636978e",
     "grade": false,
     "grade_id": "cell-1934b59a9e99bb1b",
     "locked": true,
     "schema_version": 3,
     "solution": false,
     "task": false
    }
   },
   "source": [
    "# Homework Assignment 2: QR Factorization\n",
    "\n",
    "One algorithmic idea in numerical linear algebra is more important ([one of the 10 most important algorithms of the 20th century](https://archive.siam.org/pdf/news/637.pdf)) than all the others: QR factorization. This decomposition plays a crucial role in many problems:\n",
    "* Computing orthogonal bases in a linear space.\n",
    "* The preprocessing step for the singular value decomposition (principal component analysis).\n",
    "* The computation of eigenvectors and eigenvalues (covered in next week's lectures).\n",
    "* Methods for least squares problems (overdetermined systems of linear equations).\n",
    "\n",
    "Before tackling the task of implementing this method, let's first introduce the Python library that provides all the necessary linear algebra functionality."
   ]
  },
  {
   "cell_type": "markdown",
   "metadata": {
    "deletable": false,
    "editable": false,
    "nbgrader": {
     "cell_type": "markdown",
     "checksum": "cc7ca70af8891f9fac79555d318ca76f",
     "grade": false,
     "grade_id": "cell-eaf653354544dca3",
     "locked": true,
     "schema_version": 3,
     "solution": false,
     "task": false
    }
   },
   "source": [
    "## The NumPy Library\n",
    "\n",
    "NumPy is the fundamental package for scientific computing with Python, adding support for large, multidimensional arrays and matrices, along with a large collection of mathematical functions to operate on these arrays. It is the workhorse library for linear algebra. To use the NumPy library we need to import it first."
   ]
  },
  {
   "cell_type": "code",
   "execution_count": 1,
   "metadata": {
    "execution": {
     "iopub.execute_input": "2025-09-10T15:10:25.498358Z",
     "iopub.status.busy": "2025-09-10T15:10:25.498197Z",
     "iopub.status.idle": "2025-09-10T15:10:25.573591Z",
     "shell.execute_reply": "2025-09-10T15:10:25.573012Z",
     "shell.execute_reply.started": "2025-09-10T15:10:25.498340Z"
    }
   },
   "outputs": [],
   "source": [
    "# Importing the NumPy module and giving it the conventional shorthand name np.\n",
    "import numpy as np "
   ]
  },
  {
   "cell_type": "markdown",
   "metadata": {
    "deletable": false,
    "editable": false,
    "nbgrader": {
     "cell_type": "markdown",
     "checksum": "968e2ce1a9f0d73ab9f36cb409bfe778",
     "grade": false,
     "grade_id": "cell-a4e07d3087242d09",
     "locked": true,
     "schema_version": 3,
     "solution": false,
     "task": false
    }
   },
   "source": [
    "### Creating arrays from Python lists\n",
    "\n",
    "To create a vector, simply surround a python list with the `array` function:"
   ]
  },
  {
   "cell_type": "code",
   "execution_count": 2,
   "metadata": {
    "execution": {
     "iopub.execute_input": "2025-09-10T15:10:25.575580Z",
     "iopub.status.busy": "2025-09-10T15:10:25.575021Z",
     "iopub.status.idle": "2025-09-10T15:10:25.581871Z",
     "shell.execute_reply": "2025-09-10T15:10:25.581398Z",
     "shell.execute_reply.started": "2025-09-10T15:10:25.575559Z"
    }
   },
   "outputs": [
    {
     "data": {
      "text/plain": [
       "array([1, 4, 2, 5, 3])"
      ]
     },
     "execution_count": 2,
     "metadata": {},
     "output_type": "execute_result"
    }
   ],
   "source": [
    "np.array([1, 4, 2, 5, 3])"
   ]
  },
  {
   "cell_type": "markdown",
   "metadata": {
    "deletable": false,
    "editable": false,
    "nbgrader": {
     "cell_type": "markdown",
     "checksum": "c5245636c2cdb882fc12dd208d9d8274",
     "grade": false,
     "grade_id": "cell-ae199a2cf473b68b",
     "locked": true,
     "schema_version": 3,
     "solution": false,
     "task": false
    }
   },
   "source": [
    "**Exercise 1:** Create an array of the numbers from 0 to 20."
   ]
  },
  {
   "cell_type": "code",
   "execution_count": 3,
   "metadata": {
    "execution": {
     "iopub.execute_input": "2025-09-10T15:10:25.584585Z",
     "iopub.status.busy": "2025-09-10T15:10:25.584220Z",
     "iopub.status.idle": "2025-09-10T15:10:25.588315Z",
     "shell.execute_reply": "2025-09-10T15:10:25.587834Z",
     "shell.execute_reply.started": "2025-09-10T15:10:25.584566Z"
    }
   },
   "outputs": [
    {
     "data": {
      "text/plain": [
       "array([ 0,  1,  2,  3,  4,  5,  6,  7,  8,  9, 10, 11, 12, 13, 14, 15, 16,\n",
       "       17, 18, 19, 20])"
      ]
     },
     "execution_count": 3,
     "metadata": {},
     "output_type": "execute_result"
    }
   ],
   "source": [
    "np.array(range(0,21))"
   ]
  },
  {
   "cell_type": "markdown",
   "metadata": {
    "deletable": false,
    "editable": false,
    "nbgrader": {
     "cell_type": "markdown",
     "checksum": "5a4a5b3b8966116616bcc7ac31e864c6",
     "grade": false,
     "grade_id": "cell-542cef0d131d14b4",
     "locked": true,
     "schema_version": 3,
     "solution": false,
     "task": false
    }
   },
   "source": [
    "Unlike Python lists, NumPy is constrained to arrays that all contain the same datatype. If types do not match, NumPy will upcast if possible (here, integers are up-cast to floating points):"
   ]
  },
  {
   "cell_type": "code",
   "execution_count": 4,
   "metadata": {
    "execution": {
     "iopub.execute_input": "2025-09-10T15:10:25.589408Z",
     "iopub.status.busy": "2025-09-10T15:10:25.588966Z",
     "iopub.status.idle": "2025-09-10T15:10:25.593164Z",
     "shell.execute_reply": "2025-09-10T15:10:25.592693Z",
     "shell.execute_reply.started": "2025-09-10T15:10:25.589387Z"
    }
   },
   "outputs": [
    {
     "data": {
      "text/plain": [
       "array([3.14, 4.  , 2.  , 3.  ])"
      ]
     },
     "execution_count": 4,
     "metadata": {},
     "output_type": "execute_result"
    }
   ],
   "source": [
    "np.array([3.14, 4, 2, 3])"
   ]
  },
  {
   "cell_type": "markdown",
   "metadata": {
    "deletable": false,
    "editable": false,
    "nbgrader": {
     "cell_type": "markdown",
     "checksum": "d571ae2363b0a8f9c0a408aa6cf6ce56",
     "grade": false,
     "grade_id": "cell-0307386bb2cce08b",
     "locked": true,
     "schema_version": 3,
     "solution": false,
     "task": false
    }
   },
   "source": [
    "If we want to explicitly set the datatype of the resulting array, we can use the `dtype` argument:"
   ]
  },
  {
   "cell_type": "code",
   "execution_count": 5,
   "metadata": {
    "execution": {
     "iopub.execute_input": "2025-09-10T15:10:25.594103Z",
     "iopub.status.busy": "2025-09-10T15:10:25.593920Z",
     "iopub.status.idle": "2025-09-10T15:10:25.598026Z",
     "shell.execute_reply": "2025-09-10T15:10:25.597562Z",
     "shell.execute_reply.started": "2025-09-10T15:10:25.594084Z"
    }
   },
   "outputs": [
    {
     "data": {
      "text/plain": [
       "array([1., 2., 3., 4.])"
      ]
     },
     "execution_count": 5,
     "metadata": {},
     "output_type": "execute_result"
    }
   ],
   "source": [
    "np.array([1, 2, 3, 4], dtype='float64')"
   ]
  },
  {
   "cell_type": "markdown",
   "metadata": {
    "deletable": false,
    "editable": false,
    "nbgrader": {
     "cell_type": "markdown",
     "checksum": "d56f40588bf7b90f4a147c8407087a25",
     "grade": false,
     "grade_id": "cell-ba7ee180e7a27ecb",
     "locked": true,
     "schema_version": 3,
     "solution": false,
     "task": false
    }
   },
   "source": [
    "Finally, unlike Python lists, NumPy arrays can explicitly be multidimensional; here is one way of initializing a multidimensional array using a list of lists. The inner lists are treated as rows of the resulting two-dimensional array."
   ]
  },
  {
   "cell_type": "code",
   "execution_count": 6,
   "metadata": {
    "execution": {
     "iopub.execute_input": "2025-09-10T15:10:25.600625Z",
     "iopub.status.busy": "2025-09-10T15:10:25.600265Z",
     "iopub.status.idle": "2025-09-10T15:10:25.604056Z",
     "shell.execute_reply": "2025-09-10T15:10:25.603564Z",
     "shell.execute_reply.started": "2025-09-10T15:10:25.600604Z"
    }
   },
   "outputs": [
    {
     "name": "stdout",
     "output_type": "stream",
     "text": [
      "[[2 3 4]\n",
      " [4 5 6]\n",
      " [6 7 8]]\n"
     ]
    }
   ],
   "source": [
    "arr = np.array([[2, 3, 4], \n",
    "                [4, 5, 6], \n",
    "                [6, 7, 8]])\n",
    "print(arr)"
   ]
  },
  {
   "cell_type": "markdown",
   "metadata": {
    "deletable": false,
    "editable": false,
    "nbgrader": {
     "cell_type": "markdown",
     "checksum": "9747b3db4f3955980dc8531b41da6a7e",
     "grade": false,
     "grade_id": "cell-89f76739a1d993d4",
     "locked": true,
     "schema_version": 3,
     "solution": false,
     "task": false
    }
   },
   "source": [
    "### Creating arrays from scratch\n",
    "\n",
    "Especially for larger arrays, it is more efficient to create arrays from scratch using routines built into NumPy. Here are several examples:"
   ]
  },
  {
   "cell_type": "code",
   "execution_count": 7,
   "metadata": {
    "execution": {
     "iopub.execute_input": "2025-09-10T15:10:25.605155Z",
     "iopub.status.busy": "2025-09-10T15:10:25.604720Z",
     "iopub.status.idle": "2025-09-10T15:10:25.612096Z",
     "shell.execute_reply": "2025-09-10T15:10:25.611604Z",
     "shell.execute_reply.started": "2025-09-10T15:10:25.605135Z"
    }
   },
   "outputs": [
    {
     "name": "stdout",
     "output_type": "stream",
     "text": [
      "np.zeros \n",
      " [0 0 0 0 0 0 0 0 0 0] \n",
      "\n",
      "np.ones \n",
      " [[1. 1. 1. 1. 1.]\n",
      " [1. 1. 1. 1. 1.]\n",
      " [1. 1. 1. 1. 1.]] \n",
      "\n",
      "np.full \n",
      " [[3.14 3.14 3.14 3.14 3.14]\n",
      " [3.14 3.14 3.14 3.14 3.14]\n",
      " [3.14 3.14 3.14 3.14 3.14]] \n",
      "\n",
      "np.arange \n",
      " [ 0  2  4  6  8 10 12 14 16 18] \n",
      "\n",
      "np.linspace \n",
      " [0.   0.25 0.5  0.75 1.  ] \n",
      "\n",
      "np.random.random \n",
      " [[0.67082294 0.88225711 0.57599585]\n",
      " [0.36110937 0.49829054 0.34822523]\n",
      " [0.57976964 0.63983841 0.26352591]] \n",
      "\n",
      "np.eye \n",
      " [[1. 0. 0.]\n",
      " [0. 1. 0.]\n",
      " [0. 0. 1.]]\n"
     ]
    }
   ],
   "source": [
    "# Create a length-10 integer array filled with zeroes\n",
    "arr1 = np.zeros(10, dtype=int)\n",
    "\n",
    "# Create a 3x5 floating-point array filled with ones\n",
    "arr2 = np.ones((3, 5), dtype=float)\n",
    "\n",
    "# Create a 3x5 array filled with 3.14\n",
    "arr3 = np.full((3, 5), 3.14)\n",
    "\n",
    "# Create an array filled with a linear sequence\n",
    "# starting at 0, ending at 20, steps by 2 (similar to range)\n",
    "arr4 = np.arange(0, 20, 2)\n",
    "\n",
    "# Create an array of five values evenly spaces between 0 and 1\n",
    "arr5 = np.linspace(0, 1, 5)\n",
    "\n",
    "# Create a 3x3 array of uniformly ditributed random values between 0 and 1\n",
    "arr6 = np.random.random((3, 3))\n",
    "\n",
    "# Create a 3x3 identity matrix\n",
    "arr7 = np.eye(3)\n",
    "\n",
    "\n",
    "print(\"np.zeros\", \"\\n\", arr1, \"\\n\")\n",
    "print(\"np.ones\", \"\\n\", arr2, \"\\n\")\n",
    "print(\"np.full\", \"\\n\", arr3, \"\\n\")\n",
    "print(\"np.arange\", \"\\n\", arr4, \"\\n\")\n",
    "print(\"np.linspace\", \"\\n\", arr5, \"\\n\")\n",
    "print(\"np.random.random\", \"\\n\", arr6, \"\\n\")\n",
    "print(\"np.eye\", \"\\n\", arr7)"
   ]
  },
  {
   "cell_type": "markdown",
   "metadata": {
    "deletable": false,
    "editable": false,
    "nbgrader": {
     "cell_type": "markdown",
     "checksum": "c7d0e3ff2d0848eb8ee53d0314c6c7f8",
     "grade": false,
     "grade_id": "cell-1edc5063f4c5a3c0",
     "locked": true,
     "schema_version": 3,
     "solution": false,
     "task": false
    }
   },
   "source": [
    "Each array has attributes `ndim` (the number of dimensions), `shape` (the size of each dimension), `size` (the total size of the array), and `dtype` (the datatype of the array):"
   ]
  },
  {
   "cell_type": "code",
   "execution_count": 8,
   "metadata": {
    "execution": {
     "iopub.execute_input": "2025-09-10T15:10:25.613299Z",
     "iopub.status.busy": "2025-09-10T15:10:25.612759Z",
     "iopub.status.idle": "2025-09-10T15:10:25.616535Z",
     "shell.execute_reply": "2025-09-10T15:10:25.616035Z",
     "shell.execute_reply.started": "2025-09-10T15:10:25.613278Z"
    }
   },
   "outputs": [
    {
     "name": "stdout",
     "output_type": "stream",
     "text": [
      "arr3 ndim: 2\n",
      "arr3 shape: (3, 5)\n",
      "arr3 size: 15\n",
      "arr3 dtype: float64\n"
     ]
    }
   ],
   "source": [
    "print(\"arr3 ndim:\", arr3.ndim)\n",
    "print(\"arr3 shape:\", arr3.shape)\n",
    "print(\"arr3 size:\", arr3.size)\n",
    "print(\"arr3 dtype:\", arr3.dtype)"
   ]
  },
  {
   "cell_type": "markdown",
   "metadata": {
    "deletable": false,
    "editable": false,
    "nbgrader": {
     "cell_type": "markdown",
     "checksum": "d472790cbeeaae0d9c3809ec032217a9",
     "grade": false,
     "grade_id": "cell-5d0f8eb3592fc0f6",
     "locked": true,
     "schema_version": 3,
     "solution": false,
     "task": false
    }
   },
   "source": [
    "**Exercise 2:** In contrast to Python's list objects, arithmetic operations on a ndarray are executed element-by-element. Use this to create and print the following ndarrays:\n",
    "* element-by-element sum of `arr` and `arr6`.\n",
    "* element-by-element product of `arr` and `arr6`.\n",
    "* elements of `arr` multiplied by a factor of 10.\n",
    "* elements of `arr` to the power 4.\n",
    "* one divided by the elements of `arr`."
   ]
  },
  {
   "cell_type": "code",
   "execution_count": 9,
   "metadata": {
    "execution": {
     "iopub.execute_input": "2025-09-10T15:10:25.617648Z",
     "iopub.status.busy": "2025-09-10T15:10:25.617179Z",
     "iopub.status.idle": "2025-09-10T15:10:25.621546Z",
     "shell.execute_reply": "2025-09-10T15:10:25.621041Z",
     "shell.execute_reply.started": "2025-09-10T15:10:25.617628Z"
    }
   },
   "outputs": [
    {
     "name": "stdout",
     "output_type": "stream",
     "text": [
      "[[2.67082294 3.88225711 4.57599585]\n",
      " [4.36110937 5.49829054 6.34822523]\n",
      " [6.57976964 7.63983841 8.26352591]]\n",
      "[[1.34164587 2.64677133 2.30398338]\n",
      " [1.44443748 2.49145271 2.0893514 ]\n",
      " [3.47861786 4.47886889 2.10820726]]\n",
      "[[ 40  60  80]\n",
      " [ 80 100 120]\n",
      " [120 140 160]]\n",
      "[[  16   81  256]\n",
      " [ 256  625 1296]\n",
      " [1296 2401 4096]]\n",
      "[[0.5        0.33333333 0.25      ]\n",
      " [0.25       0.2        0.16666667]\n",
      " [0.16666667 0.14285714 0.125     ]]\n"
     ]
    }
   ],
   "source": [
    "print(arr + arr6)\n",
    "print(arr * arr6)\n",
    "print(arr * 20)\n",
    "print(arr ** 4)\n",
    "print(1 / arr)"
   ]
  },
  {
   "cell_type": "markdown",
   "metadata": {
    "deletable": false,
    "editable": false,
    "nbgrader": {
     "cell_type": "markdown",
     "checksum": "bf584f6852def4af7fa7c1c2988d5a07",
     "grade": false,
     "grade_id": "cell-f3fb899d786613fe",
     "locked": true,
     "schema_version": 3,
     "solution": false,
     "task": false
    }
   },
   "source": [
    "### Array indexing and slicing\n",
    "\n",
    "In a one-dimensional array, the $i^{\\text{th}}$ value (counting from zero) can be accessed by specifying the desired index in square brackets, just as with Python lists. Negative indices can be used for indexing from the end of the array. In multidimensional arrays, items can be accessed using a comma-separated tuple of indices. "
   ]
  },
  {
   "cell_type": "code",
   "execution_count": 10,
   "metadata": {
    "execution": {
     "iopub.execute_input": "2025-09-10T15:10:25.622542Z",
     "iopub.status.busy": "2025-09-10T15:10:25.622191Z",
     "iopub.status.idle": "2025-09-10T15:10:25.626893Z",
     "shell.execute_reply": "2025-09-10T15:10:25.626400Z",
     "shell.execute_reply.started": "2025-09-10T15:10:25.622523Z"
    }
   },
   "outputs": [
    {
     "name": "stdout",
     "output_type": "stream",
     "text": [
      "[ 0  2  4  6  8 10 12 14 16 18]\n",
      "Fourth element: 6 \n",
      "\n",
      "[ 0  2  4  6  8 10 12 14 16 18]\n",
      "Second to last element: 16 \n",
      "\n",
      "[ 0  2  4  6  8 10 12 14 16 18]\n",
      "Sub-array of fourth and seventh element: [ 6 12] \n",
      "\n",
      "[[2 3 4]\n",
      " [4 5 6]\n",
      " [6 7 8]]\n",
      "Element in first row, second column: 3\n"
     ]
    }
   ],
   "source": [
    "print(arr4)\n",
    "print(\"Fourth element:\", arr4[3], \"\\n\")\n",
    "print(arr4)\n",
    "print(\"Second to last element:\", arr4[-2], \"\\n\")\n",
    "print(arr4)\n",
    "print(\"Sub-array of fourth and seventh element:\", arr4[[3, 6]], \"\\n\")\n",
    "print(arr)\n",
    "print(\"Element in first row, second column:\", arr[0,1])"
   ]
  },
  {
   "cell_type": "markdown",
   "metadata": {
    "deletable": false,
    "editable": false,
    "nbgrader": {
     "cell_type": "markdown",
     "checksum": "1c49f1eecce519d5fbaa3046d9576b15",
     "grade": false,
     "grade_id": "cell-a96e2158c64362c3",
     "locked": true,
     "schema_version": 3,
     "solution": false,
     "task": false
    }
   },
   "source": [
    "Just as we can use square brackets to access individual array elements, we can also use them to access subarrays with the *slice* notation, marked by the colon `:` character. The NumPy slicing syntax follows that of standard Python lists: `array[start:stop:step]`. "
   ]
  },
  {
   "cell_type": "code",
   "execution_count": 11,
   "metadata": {
    "execution": {
     "iopub.execute_input": "2025-09-10T15:10:25.627875Z",
     "iopub.status.busy": "2025-09-10T15:10:25.627694Z",
     "iopub.status.idle": "2025-09-10T15:10:25.632173Z",
     "shell.execute_reply": "2025-09-10T15:10:25.631696Z",
     "shell.execute_reply.started": "2025-09-10T15:10:25.627857Z"
    }
   },
   "outputs": [
    {
     "name": "stdout",
     "output_type": "stream",
     "text": [
      "[ 0  2  4  6  8 10 12 14 16 18]\n",
      "First five elements: [0 2 4 6 8]\n",
      "Elements after index 5: [10 12 14 16 18]\n",
      "Middle subarray: [ 8 10 12]\n",
      "Every other element: [ 0  4  8 12 16]\n",
      "Every other element starting at index 1: [ 2  6 10 14 18]\n"
     ]
    }
   ],
   "source": [
    "print(arr4)\n",
    "\n",
    "print(\"First five elements:\", arr4[:5])\n",
    "\n",
    "print(\"Elements after index 5:\", arr4[5:])\n",
    "\n",
    "print(\"Middle subarray:\", arr4[4:7])\n",
    "\n",
    "print(\"Every other element:\", arr4[::2])\n",
    "\n",
    "print(\"Every other element starting at index 1:\", arr4[1::2])"
   ]
  },
  {
   "cell_type": "markdown",
   "metadata": {
    "deletable": false,
    "editable": false,
    "nbgrader": {
     "cell_type": "markdown",
     "checksum": "6a9b1a5e4a6524380876c5cd8685952b",
     "grade": false,
     "grade_id": "cell-6d6a38e22d536809",
     "locked": true,
     "schema_version": 3,
     "solution": false,
     "task": false
    }
   },
   "source": [
    "**Note**: When we treat the array as a formal matrix (on which we would like to perform linear algebraic operations like matrix-vector and matrix-matrix multiplication) we have to take care when considering submatrices. Do note that the difference between the slices `A[:,0]` and `A[:,0:1]`, where the first is turned into a one dimensional array, whereas the second is a correct column vector (a two-dimensional array). The latter is required for matrix-vector multiplications. "
   ]
  },
  {
   "cell_type": "code",
   "execution_count": 12,
   "metadata": {
    "execution": {
     "iopub.execute_input": "2025-09-10T15:10:25.633179Z",
     "iopub.status.busy": "2025-09-10T15:10:25.632833Z",
     "iopub.status.idle": "2025-09-10T15:10:25.637185Z",
     "shell.execute_reply": "2025-09-10T15:10:25.636699Z",
     "shell.execute_reply.started": "2025-09-10T15:10:25.633159Z"
    }
   },
   "outputs": [
    {
     "name": "stdout",
     "output_type": "stream",
     "text": [
      "Original array\n",
      " [[2 3 4]\n",
      " [4 5 6]\n",
      " [6 7 8]] \n",
      "\n",
      "Subarray using arr[:,0]\n",
      " [2 4 6]\n",
      "Dimension subarray = 1 \n",
      "\n",
      "Subarray using arr[:,0:1]\n",
      " [[2]\n",
      " [4]\n",
      " [6]]\n",
      "Dimension subarray = 2\n"
     ]
    }
   ],
   "source": [
    "print(\"Original array\\n\", arr, \"\\n\")\n",
    "print(\"Subarray using arr[:,0]\\n\", arr[:,0])\n",
    "print(\"Dimension subarray =\", arr[:,0].ndim, \"\\n\")\n",
    "print(\"Subarray using arr[:,0:1]\\n\", arr[:,0:1])\n",
    "print(\"Dimension subarray =\", arr[:,0:1].ndim)"
   ]
  },
  {
   "cell_type": "code",
   "execution_count": 13,
   "metadata": {
    "execution": {
     "iopub.execute_input": "2025-09-10T15:10:25.638273Z",
     "iopub.status.busy": "2025-09-10T15:10:25.637856Z",
     "iopub.status.idle": "2025-09-10T15:10:25.642526Z",
     "shell.execute_reply": "2025-09-10T15:10:25.642009Z",
     "shell.execute_reply.started": "2025-09-10T15:10:25.638245Z"
    }
   },
   "outputs": [
    {
     "name": "stdout",
     "output_type": "stream",
     "text": [
      "arr1D:\n",
      " [ 1  2  3  4  5  6  7  8  9 10]\n",
      "arr2D:\n",
      " [[ 1  2  3  4  5  6]\n",
      " [ 7  8  9 10 11 12]\n",
      " [13 14 15 16 17 18]\n",
      " [19 20 21 22 23 24]]\n",
      "arr3D:\n",
      " [[[ 1  2  3]\n",
      "  [ 4  5  6]]\n",
      "\n",
      " [[ 7  8  9]\n",
      "  [10 11 12]]]\n"
     ]
    }
   ],
   "source": [
    "# Arrays for exercise 3 (see below)\n",
    "arr1D = np.arange(1,11)\n",
    "arr2D = np.arange(1,25).reshape(4,6)\n",
    "arr3D = np.arange(1,13).reshape(2,2,3)\n",
    "\n",
    "print('arr1D:\\n {0}'.format(arr1D))\n",
    "print('arr2D:\\n {0}'.format(arr2D))\n",
    "print('arr3D:\\n {0}'.format(arr3D))"
   ]
  },
  {
   "cell_type": "markdown",
   "metadata": {
    "deletable": false,
    "editable": false,
    "nbgrader": {
     "cell_type": "markdown",
     "checksum": "ab7b27a285f5474f4cb824b361dfc7ae",
     "grade": false,
     "grade_id": "cell-958849906d395943",
     "locked": true,
     "schema_version": 3,
     "solution": false,
     "task": false
    }
   },
   "source": [
    "**Exercise 3:** use the arrays `arr1D`, `arr2D` and `arr3D` defined above to print the following objects.\n",
    "* for `arr1D`: the fifth element.\n",
    "* for `arr1D`: the array containing (only) the fifth element.\n",
    "* for `arr1D`: the array containing the third until the nineth element.\n",
    "* for `arr1D`: the array containing the first, second and seventh element.\n",
    "\n",
    "\n",
    "* for `arr2D`: the element in the second row and third column.\n",
    "* for `arr2D`: the array that is the fourth row.\n",
    "* for `arr2D`: the array containing the second and the third row.\n",
    "* for `arr2D`: the array containing the first and third row.\n",
    "* for `arr2D`: the array containing the first and second row, but only the third until the fifth column thereof.\n",
    "* for `arr2D`: the array containing the fifth and sixth column.\n",
    "* for `arr2D`: the array containing the fifth and sixth column, which are represented as rows. (Hint: use `tranpose()`, or simply `T`)\n",
    "\n",
    "\n",
    "* for `arr3D`: the first 2-dimensional array of `arr3D`.\n",
    "* for `arr3D`: the 2-dimensional array that looks like `[[5,6],[11,12]]`."
   ]
  },
  {
   "cell_type": "code",
   "execution_count": null,
   "metadata": {},
   "outputs": [],
   "source": []
  },
  {
   "cell_type": "markdown",
   "metadata": {
    "deletable": false,
    "editable": false,
    "nbgrader": {
     "cell_type": "markdown",
     "checksum": "4b3e6c7fbc3661aba13611dd98a89f32",
     "grade": false,
     "grade_id": "cell-87e35724114248aa",
     "locked": true,
     "schema_version": 3,
     "solution": false,
     "task": false
    }
   },
   "source": [
    "## Problem 1: Getting started with arrays (2 points)\n",
    "\n",
    "Implement the two functions `pascal` and `flip` below, see instructions in the corresponding docstrings. "
   ]
  },
  {
   "cell_type": "code",
   "execution_count": 14,
   "metadata": {
    "deletable": false,
    "execution": {
     "iopub.execute_input": "2025-09-10T15:10:25.643556Z",
     "iopub.status.busy": "2025-09-10T15:10:25.643192Z",
     "iopub.status.idle": "2025-09-10T15:10:25.647835Z",
     "shell.execute_reply": "2025-09-10T15:10:25.647427Z",
     "shell.execute_reply.started": "2025-09-10T15:10:25.643538Z"
    },
    "nbgrader": {
     "cell_type": "code",
     "checksum": "3669bb138469f282d84336f050f1cee9",
     "grade": false,
     "grade_id": "cell-62d43d5495d83e9f",
     "locked": false,
     "schema_version": 3,
     "solution": true,
     "task": false
    }
   },
   "outputs": [],
   "source": [
    "def pascal(n):\n",
    "    \"\"\"\n",
    "    Returns a two dimensional n by n array P that contains the binomial coefficient (i choose j)\n",
    "    at entry (i,j). Recall that the entries in Pascal's triangle are the sum of the two entries \n",
    "    above it, see for reference https://en.wikipedia.org/wiki/Pascal%27s_triangle\n",
    "    \n",
    "    Example\n",
    "    ----------\n",
    "    pascal(5) =\n",
    "        [[1 0 0 0 0]\n",
    "         [1 1 0 0 0]\n",
    "         [1 2 1 0 0]\n",
    "         [1 3 3 1 0]\n",
    "         [1 4 6 4 1]]\n",
    "    \n",
    "    Parameters\n",
    "    ----------\n",
    "        n (int): Order of the n by n array\n",
    "        \n",
    "    Returns\n",
    "    -------\n",
    "        P (ndarray): Array filled with a Pascal triangle pattern\n",
    "    \n",
    "    \"\"\"\n",
    "    \n",
    "    # YOUR CODE HERE\n",
    "    P = np.zeros(n ** 2, dtype = int).reshape(n, n)\n",
    "    P[0, 0] = 1\n",
    "\n",
    "    if n == 1:\n",
    "        return P\n",
    "\n",
    "    else:\n",
    "        for i in range(1, n):\n",
    "            for j in range(0, n):\n",
    "                P[i, j] = P[i-1, j] + P[i-1, j-1]\n",
    "\n",
    "        return(P)"
   ]
  },
  {
   "cell_type": "code",
   "execution_count": 15,
   "metadata": {
    "deletable": false,
    "execution": {
     "iopub.execute_input": "2025-09-10T15:10:25.648732Z",
     "iopub.status.busy": "2025-09-10T15:10:25.648381Z",
     "iopub.status.idle": "2025-09-10T15:10:25.651673Z",
     "shell.execute_reply": "2025-09-10T15:10:25.651271Z",
     "shell.execute_reply.started": "2025-09-10T15:10:25.648717Z"
    },
    "nbgrader": {
     "cell_type": "code",
     "checksum": "1ce2b8e13e4ff027f717c08fc774bc91",
     "grade": false,
     "grade_id": "cell-62d43d5495d83h8l",
     "locked": false,
     "schema_version": 3,
     "solution": true,
     "task": false
    }
   },
   "outputs": [],
   "source": [
    "def flip(arr):\n",
    "    \"\"\"\n",
    "    Returns the left-right flipped array arr,\n",
    "    where the entries in each row are flipped in the \n",
    "    left/right direction.\n",
    "    \n",
    "    Example\n",
    "    -------\n",
    "    arr = [[1 2 3]\n",
    "           [4 5 6]\n",
    "           [7 8 9]]\n",
    "           \n",
    "    flip(arr) = \n",
    "        [[3 2 1]\n",
    "         [6 5 4]\n",
    "         [9 8 7]]\n",
    "    \n",
    "    Parameters\n",
    "    ----------\n",
    "        arr (ndarray): Any arbitrary two-dimensional array\n",
    "        \n",
    "    Returns\n",
    "    -------\n",
    "        arr_flip (ndarray): Two-dimensional array arr flipped left/right\n",
    "\n",
    "    \"\"\"\n",
    "    \n",
    "    # YOUR CODE HERE\n",
    "    nrow, ncol = arr.shape\n",
    "    arr_flip = np.zeros(nrow * ncol).reshape(nrow, ncol)\n",
    "\n",
    "    for i in range(0, nrow):\n",
    "        for j in range(0, ncol):\n",
    "            arr_flip[i, j-1] = arr[i, -j]\n",
    "\n",
    "    return(arr_flip)"
   ]
  },
  {
   "cell_type": "code",
   "execution_count": 16,
   "metadata": {
    "execution": {
     "iopub.execute_input": "2025-09-10T15:10:25.652525Z",
     "iopub.status.busy": "2025-09-10T15:10:25.652204Z",
     "iopub.status.idle": "2025-09-10T15:10:25.654454Z",
     "shell.execute_reply": "2025-09-10T15:10:25.654051Z",
     "shell.execute_reply.started": "2025-09-10T15:10:25.652510Z"
    }
   },
   "outputs": [],
   "source": [
    "# You can use this code cell to play around with your functions to make sure\n",
    "# they do what they are intended to do, i.e. to debug your code. \n"
   ]
  },
  {
   "cell_type": "code",
   "execution_count": 17,
   "metadata": {
    "execution": {
     "iopub.execute_input": "2025-09-10T15:10:25.655233Z",
     "iopub.status.busy": "2025-09-10T15:10:25.654990Z",
     "iopub.status.idle": "2025-09-10T15:10:25.658691Z",
     "shell.execute_reply": "2025-09-10T15:10:25.658287Z",
     "shell.execute_reply.started": "2025-09-10T15:10:25.655219Z"
    }
   },
   "outputs": [
    {
     "name": "stdout",
     "output_type": "stream",
     "text": [
      "[[1 0 0 0 0]\n",
      " [1 1 0 0 0]\n",
      " [1 2 1 0 0]\n",
      " [1 3 3 1 0]\n",
      " [1 4 6 4 1]] \n",
      "\n",
      "[[ 5.  4.  3.  2.  1.]\n",
      " [10.  9.  8.  7.  6.]\n",
      " [15. 14. 13. 12. 11.]] \n",
      "\n"
     ]
    }
   ],
   "source": [
    "# Test case\n",
    "P = pascal(5)\n",
    "print(P, \"\\n\")\n",
    "\n",
    "arr = np.array([[1, 2, 3, 4, 5], \n",
    "                [6, 7, 8, 9, 10], \n",
    "                [11, 12, 13, 14, 15]])\n",
    "print(flip(arr), \"\\n\")"
   ]
  },
  {
   "cell_type": "markdown",
   "metadata": {
    "deletable": false,
    "editable": false,
    "nbgrader": {
     "cell_type": "markdown",
     "checksum": "cad1560179b6d5dcdc63c1d00c5bd00a",
     "grade": false,
     "grade_id": "cell-1be3cf2f2c860304",
     "locked": true,
     "schema_version": 3,
     "solution": false,
     "task": false
    }
   },
   "source": [
    "Expected output:\n",
    "\n",
    "    [[1 0 0 0 0]\n",
    "     [1 1 0 0 0]\n",
    "     [1 2 1 0 0]\n",
    "     [1 3 3 1 0]\n",
    "     [1 4 6 4 1]] \n",
    "\n",
    "    [[ 5  4  3  2  1]\n",
    "     [10  9  8  7  6]\n",
    "     [15 14 13 12 11]]"
   ]
  },
  {
   "cell_type": "code",
   "execution_count": 18,
   "metadata": {
    "deletable": false,
    "editable": false,
    "execution": {
     "iopub.execute_input": "2025-09-10T15:10:25.659324Z",
     "iopub.status.busy": "2025-09-10T15:10:25.659172Z",
     "iopub.status.idle": "2025-09-10T15:10:25.662386Z",
     "shell.execute_reply": "2025-09-10T15:10:25.661969Z",
     "shell.execute_reply.started": "2025-09-10T15:10:25.659311Z"
    },
    "nbgrader": {
     "cell_type": "code",
     "checksum": "004d785ab89000e6c2291d352648ce6a",
     "grade": true,
     "grade_id": "cell-2127e421d4c34320",
     "locked": true,
     "points": 1,
     "schema_version": 3,
     "solution": false,
     "task": false
    }
   },
   "outputs": [],
   "source": [
    "# AUTOGRADING for pascal\n",
    "P = np.array([[1, 0, 0, 0, 0],\n",
    "              [1, 1, 0, 0, 0],\n",
    "              [1, 2, 1, 0, 0],\n",
    "              [1, 3, 3, 1, 0],\n",
    "              [1, 4, 6, 4, 1]])\n",
    "assert np.allclose(P, pascal(5))\n"
   ]
  },
  {
   "cell_type": "code",
   "execution_count": 19,
   "metadata": {
    "deletable": false,
    "editable": false,
    "execution": {
     "iopub.execute_input": "2025-09-10T15:10:25.663228Z",
     "iopub.status.busy": "2025-09-10T15:10:25.662918Z",
     "iopub.status.idle": "2025-09-10T15:10:25.666287Z",
     "shell.execute_reply": "2025-09-10T15:10:25.665880Z",
     "shell.execute_reply.started": "2025-09-10T15:10:25.663213Z"
    },
    "nbgrader": {
     "cell_type": "code",
     "checksum": "54b0f1a38abe983269097460f9a8217c",
     "grade": true,
     "grade_id": "cell-b5374834267e445b",
     "locked": true,
     "points": 1,
     "schema_version": 3,
     "solution": false,
     "task": false
    }
   },
   "outputs": [],
   "source": [
    "# AUTOGRADING for flip\n",
    "arr = np.array([[1, 2, 3, 4, 5], \n",
    "                [6, 7, 8, 9, 10], \n",
    "                [11, 12, 13, 14, 15]])\n",
    "F = np.array([[5, 4, 3, 2, 1],\n",
    "              [10, 9, 8, 7, 6],\n",
    "              [15, 14, 13, 12, 11]])\n",
    "assert np.allclose(F, flip(arr))\n"
   ]
  },
  {
   "cell_type": "markdown",
   "metadata": {
    "deletable": false,
    "editable": false,
    "nbgrader": {
     "cell_type": "markdown",
     "checksum": "87ee8331464ffe34a59dc493ab7a8144",
     "grade": false,
     "grade_id": "cell-6bc290e9a1378176",
     "locked": true,
     "schema_version": 3,
     "solution": false,
     "task": false
    }
   },
   "source": [
    "## Standard Gram-Schmidt Process\n",
    "\n",
    "Recall that every rectangular $n \\times m$ ($n \\geq m$) matrix $A$ with linearly indepedent columns can be represented as a product\n",
    "$$A = QR, \\qquad \\text{or in matrix form} \\qquad \\begin{bmatrix}\\mid & \\mid & & \\mid \\\\ v_1 & v_2 & \\dots & v_m \\\\ \\mid & \\mid & & \\mid \\end{bmatrix} = \\begin{bmatrix}\\mid & \\mid & & \\mid \\\\ u_1 & u_2 & \\dots & u_m \\\\ \\mid & \\mid & & \\mid \\end{bmatrix} \\begin{bmatrix} r_{11} & r_{12} & \\dots & r_{1m} \\\\ & r_{22} & \\dots & r_{2m}\\\\ & & \\ddots & \\vdots \\\\ & & & r_{mm} \\end{bmatrix}$$\n",
    "where $Q$ is an $n \\times m$ matrix whose columns are orthonormal and $R$ is an upper-triangular $m \\times m$ matrix. In this assignment your task will be to implement several methods to achieve this factorization for a given matrix $A$. \n",
    "\n",
    "Our first goal is to orthogonalize a system of linearly independent vectors $v_1, \\dots, v_m$ (i.e. the columns of some matrix $A$). The standard procedure for this task is the Gram-Schmidt process as covered in the lecture:\n",
    "\\begin{align*}\n",
    "u_1 &= \\frac{v_1}{r_{11}} \\\\\n",
    "v_2^\\perp &= v_2 - r_{12} u_1, \\quad u_2 = \\frac{v_2^\\perp}{r_{22}} \\\\\n",
    "v_3^\\perp &= v_3 - r_{13} u_1 - r_{23} u_2, \\quad u_3 = \\frac{v_2^\\perp}{r_{33}} \\\\\n",
    "\\vdots\n",
    "\\end{align*}\n",
    "where\n",
    "\\begin{align*}\n",
    "r_{jj} &= \\|v_j - \\sum_{i=1}^{j-1} r_{ij} u_i\\| &&\\quad \\text{for }\\ 1 \\leq j \\leq m\\ \\\\\n",
    "r_{ij} &= \\langle v_j, u_i \\rangle &&\\quad \\text{for } 1 \\leq i < j \\leq m\n",
    "\\end{align*}"
   ]
  },
  {
   "cell_type": "markdown",
   "metadata": {
    "deletable": false,
    "editable": false,
    "nbgrader": {
     "cell_type": "markdown",
     "checksum": "6e202309dce7e63c2acd77c80b106767",
     "grade": false,
     "grade_id": "cell-0b756a284e5ee41d",
     "locked": true,
     "schema_version": 3,
     "solution": false,
     "task": false
    }
   },
   "source": [
    "## Problem 2: (Classical) Gram-Schmidt Orthogonalization (3 points)\n",
    "\n",
    "Implement the described Gram-Schmidt algorithm as the function `gram_schmidt_qr` below that takes a rectangular array $A$ and outputs $Q$ and $R$. \n",
    "\n",
    "**IMPORTANT**: Do not use any built-in QR functions like `np.linalg.qr` or `scipy.lingalg.qr`. These will give different results anyway, as these use a different numerical scheme. \n",
    "\n",
    "**HINT**: The following functions for vectors might be useful: `np.linalg.norm` to compute the norm of a 1-D array and `np.inner` to compute the regular dot product between two 1-D arrays."
   ]
  },
  {
   "cell_type": "code",
   "execution_count": 20,
   "metadata": {
    "deletable": false,
    "execution": {
     "iopub.execute_input": "2025-09-10T15:10:25.667135Z",
     "iopub.status.busy": "2025-09-10T15:10:25.666821Z",
     "iopub.status.idle": "2025-09-10T15:10:25.671245Z",
     "shell.execute_reply": "2025-09-10T15:10:25.670839Z",
     "shell.execute_reply.started": "2025-09-10T15:10:25.667121Z"
    },
    "nbgrader": {
     "cell_type": "code",
     "checksum": "fa95cae7a19466bf908d2d99750c0f24",
     "grade": false,
     "grade_id": "cell-5b605d5073bf6422",
     "locked": false,
     "schema_version": 3,
     "solution": true,
     "task": false
    }
   },
   "outputs": [],
   "source": [
    "def gram_schmidt_qr(A):\n",
    "    \"\"\"\n",
    "    Computes the QR factorization of a matrix A with linearly independent columns\n",
    "    by means of the classical Gram-Schmidt process, where Q is an orthogonal matrix \n",
    "    and R is upper-triangular with positive entries on its diagonal. \n",
    "    \n",
    "    Parameters\n",
    "    ----------\n",
    "        A (ndarray): A two-dimensional array of size n by m with n >= m\n",
    "            whose columns are linearly independent\n",
    "    \n",
    "    Returns\n",
    "    -------\n",
    "        Q (ndarray): A two-dimensional array of size n by m\n",
    "        R (ndarray): A two-dimensional array of size m by m\n",
    "        \n",
    "    \"\"\"\n",
    "    \n",
    "    n, m = A.shape\n",
    "    Q = np.zeros((n,m))\n",
    "    R = np.zeros((m,m))\n",
    "    \n",
    "    # YOUR CODE HERE\n",
    "    R[0,0] = np.linalg.norm(A[:,0])\n",
    "    Q[:,0] = A[:,0] / R[0,0]\n",
    "\n",
    "    for j in range(1, m):\n",
    "        v = A[:,j]\n",
    "        for i in range(0, j):\n",
    "            R[i, j] = np.inner(Q[:,i], A[:,j])\n",
    "            v = v - R[i, j] * Q[:,i]\n",
    "        R[j, j] = np.linalg.norm(v)\n",
    "        Q[:,j] = v / R[j, j]\n",
    "    \n",
    "    return Q, R\n"
   ]
  },
  {
   "cell_type": "code",
   "execution_count": 21,
   "metadata": {
    "execution": {
     "iopub.execute_input": "2025-09-10T15:10:25.672131Z",
     "iopub.status.busy": "2025-09-10T15:10:25.671770Z",
     "iopub.status.idle": "2025-09-10T15:10:25.674003Z",
     "shell.execute_reply": "2025-09-10T15:10:25.673611Z",
     "shell.execute_reply.started": "2025-09-10T15:10:25.672116Z"
    }
   },
   "outputs": [],
   "source": [
    "# You can use this code cell to play around with your function to make sure\n",
    "# it does what it is intended to do, i.e. to debug your code. "
   ]
  },
  {
   "cell_type": "code",
   "execution_count": 22,
   "metadata": {
    "execution": {
     "iopub.execute_input": "2025-09-10T15:10:25.676731Z",
     "iopub.status.busy": "2025-09-10T15:10:25.676359Z",
     "iopub.status.idle": "2025-09-10T15:10:25.680019Z",
     "shell.execute_reply": "2025-09-10T15:10:25.679605Z",
     "shell.execute_reply.started": "2025-09-10T15:10:25.676717Z"
    }
   },
   "outputs": [
    {
     "name": "stdout",
     "output_type": "stream",
     "text": [
      "[[ 0.66666667 -0.66666667]\n",
      " [ 0.33333333  0.66666667]\n",
      " [-0.66666667 -0.33333333]] \n",
      "\n",
      "[[3. 9.]\n",
      " [0. 6.]]\n"
     ]
    }
   ],
   "source": [
    "# Test case I\n",
    "np.set_printoptions(suppress=True) # Prints nicer numbers, you may ignore this\n",
    "\n",
    "A = np.array([[2,2], [1,7], [-2, -8]])\n",
    "Q, R = gram_schmidt_qr(A)\n",
    "print(Q, \"\\n\")\n",
    "print(R)"
   ]
  },
  {
   "cell_type": "markdown",
   "metadata": {
    "deletable": false,
    "editable": false,
    "nbgrader": {
     "cell_type": "markdown",
     "checksum": "1f1d5fd5ba7bcfed99d80c1611fe37b1",
     "grade": false,
     "grade_id": "cell-f57106649aec713f",
     "locked": true,
     "schema_version": 3,
     "solution": false,
     "task": false
    }
   },
   "source": [
    "Expected output:\n",
    "\n",
    "    [[ 0.66666667 -0.66666667]\n",
    "     [ 0.33333333  0.66666667]\n",
    "     [-0.66666667 -0.33333333]]\n",
    "     \n",
    "    [[3. 9.]\n",
    "     [0. 6.]]"
   ]
  },
  {
   "cell_type": "code",
   "execution_count": 23,
   "metadata": {
    "execution": {
     "iopub.execute_input": "2025-09-10T15:10:25.680657Z",
     "iopub.status.busy": "2025-09-10T15:10:25.680512Z",
     "iopub.status.idle": "2025-09-10T15:10:25.684096Z",
     "shell.execute_reply": "2025-09-10T15:10:25.683691Z",
     "shell.execute_reply.started": "2025-09-10T15:10:25.680643Z"
    }
   },
   "outputs": [
    {
     "name": "stdout",
     "output_type": "stream",
     "text": [
      "[[-0.5  0.5  0.5]\n",
      " [ 0.5  0.5 -0.5]\n",
      " [ 0.5  0.5  0.5]\n",
      " [-0.5  0.5 -0.5]] \n",
      "\n",
      "[[ 2. -5.  2.]\n",
      " [ 0.  3. -2.]\n",
      " [ 0.  0.  2.]]\n"
     ]
    }
   ],
   "source": [
    "# Test case II\n",
    "B = np.array([[-1, 4, -1], [1, -1, -1], [1, -1, 1], [-1, 4, -3]])\n",
    "Q, R = gram_schmidt_qr(B)\n",
    "print(Q, \"\\n\")\n",
    "print(R)"
   ]
  },
  {
   "cell_type": "markdown",
   "metadata": {
    "deletable": false,
    "editable": false,
    "nbgrader": {
     "cell_type": "markdown",
     "checksum": "3da7e17e77a180ded754ea805886a869",
     "grade": false,
     "grade_id": "cell-c4365bd221da24cd",
     "locked": true,
     "schema_version": 3,
     "solution": false,
     "task": false
    }
   },
   "source": [
    "Expected output:\n",
    "\n",
    "    [[-0.5  0.5  0.5]\n",
    "     [ 0.5  0.5 -0.5]\n",
    "     [ 0.5  0.5  0.5]\n",
    "     [-0.5  0.5 -0.5]]\n",
    "     \n",
    "    [[ 2. -5.  2.]\n",
    "     [ 0.  3. -2.]\n",
    "     [ 0.  0.  2.]]"
   ]
  },
  {
   "cell_type": "code",
   "execution_count": 24,
   "metadata": {
    "deletable": false,
    "editable": false,
    "execution": {
     "iopub.execute_input": "2025-09-10T15:10:25.684959Z",
     "iopub.status.busy": "2025-09-10T15:10:25.684642Z",
     "iopub.status.idle": "2025-09-10T15:10:25.692175Z",
     "shell.execute_reply": "2025-09-10T15:10:25.691766Z",
     "shell.execute_reply.started": "2025-09-10T15:10:25.684945Z"
    },
    "nbgrader": {
     "cell_type": "code",
     "checksum": "ac853e0a3481ffacaa358093769f3b9d",
     "grade": true,
     "grade_id": "cell-d5d9c67e49709725",
     "locked": true,
     "points": 3,
     "schema_version": 3,
     "solution": false,
     "task": false
    }
   },
   "outputs": [],
   "source": [
    "# AUTOGRADER\n",
    "A = np.array([[2,2], [1,7], [-2, -8]])\n",
    "Q, R = gram_schmidt_qr(A)\n",
    "Q_exact, R_exact = 1/3*np.array([[2, -2], [1, 2], [-2, -1]]), np.array([[3, 9], [0, 6]])\n",
    "\n",
    "assert np.allclose(Q, Q_exact)\n",
    "assert np.allclose(R, R_exact)\n",
    "\n",
    "B = np.array([[-1, 4, -1], [1, -1, -1], [1, -1, 1], [-1, 4, -3]])\n",
    "Q, R = gram_schmidt_qr(B)\n",
    "Q_exact, R_exact = 1/2 * np.array([[-1, 1, 1], [1, 1, -1], [1, 1, 1], [-1, 1, -1]]), np.array([[2, -5, 2], [0, 3, -2], [0, 0, 2]])\n",
    "\n",
    "assert np.allclose(Q, Q_exact)\n",
    "assert np.allclose(R, R_exact)\n"
   ]
  },
  {
   "cell_type": "markdown",
   "metadata": {
    "deletable": false,
    "editable": false,
    "nbgrader": {
     "cell_type": "markdown",
     "checksum": "466b4f1bbf8935ee7c97af68261d80b5",
     "grade": false,
     "grade_id": "cell-04cc0ff2889d80db",
     "locked": true,
     "schema_version": 3,
     "solution": false,
     "task": false
    }
   },
   "source": [
    "## Givens Triangularization \n",
    "\n",
    "Another principal method for computing QR factorizations is Givens triangularization, which is numerically more stable than Gram-Schmidt orthogonalization. The Givens algorithm is a process of \"orthogonal triangularization\", making a matrix triangular by a sequence of orthogonal matrix operations. \n",
    "\n",
    "In contrast to the Gram-Schmidt iteration which applies a succession of elementary triangular matrices $R_i$ on the right of $A$ resulting in an orthogonal matrix (see optional section at the end of this assignment), the Givens method applies a succession of elementary orthogonal matrices $Q_i$ on the left of $A$ so that the resulting matrix\n",
    "$$Q_k \\dots Q_2 Q_1 A = R$$\n",
    "is upper-triangular. The product $Q = Q_1^T Q_2^T \\dots Q_k^T$ is also orthogonal, and therefore $A = QR$ is our $QR$ factorization of $A$. We can summarize this method as orthogonal triangularization. \n",
    "\n",
    "### Givens Rotations\n",
    "\n",
    "At the heart of the Givens method are orthogonal matrices to introduce zeroes. To illustrate how we create zeroes we consider the case where $A$ is a $2 \\times 2$ matrix, for which we only need to make $a_{21}$ zero. The QR factorization computes $Q A = R$, or\n",
    "$$\\begin{bmatrix}\n",
    "c & -s \\\\\n",
    "s & c \\end{bmatrix} \\begin{bmatrix} a_{11} & a_{12} \\\\ a_{21} & a_{22} \\end{bmatrix} \n",
    "= \\begin{bmatrix}\n",
    "r_{11} & r_{12} \\\\\n",
    "0 & r_{22} \\end{bmatrix},$$\n",
    "where $c^2 + s^2 = 1$ to ensure $Q$ is orthogonal. We have $c = \\cos(\\theta)$ and $s = \\sin(\\theta)$ for some $\\theta$. \n",
    "\n",
    "From the relationship $s a_{11} + c a_{21} = 0$ we obtain\n",
    "$$c^2 a_{21}^2 = s^2 a_{11}^2 = (1-c^2) a_{11}^2,$$\n",
    "which yields\n",
    "$$c = \\pm \\frac{a_{11}}{\\sqrt{a_{21}^2 + a_{11}^2}}.$$\n",
    "\n",
    "For now we choose the $+$ sign. Then we obtain\n",
    "$$s^2 = 1-c^2 = 1 - \\frac{a_{11}^2}{a_{21}^2 + a_{11}^2} = \\frac{a_{21}^2}{a_{21}^2 + a_{11}^2},$$\n",
    "or\n",
    "$$s = \\pm \\frac{a_{21}}{\\sqrt{a_{21}^2 + a_{11}^2}}.$$\n",
    "\n",
    "To ensure that $sa_{11} + ca_{21}=0$ we choose the $-$ sign. As a result we have\n",
    "$$r_{11} = a_{11} \\frac{a_{11}}{\\sqrt{a_{21}^2 + a_{11}^2}} - a_{21} \\frac{-a_{21}}{\\sqrt{a_{21}^2 + a_{11}^2}} = \\sqrt{a_{21}^2 + a_{11}^2}.$$\n",
    "\n",
    "The matrix $Q = \\begin{bmatrix} c & -s \\\\ s & c \\end{bmatrix}$ is called a Givens rotation. It is called a rotation because it is orthogonal, and therefore length preserving, and also because there is an angle $\\theta$ such that $\\sin(\\theta) = s$ and $\\cos(\\theta) = c$. \n",
    "\n",
    "The effect of pre-multiplying a vector by $Q$ is to rotate the vector counterclockwise through the angle $\\theta$. In particular, if $a = r\\cos(-\\theta)$ and $b = r\\sin(-\\theta)$, where the negative sign in front of the angle $\\theta$ is for illustrative purposes, then\n",
    "$$\\begin{bmatrix} c & -s \\\\ s & c \\end{bmatrix} \\begin{bmatrix} a \\\\ b \\end{bmatrix} = \\begin{bmatrix} r \\\\ 0 \\end{bmatrix}, \\quad r = \\sqrt{a^2 + b^2}.$$\n",
    "That is, the point $(a,b)$ is rotated to the positive $x$-axis, effectively \"undoing\" the counterclockwise rotation by $-\\theta$ inherent in polar coordinates. \n",
    "\n",
    "Now to see how Givens rotations can be used to create zero entries of an $n \\times m$ matrix $A$, suppose that we have the vector\n",
    "$$\\begin{bmatrix} \\times \\\\ \\vdots \\\\ \\times \\\\ a \\\\ \\times \\\\ \\vdots \\\\ \\times \\\\ b \\\\ \\times \\\\ \\vdots \\\\ \\times \\end{bmatrix}$$\n",
    "that is a column of $A$. Then\n",
    "$$\\begin{bmatrix} 1 & & & & & & & & & & \\\\\n",
    "& \\ddots & & & & & & & & & \\\\\n",
    "& & 1 & & & & & & & & \\\\\n",
    "& & & c & & & & -s & & & \\\\\n",
    "& & & & 1 & & & & & & \\\\\n",
    "& & & & & \\ddots & & & & & \\\\\n",
    "& & & & & & 1 & & & & \\\\\n",
    "& & & s & & & & c & & & \\\\\n",
    "& & & & & & & & 1 & & \\\\\n",
    "& & & & & & & & & \\ddots & \\\\\n",
    "& & & & & & & & & & 1\\\\\n",
    "\\end{bmatrix} \\begin{bmatrix} \\times \\\\ \\vdots \\\\ \\times \\\\ a \\\\ \\times \\\\ \\vdots \\\\ \\times \\\\ b \\\\ \\times \\\\ \\vdots \\\\ \\times \\end{bmatrix} = \\begin{bmatrix} \\times \\\\ \\vdots \\\\ \\times \\\\ \\pmb{r} \\\\ \\times \\\\ \\vdots \\\\ \\times \\\\ \\pmb{0} \\\\ \\times \\\\ \\vdots \\\\ \\times \\end{bmatrix},$$\n",
    "where blank entries are zero.\n",
    "\n",
    "### Successive rotations\n",
    "\n",
    "To transform $A$ into an upper triangular matrix $R$, we can find a product of rotations $Q$ such that $Q A = R$ as illustrated below. In these matrices, the symbol $\\times$ represents an entry that is not necesssarily zero, and boldfacing them indicates an entry that has just been changed.  \n",
    "\n",
    "\\begin{align*}\n",
    "\\begin{bmatrix}\n",
    "\\times & \\times & \\times \\\\ \n",
    "\\times & \\times & \\times \\\\ \n",
    "\\times & \\times & \\times \\\\ \n",
    "\\times & \\times & \\times \\\\ \n",
    "\\times & \\times & \\times \n",
    "\\end{bmatrix} &\\xrightarrow{Q_1} \\begin{bmatrix}\n",
    "\\times & \\times & \\times \\\\ \n",
    "\\times & \\times & \\times \\\\ \n",
    "\\times & \\times & \\times \\\\ \n",
    "\\pmb{\\times} & \\pmb{\\times} & \\pmb{\\times} \\\\ \n",
    "\\pmb{0} & \\pmb{\\times} & \\pmb{\\times} \n",
    "\\end{bmatrix} \\xrightarrow{Q_2} \\begin{bmatrix}\n",
    "\\times & \\times & \\times \\\\ \n",
    "\\times & \\times & \\times \\\\ \n",
    "\\pmb{\\times} & \\pmb{\\times} & \\pmb{\\times} \\\\ \n",
    "\\pmb{0} & \\pmb{\\times} & \\pmb{\\times} \\\\ \n",
    "0 & \\times & \\times\n",
    "\\end{bmatrix} \\xrightarrow{Q_3} \\begin{bmatrix}\n",
    "\\times & \\times & \\times \\\\ \n",
    "\\pmb{\\times} & \\pmb{\\times} & \\pmb{\\times} \\\\ \n",
    "\\pmb{0} & \\pmb{\\times} & \\pmb{\\times} \\\\ \n",
    "0 & \\times & \\times \\\\\n",
    "0 & \\times & \\times \n",
    "\\end{bmatrix} \\xrightarrow{Q_4} \\begin{bmatrix}\n",
    "\\pmb{\\times} & \\pmb{\\times} & \\pmb{\\times} \\\\ \n",
    "\\pmb{0} & \\pmb{\\times} & \\pmb{\\times} \\\\ \n",
    "0 & \\times & \\times \\\\\n",
    "0 & \\times & \\times \\\\\n",
    "0 & \\times & \\times \n",
    "\\end{bmatrix} \\\\\n",
    "&\\xrightarrow{Q_5} \\begin{bmatrix}\n",
    "\\times & \\times & \\times \\\\ \n",
    "0 & \\times & \\times \\\\ \n",
    "0 & \\times & \\times \\\\\n",
    "0 & \\pmb{\\times} & \\pmb{\\times} \\\\\n",
    "0 & \\pmb{0} & \\pmb{\\times} \n",
    "\\end{bmatrix} \\xrightarrow{Q_6} \\begin{bmatrix}\n",
    "\\times & \\times & \\times \\\\ \n",
    "0 & \\times & \\times \\\\\n",
    "0 & \\pmb{\\times} & \\pmb{\\times} \\\\\n",
    "0 & \\pmb{0} & \\pmb{\\times} \\\\\n",
    "0 & 0 & \\times \n",
    "\\end{bmatrix} \\xrightarrow{Q_7} \\begin{bmatrix}\n",
    "\\times & \\times & \\times \\\\ \n",
    "0 & \\pmb{\\times} & \\pmb{\\times} \\\\ \n",
    "0 & \\pmb{0} & \\pmb{\\times} \\\\\n",
    "0 & 0 & \\times \\\\\n",
    "0 & 0 & \\times \n",
    "\\end{bmatrix} \\\\\n",
    "& \\xrightarrow{Q_8} \\begin{bmatrix}\n",
    "\\times & \\times & \\times \\\\ \n",
    "0 & \\times & \\times \\\\ \n",
    "0 & 0 & \\times \\\\\n",
    "0 & 0 & \\pmb{\\times} \\\\\n",
    "0 & 0 & \\pmb{0} \n",
    "\\end{bmatrix} \\xrightarrow{Q_9} \\begin{bmatrix}\n",
    "\\times & \\times & \\times \\\\ \n",
    "0 & \\times & \\times \\\\ \n",
    "0 & 0 & \\pmb{\\times} \\\\\n",
    "0 & 0 & \\pmb{0} \\\\\n",
    "0 & 0 & 0\n",
    "\\end{bmatrix}\n",
    "\\end{align*}\n",
    "\n",
    "\n",
    "### Overflow and underflow issues\n",
    "\n",
    "It is important to note that the straightforward approach to computing the entries $c$ and $s$ of the Givens rotation,\n",
    "$$c = \\frac{a}{\\sqrt{a^2 + b^2}}, \\quad s = \\frac{-b}{\\sqrt{a^2+b^2}}$$\n",
    "is not always advisable, because in floating-point arithmetic, the computation of $\\sqrt{a^2 + b^2}$ could overflow or underflow. To get around this problem, suppose that $|a| \\geq |b|$. Then, we can instead compute\n",
    "$$t = \\frac{b}{a}, \\quad c = \\frac{\\text{sgn}(a)}{\\sqrt{1+t^2}}, \\quad s = -c t,$$\n",
    "which is guaranteed not to overflow since the only number that is squared is at most one in magnitude.\n",
    "\n",
    "Similarly, if $|b| \\geq |a|$, then we compute\n",
    "$$t = \\frac{a}{b}, \\quad s = \\frac{-\\text{sgn}(b)}{\\sqrt{1+t^2}}, \\quad c = -st.$$\n",
    "\n",
    "In case $b=0$ we can take\n",
    "$$c = \\text{sgn}(a), \\quad s = 0,$$\n",
    "and in case $a=0$ we can take\n",
    "$$c = 0, \\quad s = -\\text{sgn}(b).$$\n",
    "\n",
    "Here $\\text{sgn}(x)$ represent the sign of x, that is, $\\text{sgn}(x) = 1$ if $x \\geq 0$ and $\\text{sgn}(x) = -1$ if $x<0$.\n",
    "\n",
    "**Note**: In this QR factorization the rectangular $n \\times m$ ($n \\geq m$) matrix $A$ with linearly indepedent columns will be represented as a product\n",
    "$$A = QR, \\qquad \\text{or in matrix form} \\qquad \\begin{bmatrix}\\mid & \\mid & & \\mid \\\\ v_1 & v_2 & \\dots & v_m \\\\ \\mid & \\mid & & \\mid \\end{bmatrix} = \\begin{bmatrix}\\mid & \\mid & & \\mid \\\\ u_1 & u_2 & \\dots & u_n \\\\ \\mid & \\mid & & \\mid \\end{bmatrix} \\begin{bmatrix} r_{11} & r_{12} & \\dots & r_{1m} \\\\ & r_{22} & \\dots & r_{2m}\\\\ & & \\ddots & \\vdots \\\\ & & & r_{mm} \\\\ & & & \\end{bmatrix}$$\n",
    "where $Q$ is an orthogonal $n \\times n$ matrix and $R$ is an upper-triangular $n \\times m$ matrix. So when $A$ is not square, $R$ will contain extra rows of zeroes at the bottom. Moreover, we also allow for negative entries along the diagonal (as opposed to the QR factorization we obtain by applying the Gram-Schmidt process). "
   ]
  },
  {
   "cell_type": "markdown",
   "metadata": {
    "deletable": false,
    "editable": false,
    "nbgrader": {
     "cell_type": "markdown",
     "checksum": "774e41e2b9c732c3864272b224579783",
     "grade": false,
     "grade_id": "cell-bf1a45aec0d00a98",
     "locked": true,
     "schema_version": 3,
     "solution": false,
     "task": false
    }
   },
   "source": [
    "## Problem 3: Givens QR Factorization (5 = 2 + 3 points)\n",
    "\n",
    "Implement both the functions `givens_rotation` and `givens_qr` below. \n",
    "\n",
    "**Hint:** You can multiply two 2 dimensional arrays (i.e. matrices) $A$ and $B$ by `A @ B` or by `np.matmul(A,B)`. You can compute the inverse of a matrix by [`np.lingalg.inv`](https://numpy.org/doc/stable/reference/generated/numpy.linalg.inv.html) and the transpose of a matrix by [`np.transpose`](https://numpy.org/doc/stable/reference/generated/numpy.transpose.html)."
   ]
  },
  {
   "cell_type": "code",
   "execution_count": 25,
   "metadata": {
    "deletable": false,
    "editable": false,
    "execution": {
     "iopub.execute_input": "2025-09-10T15:10:25.692838Z",
     "iopub.status.busy": "2025-09-10T15:10:25.692690Z",
     "iopub.status.idle": "2025-09-10T15:10:25.695421Z",
     "shell.execute_reply": "2025-09-10T15:10:25.695001Z",
     "shell.execute_reply.started": "2025-09-10T15:10:25.692824Z"
    },
    "nbgrader": {
     "cell_type": "code",
     "checksum": "03d4afe31638f9e47afd1ac8bdfb7f0a",
     "grade": false,
     "grade_id": "cell-e6e35b3dc8097e04",
     "locked": true,
     "schema_version": 3,
     "solution": false,
     "task": false
    }
   },
   "outputs": [],
   "source": [
    "def sign(x):\n",
    "    \"\"\"\n",
    "    To be used in givens_rotation below in the computation of\n",
    "    the absolute value\n",
    "    (The builtin function np.sign gives zero the sign zero, \n",
    "    which we don't want)\n",
    "    \"\"\"\n",
    "    if(x >= 0):\n",
    "        return(1)\n",
    "    else:\n",
    "        return(-1)"
   ]
  },
  {
   "cell_type": "code",
   "execution_count": 26,
   "metadata": {
    "deletable": false,
    "execution": {
     "iopub.execute_input": "2025-09-10T15:10:25.696328Z",
     "iopub.status.busy": "2025-09-10T15:10:25.695955Z",
     "iopub.status.idle": "2025-09-10T15:10:25.700130Z",
     "shell.execute_reply": "2025-09-10T15:10:25.699726Z",
     "shell.execute_reply.started": "2025-09-10T15:10:25.696313Z"
    },
    "nbgrader": {
     "cell_type": "code",
     "checksum": "e71e11f0aa8d724d0197e22d4caa6203",
     "grade": false,
     "grade_id": "cell-e6e35b3dc8097e05",
     "locked": false,
     "schema_version": 3,
     "solution": true,
     "task": false
    }
   },
   "outputs": [],
   "source": [
    "def givens_rotation(i, j, a, b, n):\n",
    "    \"\"\"\n",
    "    Returns the Givens rotation matrix Q that rotates a vector x\n",
    "    of length n with x[i] = a and x[j] = b to a vector y=Qx \n",
    "    with y[i] = r >= 0 and y[j] = 0.\n",
    "    \n",
    "    Parameters\n",
    "    ----------\n",
    "        i (int): integer between 0 and (n-1) representing i^th entry of vector x\n",
    "        j (int): integer between i and (n-1) representing j^th entry of x\n",
    "        a (float): i^th coefficient of vector x\n",
    "        b (float): j^th coefficient of vector x\n",
    "        n (int): length of vector x\n",
    "        \n",
    "    Returns\n",
    "    -------\n",
    "        Q (ndarray): A two-dimensional array of size n by n\n",
    "    \n",
    "    \"\"\"\n",
    "    \n",
    "    # YOUR CODE HERE\n",
    "    Q=np.eye(n)\n",
    "    if b==0:\n",
    "        c=sign(a)\n",
    "        s=0\n",
    "    elif a==0:\n",
    "        c=0\n",
    "        s=-sign(b)\n",
    "    else:  \n",
    "        if a>=b:\n",
    "            t=b/a\n",
    "            c=sign(a)/np.sqrt(1+t**2)\n",
    "            s=-c*t\n",
    "        else:\n",
    "            t=a/b\n",
    "            s=-sign(b)/np.sqrt(1+t**2)\n",
    "            c=-s*t\n",
    "    \n",
    "    Q[i,i]=c\n",
    "    Q[j,j]=c\n",
    "    Q[i,j]=-s\n",
    "    Q[j,i]=s\n",
    "    return(Q)"
   ]
  },
  {
   "cell_type": "code",
   "execution_count": 27,
   "metadata": {
    "deletable": false,
    "execution": {
     "iopub.execute_input": "2025-09-10T15:10:25.700968Z",
     "iopub.status.busy": "2025-09-10T15:10:25.700685Z",
     "iopub.status.idle": "2025-09-10T15:10:25.704380Z",
     "shell.execute_reply": "2025-09-10T15:10:25.703975Z",
     "shell.execute_reply.started": "2025-09-10T15:10:25.700953Z"
    },
    "nbgrader": {
     "cell_type": "code",
     "checksum": "64447edaecafea329e7460df4a8c11c2",
     "grade": false,
     "grade_id": "cell-e6e35b3dc8097e06",
     "locked": false,
     "schema_version": 3,
     "solution": true,
     "task": false
    }
   },
   "outputs": [],
   "source": [
    "def givens_qr(A):\n",
    "    \"\"\"\n",
    "    Computes a QR factorization of a matrix A by means of Givens\n",
    "    rotations, where Q is an orthogonal matrix and R is upper-triangular. \n",
    "    \n",
    "    Parameters\n",
    "    ----------\n",
    "        A (ndarray): A two-dimensional array of size n by m with n >= m\n",
    "            whose columns are linearly independent\n",
    "    \n",
    "    Returns\n",
    "    -------\n",
    "        Q (ndarray): A two-dimensional array of size n by n\n",
    "        R (ndarray): A two-dimensional array of size n by m\n",
    "    \"\"\"\n",
    "    \n",
    "    # YOUR CODE HERE\n",
    "    n, m = A.shape\n",
    "    Q = np.eye(n)\n",
    "    R = A.copy()\n",
    "    \n",
    "    for j in range(m):\n",
    "        for i in range(n-1, j, -1):\n",
    "            if R[i, j] != 0:\n",
    "                a = R[i-1, j]\n",
    "                b = R[i, j]\n",
    "                G = givens_rotation(i-1, i, a, b, n)\n",
    "                R = G @ R\n",
    "                Q = Q @ np.transpose(G)\n",
    "    \n",
    "    return Q, R\n",
    "    "
   ]
  },
  {
   "cell_type": "code",
   "execution_count": 28,
   "metadata": {
    "execution": {
     "iopub.execute_input": "2025-09-10T15:10:25.705107Z",
     "iopub.status.busy": "2025-09-10T15:10:25.704912Z",
     "iopub.status.idle": "2025-09-10T15:10:25.707107Z",
     "shell.execute_reply": "2025-09-10T15:10:25.706720Z",
     "shell.execute_reply.started": "2025-09-10T15:10:25.705093Z"
    }
   },
   "outputs": [],
   "source": [
    "# You can use this code cell to play around with your functions to make sure\n",
    "# they do what they are intended to do, i.e. to debug your code. \n"
   ]
  },
  {
   "cell_type": "code",
   "execution_count": 29,
   "metadata": {
    "deletable": false,
    "editable": false,
    "execution": {
     "iopub.execute_input": "2025-09-10T15:10:25.707919Z",
     "iopub.status.busy": "2025-09-10T15:10:25.707640Z",
     "iopub.status.idle": "2025-09-10T15:10:25.711455Z",
     "shell.execute_reply": "2025-09-10T15:10:25.711049Z",
     "shell.execute_reply.started": "2025-09-10T15:10:25.707905Z"
    },
    "nbgrader": {
     "cell_type": "code",
     "checksum": "dfbe195d6f192b303a7813b6710d59c1",
     "grade": false,
     "grade_id": "cell-e062080328e97aff",
     "locked": true,
     "schema_version": 3,
     "solution": false,
     "task": false
    }
   },
   "outputs": [
    {
     "name": "stdout",
     "output_type": "stream",
     "text": [
      "[[ 1.   0.   0. ]\n",
      " [ 0.   0.6 -0.8]\n",
      " [ 0.   0.8  0.6]] \n",
      "\n",
      "[[ 1.          0.          0.          0.        ]\n",
      " [ 0.          0.38461538  0.92307692  0.        ]\n",
      " [ 0.         -0.92307692  0.38461538  0.        ]\n",
      " [ 0.          0.          0.          1.        ]] \n",
      "\n",
      "[[ 1.  0.  0.  0.  0.]\n",
      " [ 0. -1.  0.  0.  0.]\n",
      " [ 0.  0.  1.  0.  0.]\n",
      " [ 0.  0.  0. -1.  0.]\n",
      " [ 0.  0.  0.  0.  1.]]\n"
     ]
    }
   ],
   "source": [
    "# Test case for givens_rotation\n",
    "np.set_printoptions(suppress=True) # Prints nicer numbers, you may ignore this line\n",
    "\n",
    "Q_1 = givens_rotation(1, 2, 3, -4, 3)\n",
    "print(Q_1, \"\\n\")\n",
    "\n",
    "Q_2 = givens_rotation(1, 2, 5, 12, 4)\n",
    "print(Q_2, \"\\n\")\n",
    "\n",
    "Q_3 = givens_rotation(1, 3, -4, 0, 5)\n",
    "print(Q_3)"
   ]
  },
  {
   "cell_type": "markdown",
   "metadata": {
    "deletable": false,
    "editable": false,
    "nbgrader": {
     "cell_type": "markdown",
     "checksum": "f7823975faee82d1236df11a430f95f3",
     "grade": false,
     "grade_id": "cell-438a613fd46085cd",
     "locked": true,
     "schema_version": 3,
     "solution": false,
     "task": false
    }
   },
   "source": [
    "Expected output:\n",
    "\n",
    "    [[ 1.   0.   0. ]\n",
    "     [ 0.   0.6 -0.8]\n",
    "     [ 0.   0.8  0.6]]\n",
    "\n",
    "    [[ 1.          0.          0.          0.        ]\n",
    "     [ 0.          0.38461538  0.92307692  0.        ]\n",
    "     [ 0.         -0.92307692  0.38461538  0.        ]\n",
    "     [ 0.          0.          0.          1.        ]]\n",
    "\n",
    "    [[ 1.  0.  0.  0.  0.]\n",
    "     [ 0. -1.  0.  0.  0.]\n",
    "     [ 0.  0.  1.  0.  0.]\n",
    "     [ 0.  0.  0. -1.  0.]\n",
    "     [ 0.  0.  0.  0.  1.]]"
   ]
  },
  {
   "cell_type": "code",
   "execution_count": 30,
   "metadata": {
    "execution": {
     "iopub.execute_input": "2025-09-10T15:10:25.712091Z",
     "iopub.status.busy": "2025-09-10T15:10:25.711950Z",
     "iopub.status.idle": "2025-09-10T15:10:25.715429Z",
     "shell.execute_reply": "2025-09-10T15:10:25.715024Z",
     "shell.execute_reply.started": "2025-09-10T15:10:25.712078Z"
    }
   },
   "outputs": [
    {
     "name": "stdout",
     "output_type": "stream",
     "text": [
      "[[ 0.66666667 -0.66666667  0.33333333]\n",
      " [ 0.33333333  0.66666667  0.66666667]\n",
      " [-0.66666667 -0.33333333  0.66666667]] \n",
      "\n",
      "[[ 3.  9.]\n",
      " [-0.  6.]\n",
      " [ 0. -0.]]\n"
     ]
    }
   ],
   "source": [
    "# Test case I for givens_qr\n",
    "A = np.array([[2,2], [1,7], [-2, -8]])\n",
    "Q, R = givens_qr(A)\n",
    "print(Q, \"\\n\")\n",
    "print(R)"
   ]
  },
  {
   "cell_type": "markdown",
   "metadata": {
    "deletable": false,
    "editable": false,
    "nbgrader": {
     "cell_type": "markdown",
     "checksum": "19c6e979d19839ef2e2a90110579de32",
     "grade": false,
     "grade_id": "cell-f23606159gjx538k",
     "locked": true,
     "schema_version": 3,
     "solution": false,
     "task": false
    }
   },
   "source": [
    "Expected output:\n",
    "\n",
    "    [[ 0.66666667 -0.66666667  0.33333333]\n",
    "     [ 0.33333333  0.66666667  0.66666667]\n",
    "     [-0.66666667 -0.33333333  0.66666667]]\n",
    "     \n",
    "    [[3. 9.]\n",
    "     [0. 6.]\n",
    "     [0. 0.]]"
   ]
  },
  {
   "cell_type": "code",
   "execution_count": 31,
   "metadata": {
    "execution": {
     "iopub.execute_input": "2025-09-10T15:10:25.716157Z",
     "iopub.status.busy": "2025-09-10T15:10:25.716008Z",
     "iopub.status.idle": "2025-09-10T15:10:25.719495Z",
     "shell.execute_reply": "2025-09-10T15:10:25.719082Z",
     "shell.execute_reply.started": "2025-09-10T15:10:25.716143Z"
    }
   },
   "outputs": [
    {
     "name": "stdout",
     "output_type": "stream",
     "text": [
      "[[-0.5  0.5  0.5  0.5]\n",
      " [ 0.5  0.5 -0.5  0.5]\n",
      " [ 0.5  0.5  0.5 -0.5]\n",
      " [-0.5  0.5 -0.5 -0.5]] \n",
      "\n",
      "[[ 2. -5.  2.]\n",
      " [ 0.  3. -2.]\n",
      " [-0. -0.  2.]\n",
      " [ 0. -0.  0.]]\n"
     ]
    }
   ],
   "source": [
    "# Test case II\n",
    "B = np.array([[-1, 4, -1], [1, -1, -1], [1, -1, 1], [-1, 4, -3]])\n",
    "Q, R = givens_qr(B)\n",
    "print(Q, \"\\n\")\n",
    "print(R)"
   ]
  },
  {
   "cell_type": "markdown",
   "metadata": {
    "deletable": false,
    "editable": false,
    "nbgrader": {
     "cell_type": "markdown",
     "checksum": "e6247d015b4c0fa97134d8fa28e9354d",
     "grade": false,
     "grade_id": "cell-c4715ed289da04kv",
     "locked": true,
     "schema_version": 3,
     "solution": false,
     "task": false
    }
   },
   "source": [
    "Expected output:\n",
    "\n",
    "    [[-0.5  0.5  0.5  0.5]\n",
    "     [ 0.5  0.5 -0.5  0.5]\n",
    "     [ 0.5  0.5  0.5 -0.5]\n",
    "     [-0.5  0.5 -0.5 -0.5]] \n",
    "\n",
    "    [[ 2. -5.  2.]\n",
    "     [-0.  3. -2.]\n",
    "     [-0.  0.  2.]\n",
    "     [-0.  0.  0.]]"
   ]
  },
  {
   "cell_type": "code",
   "execution_count": 32,
   "metadata": {
    "deletable": false,
    "editable": false,
    "execution": {
     "iopub.execute_input": "2025-09-10T15:10:25.720228Z",
     "iopub.status.busy": "2025-09-10T15:10:25.720030Z",
     "iopub.status.idle": "2025-09-10T15:10:25.724559Z",
     "shell.execute_reply": "2025-09-10T15:10:25.724158Z",
     "shell.execute_reply.started": "2025-09-10T15:10:25.720214Z"
    },
    "nbgrader": {
     "cell_type": "code",
     "checksum": "dd51c30c12f906dc9211f07e500304ed",
     "grade": true,
     "grade_id": "cell-edb7ddd2e9b3151a",
     "locked": true,
     "points": 2,
     "schema_version": 3,
     "solution": false,
     "task": false
    }
   },
   "outputs": [],
   "source": [
    "# AUTOGRADER for givens_rotation\n",
    "Q_1 = givens_rotation(1, 2, 3, -4, 3)\n",
    "assert np.allclose(Q_1, 1/5 * np.array([[5, 0, 0], [0, 3, -4], [0, 4, 3]]))\n",
    "\n",
    "Q_2 = givens_rotation(1, 2, 5, 12, 4)\n",
    "assert np.allclose(Q_2, 1/13 * np.array([[13, 0, 0, 0], [0, 5, 12, 0], [0,-12, 5, 0], [0, 0, 0, 13]]))\n",
    "\n",
    "Q_3 = givens_rotation(1, 3, -4, 0, 5)\n",
    "assert np.allclose(Q_3, np.array([[1, 0, 0, 0, 0], [0, -1, 0, 0, 0], [0, 0, 1, 0, 0], [0, 0, 0, -1, 0],\n",
    "                                        [0, 0, 0, 0, 1]]))"
   ]
  },
  {
   "cell_type": "code",
   "execution_count": 33,
   "metadata": {
    "deletable": false,
    "editable": false,
    "execution": {
     "iopub.execute_input": "2025-09-10T15:10:25.725194Z",
     "iopub.status.busy": "2025-09-10T15:10:25.725048Z",
     "iopub.status.idle": "2025-09-10T15:10:25.728739Z",
     "shell.execute_reply": "2025-09-10T15:10:25.728350Z",
     "shell.execute_reply.started": "2025-09-10T15:10:25.725180Z"
    },
    "nbgrader": {
     "cell_type": "code",
     "checksum": "3239bf10d81a04668ba01d12c0b62438",
     "grade": true,
     "grade_id": "cell-d8d9e67e40002561",
     "locked": true,
     "points": 3,
     "schema_version": 3,
     "solution": false,
     "task": false
    }
   },
   "outputs": [],
   "source": [
    "# AUTOGRADER for givens_qr\n",
    "A = np.array([[2,2], [1,7], [-2, -8]])\n",
    "Q, R = givens_qr(A)\n",
    "Q_exact, R_exact = 1/3*np.array([[2, -2, 1], [1, 2, 2], [-2, -1, 2]]), np.array([[3, 9], [0, 6], [0, 0]])\n",
    "\n",
    "assert np.allclose(Q, Q_exact)\n",
    "assert np.allclose(R, R_exact)\n"
   ]
  },
  {
   "cell_type": "markdown",
   "metadata": {
    "deletable": false,
    "editable": false,
    "nbgrader": {
     "cell_type": "markdown",
     "checksum": "543bd89c867f09b5ea4053dfea2746a9",
     "grade": false,
     "grade_id": "cell-e4209771b18ba267",
     "locked": true,
     "schema_version": 3,
     "solution": false,
     "task": false
    }
   },
   "source": [
    "## Optional: Modified Gram-Schmidt Algorithm and Triangular Orthogonalization\n",
    "### Feel free to skip.\n",
    "\n",
    "The classical Gram-Schmidt algorithm is numerically unstable, which means that when implemented on a computer, round-off errors can cause the output vectors to be significantly non-orthogonal. This instability can be improved with a small adjustment to the algorithm. In the literature this remedy is called the modified Gram-Schmidt method. Instead of doing\n",
    "$$v_k^\\perp = v_k - \\langle v_k, u_1 \\rangle u_1 - \\dots - \\langle v_k, u_{k-1}\\rangle u_{k-1}$$\n",
    "we do the orthogonalization step-by-step. The modified algorithm calculates $u_j$ by evaluating the following formulas in order:\n",
    "\\begin{align*}\n",
    "v_j^{(1)} &= v_j \\\\\n",
    "v_j^{(2)} &= v_j^{(1)} - \\langle v_j^{(1)}, u_1 \\rangle u_1 \\\\\n",
    "v_j^{(3)} &= v_j^{(2)} - \\langle v_j^{(2)}, u_2 \\rangle u_2 \\\\\n",
    "v_j^{(4)} &= v_j^{(3)} - \\langle v_j^{(3)}, u_3 \\rangle u_3 \\\\\n",
    "& ~~ \\vdots \\\\\n",
    "u_j = v_j^{(j)} &= v_j^{(j-1)} - \\langle v_j^{(j-1)}, u_{j-1} \\rangle u_{j-1}\n",
    "\\end{align*}\n",
    "\n",
    "Once a new $u_i$ is known, we can overwrite each $v_j^{(i)}$ to $v_j^{(i+1)}$ for each $j>i$. Each step of the modified Gram-Schmidt algorithm can be interpreted as a right-multiplication by a square upper-triangular matrix. For example, beginning with $A$, the first iteration multiplies the first column $v_1$ by $\\frac{1}{r_{11}} = \\frac{1}{\\|v_1\\|}$ and then subtracts $r_{1j} = \\langle v_j^{(1)}, u_1 \\rangle = \\frac{\\langle v_j, v_1 \\rangle}{\\|v_1\\|}$ times the result from each of the remaining columns $v_j$. This is equivalent to right-multiplication by a matrix $R_1$:\n",
    "\n",
    "$$AR_1 = \\begin{bmatrix}\\mid & \\mid & & \\mid \\\\ v_1 & v_2 & \\dots & v_m \\\\ \\mid & \\mid & & \\mid \\end{bmatrix} \\begin{bmatrix} \\frac{1}{r_{11}} & \\frac{-r_{12}}{r_{11}} & \\frac{-r_{13}}{r_{11}} & \\dots \\\\ & 1 &  & \\\\ & & 1 &  \\\\ & & & \\ddots \\end{bmatrix} = \\begin{bmatrix}\\mid & \\mid & & \\mid \\\\ u_1 & v_2^{(2)} & \\dots & v_m^{(2)} \\\\ \\mid & \\mid & & \\mid \\end{bmatrix}.$$\n",
    "\n",
    "Empty entries signify zeroes. In general, in step $i$ the algorithm subtracts $r_{ij}/r_{ii}$ times column $i$ of the current $A$ from columns $j > i$ and replaces column $i$ by $1/r_{ii}$ times itself. This corresponds to multiplication by an upper-triangular matrix $R_i$:\n",
    "$$R_2 = \\begin{bmatrix} 1 & & & \\\\ & \\frac{1}{r_{22}} & \\frac{-r_{23}}{r_{22}} & \\dots\\\\ & & 1 &  \\\\ & & & \\ddots \\end{bmatrix}, \\quad R_3 = \\begin{bmatrix} 1 & & & \\\\ & 1 & & \\\\ & & \\frac{1}{r_{33}} & \\dots \\\\ & & & \\ddots \\end{bmatrix}, \\quad \\dots$$\n",
    "Recall that\n",
    "\\begin{align*}\n",
    "r_{ii} &= \\| v_i^{(i)} \\|,  &&\\text{for } 1 \\leq i \\leq m;\\\\\n",
    "r_{ij} &= \\langle u_i, v_j^{(i)} \\rangle = \\frac{\\langle v_i^{(i)}, v_j^{(i)}\\rangle}{\\|v_i^{(i)}\\|},  &&\\text{for } 1 \\leq i < j \\leq m.\n",
    "\\end{align*}\n",
    "\n",
    "After $i$ multiplications we have\n",
    "$$A R_1 R_2 \\dots R_i = \\begin{bmatrix}\\mid & \\mid & & \\mid & \\mid & & \\mid \\\\ u_1 & u_2 & \\dots & u_i & v_{i+1}^{(i+1)} & \\dots & v_{m}^{(i+1)} \\\\ \\mid & \\mid & & \\mid & \\mid & & \\mid \\end{bmatrix}$$\n",
    "\n",
    "At the end of the iteration we have\n",
    "$$A R_1 R_2 \\dots R_n = Q,$$\n",
    "and equivalently $A = QR = Q (R_1 R_2 \\dots R_n)^{-1}.$ Hence the name triangular orthogonalization. "
   ]
  }
 ],
 "metadata": {
  "kernelspec": {
   "display_name": "Python 3.11",
   "language": "python",
   "name": "python311"
  },
  "language_info": {
   "codemirror_mode": {
    "name": "ipython",
    "version": 3
   },
   "file_extension": ".py",
   "mimetype": "text/x-python",
   "name": "python",
   "nbconvert_exporter": "python",
   "pygments_lexer": "ipython3",
   "version": "3.11.11"
  },
  "widgets": {
   "application/vnd.jupyter.widget-state+json": {
    "state": {},
    "version_major": 2,
    "version_minor": 0
   }
  }
 },
 "nbformat": 4,
 "nbformat_minor": 4
}
